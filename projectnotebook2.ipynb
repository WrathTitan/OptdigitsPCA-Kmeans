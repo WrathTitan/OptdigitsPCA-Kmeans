{
 "cells": [
  {
   "cell_type": "markdown",
   "id": "52b9ed65-3c59-4948-be21-be0affe95d62",
   "metadata": {},
   "source": [
    "# K means on Optdigits dataset\n",
    "Task - Apply PCA on Optdigits dataset. Choose features that explain 90% of the variance. Build a classifier using K-means, and calculate accuracy."
   ]
  },
  {
   "cell_type": "markdown",
   "id": "295867b9-850b-45da-9033-e6a2965a57ed",
   "metadata": {},
   "source": [
    "## Importing the required libraries"
   ]
  },
  {
   "cell_type": "code",
   "execution_count": 1,
   "id": "190a9899-e4b8-4362-bc9b-5fd6f873d83d",
   "metadata": {},
   "outputs": [],
   "source": [
    "import numpy as np\n",
    "import pandas as pd\n",
    "import matplotlib.pyplot as plt\n",
    "import seaborn as sns\n",
    "from sklearn.model_selection import train_test_split\n",
    "from sklearn.preprocessing import StandardScaler\n",
    "import random as rd"
   ]
  },
  {
   "cell_type": "markdown",
   "id": "77b5937c-c8fb-49d4-82da-e2f4014c5a7e",
   "metadata": {},
   "source": [
    "## Loading & Visualising the Dataset\n",
    "Here we are using pandas dataframe to load the data from the csv file"
   ]
  },
  {
   "cell_type": "code",
   "execution_count": 2,
   "id": "cf1bdeaf-72f4-4f3e-a9cb-3d5a5c94bb47",
   "metadata": {},
   "outputs": [
    {
     "data": {
      "text/html": [
       "<div>\n",
       "<style scoped>\n",
       "    .dataframe tbody tr th:only-of-type {\n",
       "        vertical-align: middle;\n",
       "    }\n",
       "\n",
       "    .dataframe tbody tr th {\n",
       "        vertical-align: top;\n",
       "    }\n",
       "\n",
       "    .dataframe thead th {\n",
       "        text-align: right;\n",
       "    }\n",
       "</style>\n",
       "<table border=\"1\" class=\"dataframe\">\n",
       "  <thead>\n",
       "    <tr style=\"text-align: right;\">\n",
       "      <th></th>\n",
       "      <th>input1</th>\n",
       "      <th>input2</th>\n",
       "      <th>input3</th>\n",
       "      <th>input4</th>\n",
       "      <th>input5</th>\n",
       "      <th>input6</th>\n",
       "      <th>input7</th>\n",
       "      <th>input8</th>\n",
       "      <th>input9</th>\n",
       "      <th>input10</th>\n",
       "      <th>...</th>\n",
       "      <th>input56</th>\n",
       "      <th>input57</th>\n",
       "      <th>input58</th>\n",
       "      <th>input59</th>\n",
       "      <th>input60</th>\n",
       "      <th>input61</th>\n",
       "      <th>input62</th>\n",
       "      <th>input63</th>\n",
       "      <th>input64</th>\n",
       "      <th>class</th>\n",
       "    </tr>\n",
       "  </thead>\n",
       "  <tbody>\n",
       "    <tr>\n",
       "      <th>0</th>\n",
       "      <td>0</td>\n",
       "      <td>1</td>\n",
       "      <td>6</td>\n",
       "      <td>15</td>\n",
       "      <td>12</td>\n",
       "      <td>1</td>\n",
       "      <td>0</td>\n",
       "      <td>0</td>\n",
       "      <td>0</td>\n",
       "      <td>7</td>\n",
       "      <td>...</td>\n",
       "      <td>0</td>\n",
       "      <td>0</td>\n",
       "      <td>0</td>\n",
       "      <td>6</td>\n",
       "      <td>14</td>\n",
       "      <td>7</td>\n",
       "      <td>1</td>\n",
       "      <td>0</td>\n",
       "      <td>0</td>\n",
       "      <td>0</td>\n",
       "    </tr>\n",
       "    <tr>\n",
       "      <th>1</th>\n",
       "      <td>0</td>\n",
       "      <td>0</td>\n",
       "      <td>10</td>\n",
       "      <td>16</td>\n",
       "      <td>6</td>\n",
       "      <td>0</td>\n",
       "      <td>0</td>\n",
       "      <td>0</td>\n",
       "      <td>0</td>\n",
       "      <td>7</td>\n",
       "      <td>...</td>\n",
       "      <td>0</td>\n",
       "      <td>0</td>\n",
       "      <td>0</td>\n",
       "      <td>10</td>\n",
       "      <td>16</td>\n",
       "      <td>15</td>\n",
       "      <td>3</td>\n",
       "      <td>0</td>\n",
       "      <td>0</td>\n",
       "      <td>0</td>\n",
       "    </tr>\n",
       "    <tr>\n",
       "      <th>2</th>\n",
       "      <td>0</td>\n",
       "      <td>0</td>\n",
       "      <td>8</td>\n",
       "      <td>15</td>\n",
       "      <td>16</td>\n",
       "      <td>13</td>\n",
       "      <td>0</td>\n",
       "      <td>0</td>\n",
       "      <td>0</td>\n",
       "      <td>1</td>\n",
       "      <td>...</td>\n",
       "      <td>0</td>\n",
       "      <td>0</td>\n",
       "      <td>0</td>\n",
       "      <td>9</td>\n",
       "      <td>14</td>\n",
       "      <td>0</td>\n",
       "      <td>0</td>\n",
       "      <td>0</td>\n",
       "      <td>0</td>\n",
       "      <td>7</td>\n",
       "    </tr>\n",
       "    <tr>\n",
       "      <th>3</th>\n",
       "      <td>0</td>\n",
       "      <td>0</td>\n",
       "      <td>0</td>\n",
       "      <td>3</td>\n",
       "      <td>11</td>\n",
       "      <td>16</td>\n",
       "      <td>0</td>\n",
       "      <td>0</td>\n",
       "      <td>0</td>\n",
       "      <td>0</td>\n",
       "      <td>...</td>\n",
       "      <td>0</td>\n",
       "      <td>0</td>\n",
       "      <td>0</td>\n",
       "      <td>0</td>\n",
       "      <td>1</td>\n",
       "      <td>15</td>\n",
       "      <td>2</td>\n",
       "      <td>0</td>\n",
       "      <td>0</td>\n",
       "      <td>4</td>\n",
       "    </tr>\n",
       "    <tr>\n",
       "      <th>4</th>\n",
       "      <td>0</td>\n",
       "      <td>0</td>\n",
       "      <td>5</td>\n",
       "      <td>14</td>\n",
       "      <td>4</td>\n",
       "      <td>0</td>\n",
       "      <td>0</td>\n",
       "      <td>0</td>\n",
       "      <td>0</td>\n",
       "      <td>0</td>\n",
       "      <td>...</td>\n",
       "      <td>0</td>\n",
       "      <td>0</td>\n",
       "      <td>0</td>\n",
       "      <td>4</td>\n",
       "      <td>12</td>\n",
       "      <td>14</td>\n",
       "      <td>7</td>\n",
       "      <td>0</td>\n",
       "      <td>0</td>\n",
       "      <td>6</td>\n",
       "    </tr>\n",
       "    <tr>\n",
       "      <th>...</th>\n",
       "      <td>...</td>\n",
       "      <td>...</td>\n",
       "      <td>...</td>\n",
       "      <td>...</td>\n",
       "      <td>...</td>\n",
       "      <td>...</td>\n",
       "      <td>...</td>\n",
       "      <td>...</td>\n",
       "      <td>...</td>\n",
       "      <td>...</td>\n",
       "      <td>...</td>\n",
       "      <td>...</td>\n",
       "      <td>...</td>\n",
       "      <td>...</td>\n",
       "      <td>...</td>\n",
       "      <td>...</td>\n",
       "      <td>...</td>\n",
       "      <td>...</td>\n",
       "      <td>...</td>\n",
       "      <td>...</td>\n",
       "      <td>...</td>\n",
       "    </tr>\n",
       "    <tr>\n",
       "      <th>5615</th>\n",
       "      <td>0</td>\n",
       "      <td>0</td>\n",
       "      <td>4</td>\n",
       "      <td>10</td>\n",
       "      <td>13</td>\n",
       "      <td>6</td>\n",
       "      <td>0</td>\n",
       "      <td>0</td>\n",
       "      <td>0</td>\n",
       "      <td>1</td>\n",
       "      <td>...</td>\n",
       "      <td>0</td>\n",
       "      <td>0</td>\n",
       "      <td>0</td>\n",
       "      <td>2</td>\n",
       "      <td>14</td>\n",
       "      <td>15</td>\n",
       "      <td>9</td>\n",
       "      <td>0</td>\n",
       "      <td>0</td>\n",
       "      <td>9</td>\n",
       "    </tr>\n",
       "    <tr>\n",
       "      <th>5616</th>\n",
       "      <td>0</td>\n",
       "      <td>0</td>\n",
       "      <td>6</td>\n",
       "      <td>16</td>\n",
       "      <td>13</td>\n",
       "      <td>11</td>\n",
       "      <td>1</td>\n",
       "      <td>0</td>\n",
       "      <td>0</td>\n",
       "      <td>0</td>\n",
       "      <td>...</td>\n",
       "      <td>0</td>\n",
       "      <td>0</td>\n",
       "      <td>0</td>\n",
       "      <td>6</td>\n",
       "      <td>16</td>\n",
       "      <td>14</td>\n",
       "      <td>6</td>\n",
       "      <td>0</td>\n",
       "      <td>0</td>\n",
       "      <td>0</td>\n",
       "    </tr>\n",
       "    <tr>\n",
       "      <th>5617</th>\n",
       "      <td>0</td>\n",
       "      <td>0</td>\n",
       "      <td>1</td>\n",
       "      <td>11</td>\n",
       "      <td>15</td>\n",
       "      <td>1</td>\n",
       "      <td>0</td>\n",
       "      <td>0</td>\n",
       "      <td>0</td>\n",
       "      <td>0</td>\n",
       "      <td>...</td>\n",
       "      <td>0</td>\n",
       "      <td>0</td>\n",
       "      <td>0</td>\n",
       "      <td>2</td>\n",
       "      <td>9</td>\n",
       "      <td>13</td>\n",
       "      <td>6</td>\n",
       "      <td>0</td>\n",
       "      <td>0</td>\n",
       "      <td>8</td>\n",
       "    </tr>\n",
       "    <tr>\n",
       "      <th>5618</th>\n",
       "      <td>0</td>\n",
       "      <td>0</td>\n",
       "      <td>2</td>\n",
       "      <td>10</td>\n",
       "      <td>7</td>\n",
       "      <td>0</td>\n",
       "      <td>0</td>\n",
       "      <td>0</td>\n",
       "      <td>0</td>\n",
       "      <td>0</td>\n",
       "      <td>...</td>\n",
       "      <td>0</td>\n",
       "      <td>0</td>\n",
       "      <td>0</td>\n",
       "      <td>5</td>\n",
       "      <td>12</td>\n",
       "      <td>16</td>\n",
       "      <td>12</td>\n",
       "      <td>0</td>\n",
       "      <td>0</td>\n",
       "      <td>9</td>\n",
       "    </tr>\n",
       "    <tr>\n",
       "      <th>5619</th>\n",
       "      <td>0</td>\n",
       "      <td>0</td>\n",
       "      <td>10</td>\n",
       "      <td>14</td>\n",
       "      <td>8</td>\n",
       "      <td>1</td>\n",
       "      <td>0</td>\n",
       "      <td>0</td>\n",
       "      <td>0</td>\n",
       "      <td>2</td>\n",
       "      <td>...</td>\n",
       "      <td>0</td>\n",
       "      <td>0</td>\n",
       "      <td>1</td>\n",
       "      <td>8</td>\n",
       "      <td>12</td>\n",
       "      <td>14</td>\n",
       "      <td>12</td>\n",
       "      <td>1</td>\n",
       "      <td>0</td>\n",
       "      <td>8</td>\n",
       "    </tr>\n",
       "  </tbody>\n",
       "</table>\n",
       "<p>5620 rows × 65 columns</p>\n",
       "</div>"
      ],
      "text/plain": [
       "      input1  input2  input3  input4  input5  input6  input7  input8  input9  \\\n",
       "0          0       1       6      15      12       1       0       0       0   \n",
       "1          0       0      10      16       6       0       0       0       0   \n",
       "2          0       0       8      15      16      13       0       0       0   \n",
       "3          0       0       0       3      11      16       0       0       0   \n",
       "4          0       0       5      14       4       0       0       0       0   \n",
       "...      ...     ...     ...     ...     ...     ...     ...     ...     ...   \n",
       "5615       0       0       4      10      13       6       0       0       0   \n",
       "5616       0       0       6      16      13      11       1       0       0   \n",
       "5617       0       0       1      11      15       1       0       0       0   \n",
       "5618       0       0       2      10       7       0       0       0       0   \n",
       "5619       0       0      10      14       8       1       0       0       0   \n",
       "\n",
       "      input10  ...  input56  input57  input58  input59  input60  input61  \\\n",
       "0           7  ...        0        0        0        6       14        7   \n",
       "1           7  ...        0        0        0       10       16       15   \n",
       "2           1  ...        0        0        0        9       14        0   \n",
       "3           0  ...        0        0        0        0        1       15   \n",
       "4           0  ...        0        0        0        4       12       14   \n",
       "...       ...  ...      ...      ...      ...      ...      ...      ...   \n",
       "5615        1  ...        0        0        0        2       14       15   \n",
       "5616        0  ...        0        0        0        6       16       14   \n",
       "5617        0  ...        0        0        0        2        9       13   \n",
       "5618        0  ...        0        0        0        5       12       16   \n",
       "5619        2  ...        0        0        1        8       12       14   \n",
       "\n",
       "      input62  input63  input64  class  \n",
       "0           1        0        0      0  \n",
       "1           3        0        0      0  \n",
       "2           0        0        0      7  \n",
       "3           2        0        0      4  \n",
       "4           7        0        0      6  \n",
       "...       ...      ...      ...    ...  \n",
       "5615        9        0        0      9  \n",
       "5616        6        0        0      0  \n",
       "5617        6        0        0      8  \n",
       "5618       12        0        0      9  \n",
       "5619       12        1        0      8  \n",
       "\n",
       "[5620 rows x 65 columns]"
      ]
     },
     "execution_count": 2,
     "metadata": {},
     "output_type": "execute_result"
    }
   ],
   "source": [
    "optdigits_df=pd.read_csv('optdigits_csv.csv') #Loading the dataset from the csv file\n",
    "optdigits_df"
   ]
  },
  {
   "cell_type": "markdown",
   "id": "900c1d2e-a6e5-49fb-af50-d98fa8ab6496",
   "metadata": {},
   "source": [
    "## Optdigits Dataset\n",
    "* Optdigits dataset is the dataset of 5620 optical character recognition images each of which is a digit from 0-9 and the class labels are are also from 0-9\n",
    "* Each image is a 8x8 image which flattens out to 64 elements. \n",
    "* Each row thus corresponds to the pixel value in that image and finally the last column in the dataset is its class label"
   ]
  },
  {
   "cell_type": "code",
   "execution_count": 3,
   "id": "955dc733-ebfb-4769-b301-6597a79f4fee",
   "metadata": {},
   "outputs": [
    {
     "name": "stdout",
     "output_type": "stream",
     "text": [
      "<class 'pandas.core.frame.DataFrame'>\n",
      "RangeIndex: 5620 entries, 0 to 5619\n",
      "Data columns (total 65 columns):\n",
      " #   Column   Non-Null Count  Dtype\n",
      "---  ------   --------------  -----\n",
      " 0   input1   5620 non-null   int64\n",
      " 1   input2   5620 non-null   int64\n",
      " 2   input3   5620 non-null   int64\n",
      " 3   input4   5620 non-null   int64\n",
      " 4   input5   5620 non-null   int64\n",
      " 5   input6   5620 non-null   int64\n",
      " 6   input7   5620 non-null   int64\n",
      " 7   input8   5620 non-null   int64\n",
      " 8   input9   5620 non-null   int64\n",
      " 9   input10  5620 non-null   int64\n",
      " 10  input11  5620 non-null   int64\n",
      " 11  input12  5620 non-null   int64\n",
      " 12  input13  5620 non-null   int64\n",
      " 13  input14  5620 non-null   int64\n",
      " 14  input15  5620 non-null   int64\n",
      " 15  input16  5620 non-null   int64\n",
      " 16  input17  5620 non-null   int64\n",
      " 17  input18  5620 non-null   int64\n",
      " 18  input19  5620 non-null   int64\n",
      " 19  input20  5620 non-null   int64\n",
      " 20  input21  5620 non-null   int64\n",
      " 21  input22  5620 non-null   int64\n",
      " 22  input23  5620 non-null   int64\n",
      " 23  input24  5620 non-null   int64\n",
      " 24  input25  5620 non-null   int64\n",
      " 25  input26  5620 non-null   int64\n",
      " 26  input27  5620 non-null   int64\n",
      " 27  input28  5620 non-null   int64\n",
      " 28  input29  5620 non-null   int64\n",
      " 29  input30  5620 non-null   int64\n",
      " 30  input31  5620 non-null   int64\n",
      " 31  input32  5620 non-null   int64\n",
      " 32  input33  5620 non-null   int64\n",
      " 33  input34  5620 non-null   int64\n",
      " 34  input35  5620 non-null   int64\n",
      " 35  input36  5620 non-null   int64\n",
      " 36  input37  5620 non-null   int64\n",
      " 37  input38  5620 non-null   int64\n",
      " 38  input39  5620 non-null   int64\n",
      " 39  input40  5620 non-null   int64\n",
      " 40  input41  5620 non-null   int64\n",
      " 41  input42  5620 non-null   int64\n",
      " 42  input43  5620 non-null   int64\n",
      " 43  input44  5620 non-null   int64\n",
      " 44  input45  5620 non-null   int64\n",
      " 45  input46  5620 non-null   int64\n",
      " 46  input47  5620 non-null   int64\n",
      " 47  input48  5620 non-null   int64\n",
      " 48  input49  5620 non-null   int64\n",
      " 49  input50  5620 non-null   int64\n",
      " 50  input51  5620 non-null   int64\n",
      " 51  input52  5620 non-null   int64\n",
      " 52  input53  5620 non-null   int64\n",
      " 53  input54  5620 non-null   int64\n",
      " 54  input55  5620 non-null   int64\n",
      " 55  input56  5620 non-null   int64\n",
      " 56  input57  5620 non-null   int64\n",
      " 57  input58  5620 non-null   int64\n",
      " 58  input59  5620 non-null   int64\n",
      " 59  input60  5620 non-null   int64\n",
      " 60  input61  5620 non-null   int64\n",
      " 61  input62  5620 non-null   int64\n",
      " 62  input63  5620 non-null   int64\n",
      " 63  input64  5620 non-null   int64\n",
      " 64  class    5620 non-null   int64\n",
      "dtypes: int64(65)\n",
      "memory usage: 2.8 MB\n"
     ]
    }
   ],
   "source": [
    "optdigits_df.info() #This gives the information about the type of data stored in the dataset and also provides information about the number of items that are empty (if any)"
   ]
  },
  {
   "cell_type": "code",
   "execution_count": 4,
   "id": "e40ad860-2676-4f90-a3d0-8af1109019f7",
   "metadata": {},
   "outputs": [
    {
     "data": {
      "text/html": [
       "<div>\n",
       "<style scoped>\n",
       "    .dataframe tbody tr th:only-of-type {\n",
       "        vertical-align: middle;\n",
       "    }\n",
       "\n",
       "    .dataframe tbody tr th {\n",
       "        vertical-align: top;\n",
       "    }\n",
       "\n",
       "    .dataframe thead th {\n",
       "        text-align: right;\n",
       "    }\n",
       "</style>\n",
       "<table border=\"1\" class=\"dataframe\">\n",
       "  <thead>\n",
       "    <tr style=\"text-align: right;\">\n",
       "      <th></th>\n",
       "      <th>input1</th>\n",
       "      <th>input2</th>\n",
       "      <th>input3</th>\n",
       "      <th>input4</th>\n",
       "      <th>input5</th>\n",
       "      <th>input6</th>\n",
       "      <th>input7</th>\n",
       "      <th>input8</th>\n",
       "      <th>input9</th>\n",
       "      <th>input10</th>\n",
       "      <th>...</th>\n",
       "      <th>input56</th>\n",
       "      <th>input57</th>\n",
       "      <th>input58</th>\n",
       "      <th>input59</th>\n",
       "      <th>input60</th>\n",
       "      <th>input61</th>\n",
       "      <th>input62</th>\n",
       "      <th>input63</th>\n",
       "      <th>input64</th>\n",
       "      <th>class</th>\n",
       "    </tr>\n",
       "  </thead>\n",
       "  <tbody>\n",
       "    <tr>\n",
       "      <th>count</th>\n",
       "      <td>5620.0</td>\n",
       "      <td>5620.000000</td>\n",
       "      <td>5620.000000</td>\n",
       "      <td>5620.000000</td>\n",
       "      <td>5620.000000</td>\n",
       "      <td>5620.000000</td>\n",
       "      <td>5620.000000</td>\n",
       "      <td>5620.000000</td>\n",
       "      <td>5620.000000</td>\n",
       "      <td>5620.000000</td>\n",
       "      <td>...</td>\n",
       "      <td>5620.000000</td>\n",
       "      <td>5620.000000</td>\n",
       "      <td>5620.000000</td>\n",
       "      <td>5620.000000</td>\n",
       "      <td>5620.000000</td>\n",
       "      <td>5620.000000</td>\n",
       "      <td>5620.000000</td>\n",
       "      <td>5620.000000</td>\n",
       "      <td>5620.000000</td>\n",
       "      <td>5620.000000</td>\n",
       "    </tr>\n",
       "    <tr>\n",
       "      <th>mean</th>\n",
       "      <td>0.0</td>\n",
       "      <td>0.302135</td>\n",
       "      <td>5.393238</td>\n",
       "      <td>11.815480</td>\n",
       "      <td>11.578292</td>\n",
       "      <td>5.593772</td>\n",
       "      <td>1.379359</td>\n",
       "      <td>0.138256</td>\n",
       "      <td>0.003203</td>\n",
       "      <td>1.971174</td>\n",
       "      <td>...</td>\n",
       "      <td>0.166904</td>\n",
       "      <td>0.000356</td>\n",
       "      <td>0.281851</td>\n",
       "      <td>5.760498</td>\n",
       "      <td>11.989680</td>\n",
       "      <td>11.572420</td>\n",
       "      <td>6.720819</td>\n",
       "      <td>2.093594</td>\n",
       "      <td>0.254093</td>\n",
       "      <td>4.495196</td>\n",
       "    </tr>\n",
       "    <tr>\n",
       "      <th>std</th>\n",
       "      <td>0.0</td>\n",
       "      <td>0.879962</td>\n",
       "      <td>4.672719</td>\n",
       "      <td>4.255952</td>\n",
       "      <td>4.462546</td>\n",
       "      <td>5.631149</td>\n",
       "      <td>3.356633</td>\n",
       "      <td>1.046998</td>\n",
       "      <td>0.090423</td>\n",
       "      <td>3.098815</td>\n",
       "      <td>...</td>\n",
       "      <td>0.843455</td>\n",
       "      <td>0.018863</td>\n",
       "      <td>0.929969</td>\n",
       "      <td>5.021145</td>\n",
       "      <td>4.347542</td>\n",
       "      <td>4.975675</td>\n",
       "      <td>5.815564</td>\n",
       "      <td>4.047959</td>\n",
       "      <td>1.418558</td>\n",
       "      <td>2.868131</td>\n",
       "    </tr>\n",
       "    <tr>\n",
       "      <th>min</th>\n",
       "      <td>0.0</td>\n",
       "      <td>0.000000</td>\n",
       "      <td>0.000000</td>\n",
       "      <td>0.000000</td>\n",
       "      <td>0.000000</td>\n",
       "      <td>0.000000</td>\n",
       "      <td>0.000000</td>\n",
       "      <td>0.000000</td>\n",
       "      <td>0.000000</td>\n",
       "      <td>0.000000</td>\n",
       "      <td>...</td>\n",
       "      <td>0.000000</td>\n",
       "      <td>0.000000</td>\n",
       "      <td>0.000000</td>\n",
       "      <td>0.000000</td>\n",
       "      <td>0.000000</td>\n",
       "      <td>0.000000</td>\n",
       "      <td>0.000000</td>\n",
       "      <td>0.000000</td>\n",
       "      <td>0.000000</td>\n",
       "      <td>0.000000</td>\n",
       "    </tr>\n",
       "    <tr>\n",
       "      <th>25%</th>\n",
       "      <td>0.0</td>\n",
       "      <td>0.000000</td>\n",
       "      <td>1.000000</td>\n",
       "      <td>10.000000</td>\n",
       "      <td>9.000000</td>\n",
       "      <td>0.000000</td>\n",
       "      <td>0.000000</td>\n",
       "      <td>0.000000</td>\n",
       "      <td>0.000000</td>\n",
       "      <td>0.000000</td>\n",
       "      <td>...</td>\n",
       "      <td>0.000000</td>\n",
       "      <td>0.000000</td>\n",
       "      <td>0.000000</td>\n",
       "      <td>1.000000</td>\n",
       "      <td>10.000000</td>\n",
       "      <td>9.000000</td>\n",
       "      <td>0.000000</td>\n",
       "      <td>0.000000</td>\n",
       "      <td>0.000000</td>\n",
       "      <td>2.000000</td>\n",
       "    </tr>\n",
       "    <tr>\n",
       "      <th>50%</th>\n",
       "      <td>0.0</td>\n",
       "      <td>0.000000</td>\n",
       "      <td>5.000000</td>\n",
       "      <td>13.000000</td>\n",
       "      <td>13.000000</td>\n",
       "      <td>4.000000</td>\n",
       "      <td>0.000000</td>\n",
       "      <td>0.000000</td>\n",
       "      <td>0.000000</td>\n",
       "      <td>0.000000</td>\n",
       "      <td>...</td>\n",
       "      <td>0.000000</td>\n",
       "      <td>0.000000</td>\n",
       "      <td>0.000000</td>\n",
       "      <td>5.000000</td>\n",
       "      <td>13.000000</td>\n",
       "      <td>13.000000</td>\n",
       "      <td>6.000000</td>\n",
       "      <td>0.000000</td>\n",
       "      <td>0.000000</td>\n",
       "      <td>4.000000</td>\n",
       "    </tr>\n",
       "    <tr>\n",
       "      <th>75%</th>\n",
       "      <td>0.0</td>\n",
       "      <td>0.000000</td>\n",
       "      <td>9.000000</td>\n",
       "      <td>15.000000</td>\n",
       "      <td>15.000000</td>\n",
       "      <td>10.000000</td>\n",
       "      <td>0.000000</td>\n",
       "      <td>0.000000</td>\n",
       "      <td>0.000000</td>\n",
       "      <td>3.000000</td>\n",
       "      <td>...</td>\n",
       "      <td>0.000000</td>\n",
       "      <td>0.000000</td>\n",
       "      <td>0.000000</td>\n",
       "      <td>10.000000</td>\n",
       "      <td>15.000000</td>\n",
       "      <td>16.000000</td>\n",
       "      <td>12.000000</td>\n",
       "      <td>2.000000</td>\n",
       "      <td>0.000000</td>\n",
       "      <td>7.000000</td>\n",
       "    </tr>\n",
       "    <tr>\n",
       "      <th>max</th>\n",
       "      <td>0.0</td>\n",
       "      <td>8.000000</td>\n",
       "      <td>16.000000</td>\n",
       "      <td>16.000000</td>\n",
       "      <td>16.000000</td>\n",
       "      <td>16.000000</td>\n",
       "      <td>16.000000</td>\n",
       "      <td>16.000000</td>\n",
       "      <td>5.000000</td>\n",
       "      <td>16.000000</td>\n",
       "      <td>...</td>\n",
       "      <td>13.000000</td>\n",
       "      <td>1.000000</td>\n",
       "      <td>10.000000</td>\n",
       "      <td>16.000000</td>\n",
       "      <td>16.000000</td>\n",
       "      <td>16.000000</td>\n",
       "      <td>16.000000</td>\n",
       "      <td>16.000000</td>\n",
       "      <td>16.000000</td>\n",
       "      <td>9.000000</td>\n",
       "    </tr>\n",
       "  </tbody>\n",
       "</table>\n",
       "<p>8 rows × 65 columns</p>\n",
       "</div>"
      ],
      "text/plain": [
       "       input1       input2       input3       input4       input5  \\\n",
       "count  5620.0  5620.000000  5620.000000  5620.000000  5620.000000   \n",
       "mean      0.0     0.302135     5.393238    11.815480    11.578292   \n",
       "std       0.0     0.879962     4.672719     4.255952     4.462546   \n",
       "min       0.0     0.000000     0.000000     0.000000     0.000000   \n",
       "25%       0.0     0.000000     1.000000    10.000000     9.000000   \n",
       "50%       0.0     0.000000     5.000000    13.000000    13.000000   \n",
       "75%       0.0     0.000000     9.000000    15.000000    15.000000   \n",
       "max       0.0     8.000000    16.000000    16.000000    16.000000   \n",
       "\n",
       "            input6       input7       input8       input9      input10  ...  \\\n",
       "count  5620.000000  5620.000000  5620.000000  5620.000000  5620.000000  ...   \n",
       "mean      5.593772     1.379359     0.138256     0.003203     1.971174  ...   \n",
       "std       5.631149     3.356633     1.046998     0.090423     3.098815  ...   \n",
       "min       0.000000     0.000000     0.000000     0.000000     0.000000  ...   \n",
       "25%       0.000000     0.000000     0.000000     0.000000     0.000000  ...   \n",
       "50%       4.000000     0.000000     0.000000     0.000000     0.000000  ...   \n",
       "75%      10.000000     0.000000     0.000000     0.000000     3.000000  ...   \n",
       "max      16.000000    16.000000    16.000000     5.000000    16.000000  ...   \n",
       "\n",
       "           input56      input57      input58      input59      input60  \\\n",
       "count  5620.000000  5620.000000  5620.000000  5620.000000  5620.000000   \n",
       "mean      0.166904     0.000356     0.281851     5.760498    11.989680   \n",
       "std       0.843455     0.018863     0.929969     5.021145     4.347542   \n",
       "min       0.000000     0.000000     0.000000     0.000000     0.000000   \n",
       "25%       0.000000     0.000000     0.000000     1.000000    10.000000   \n",
       "50%       0.000000     0.000000     0.000000     5.000000    13.000000   \n",
       "75%       0.000000     0.000000     0.000000    10.000000    15.000000   \n",
       "max      13.000000     1.000000    10.000000    16.000000    16.000000   \n",
       "\n",
       "           input61      input62      input63      input64        class  \n",
       "count  5620.000000  5620.000000  5620.000000  5620.000000  5620.000000  \n",
       "mean     11.572420     6.720819     2.093594     0.254093     4.495196  \n",
       "std       4.975675     5.815564     4.047959     1.418558     2.868131  \n",
       "min       0.000000     0.000000     0.000000     0.000000     0.000000  \n",
       "25%       9.000000     0.000000     0.000000     0.000000     2.000000  \n",
       "50%      13.000000     6.000000     0.000000     0.000000     4.000000  \n",
       "75%      16.000000    12.000000     2.000000     0.000000     7.000000  \n",
       "max      16.000000    16.000000    16.000000    16.000000     9.000000  \n",
       "\n",
       "[8 rows x 65 columns]"
      ]
     },
     "execution_count": 4,
     "metadata": {},
     "output_type": "execute_result"
    }
   ],
   "source": [
    "optdigits_df.describe() # This function describes each column of the dataset and give the count, mean, std, min, max value of all the elements in that column"
   ]
  },
  {
   "cell_type": "code",
   "execution_count": 5,
   "id": "e4b46ac0-8d4f-48ec-82d1-82ed30824d17",
   "metadata": {},
   "outputs": [
    {
     "data": {
      "text/html": [
       "<div>\n",
       "<style scoped>\n",
       "    .dataframe tbody tr th:only-of-type {\n",
       "        vertical-align: middle;\n",
       "    }\n",
       "\n",
       "    .dataframe tbody tr th {\n",
       "        vertical-align: top;\n",
       "    }\n",
       "\n",
       "    .dataframe thead th {\n",
       "        text-align: right;\n",
       "    }\n",
       "</style>\n",
       "<table border=\"1\" class=\"dataframe\">\n",
       "  <thead>\n",
       "    <tr style=\"text-align: right;\">\n",
       "      <th></th>\n",
       "      <th>input1</th>\n",
       "      <th>input2</th>\n",
       "      <th>input3</th>\n",
       "      <th>input4</th>\n",
       "      <th>input5</th>\n",
       "      <th>input6</th>\n",
       "      <th>input7</th>\n",
       "      <th>input8</th>\n",
       "      <th>input9</th>\n",
       "      <th>input10</th>\n",
       "      <th>...</th>\n",
       "      <th>input55</th>\n",
       "      <th>input56</th>\n",
       "      <th>input57</th>\n",
       "      <th>input58</th>\n",
       "      <th>input59</th>\n",
       "      <th>input60</th>\n",
       "      <th>input61</th>\n",
       "      <th>input62</th>\n",
       "      <th>input63</th>\n",
       "      <th>input64</th>\n",
       "    </tr>\n",
       "  </thead>\n",
       "  <tbody>\n",
       "    <tr>\n",
       "      <th>0</th>\n",
       "      <td>0</td>\n",
       "      <td>1</td>\n",
       "      <td>6</td>\n",
       "      <td>15</td>\n",
       "      <td>12</td>\n",
       "      <td>1</td>\n",
       "      <td>0</td>\n",
       "      <td>0</td>\n",
       "      <td>0</td>\n",
       "      <td>7</td>\n",
       "      <td>...</td>\n",
       "      <td>0</td>\n",
       "      <td>0</td>\n",
       "      <td>0</td>\n",
       "      <td>0</td>\n",
       "      <td>6</td>\n",
       "      <td>14</td>\n",
       "      <td>7</td>\n",
       "      <td>1</td>\n",
       "      <td>0</td>\n",
       "      <td>0</td>\n",
       "    </tr>\n",
       "    <tr>\n",
       "      <th>1</th>\n",
       "      <td>0</td>\n",
       "      <td>0</td>\n",
       "      <td>10</td>\n",
       "      <td>16</td>\n",
       "      <td>6</td>\n",
       "      <td>0</td>\n",
       "      <td>0</td>\n",
       "      <td>0</td>\n",
       "      <td>0</td>\n",
       "      <td>7</td>\n",
       "      <td>...</td>\n",
       "      <td>3</td>\n",
       "      <td>0</td>\n",
       "      <td>0</td>\n",
       "      <td>0</td>\n",
       "      <td>10</td>\n",
       "      <td>16</td>\n",
       "      <td>15</td>\n",
       "      <td>3</td>\n",
       "      <td>0</td>\n",
       "      <td>0</td>\n",
       "    </tr>\n",
       "    <tr>\n",
       "      <th>2</th>\n",
       "      <td>0</td>\n",
       "      <td>0</td>\n",
       "      <td>8</td>\n",
       "      <td>15</td>\n",
       "      <td>16</td>\n",
       "      <td>13</td>\n",
       "      <td>0</td>\n",
       "      <td>0</td>\n",
       "      <td>0</td>\n",
       "      <td>1</td>\n",
       "      <td>...</td>\n",
       "      <td>0</td>\n",
       "      <td>0</td>\n",
       "      <td>0</td>\n",
       "      <td>0</td>\n",
       "      <td>9</td>\n",
       "      <td>14</td>\n",
       "      <td>0</td>\n",
       "      <td>0</td>\n",
       "      <td>0</td>\n",
       "      <td>0</td>\n",
       "    </tr>\n",
       "    <tr>\n",
       "      <th>3</th>\n",
       "      <td>0</td>\n",
       "      <td>0</td>\n",
       "      <td>0</td>\n",
       "      <td>3</td>\n",
       "      <td>11</td>\n",
       "      <td>16</td>\n",
       "      <td>0</td>\n",
       "      <td>0</td>\n",
       "      <td>0</td>\n",
       "      <td>0</td>\n",
       "      <td>...</td>\n",
       "      <td>0</td>\n",
       "      <td>0</td>\n",
       "      <td>0</td>\n",
       "      <td>0</td>\n",
       "      <td>0</td>\n",
       "      <td>1</td>\n",
       "      <td>15</td>\n",
       "      <td>2</td>\n",
       "      <td>0</td>\n",
       "      <td>0</td>\n",
       "    </tr>\n",
       "    <tr>\n",
       "      <th>4</th>\n",
       "      <td>0</td>\n",
       "      <td>0</td>\n",
       "      <td>5</td>\n",
       "      <td>14</td>\n",
       "      <td>4</td>\n",
       "      <td>0</td>\n",
       "      <td>0</td>\n",
       "      <td>0</td>\n",
       "      <td>0</td>\n",
       "      <td>0</td>\n",
       "      <td>...</td>\n",
       "      <td>12</td>\n",
       "      <td>0</td>\n",
       "      <td>0</td>\n",
       "      <td>0</td>\n",
       "      <td>4</td>\n",
       "      <td>12</td>\n",
       "      <td>14</td>\n",
       "      <td>7</td>\n",
       "      <td>0</td>\n",
       "      <td>0</td>\n",
       "    </tr>\n",
       "    <tr>\n",
       "      <th>...</th>\n",
       "      <td>...</td>\n",
       "      <td>...</td>\n",
       "      <td>...</td>\n",
       "      <td>...</td>\n",
       "      <td>...</td>\n",
       "      <td>...</td>\n",
       "      <td>...</td>\n",
       "      <td>...</td>\n",
       "      <td>...</td>\n",
       "      <td>...</td>\n",
       "      <td>...</td>\n",
       "      <td>...</td>\n",
       "      <td>...</td>\n",
       "      <td>...</td>\n",
       "      <td>...</td>\n",
       "      <td>...</td>\n",
       "      <td>...</td>\n",
       "      <td>...</td>\n",
       "      <td>...</td>\n",
       "      <td>...</td>\n",
       "      <td>...</td>\n",
       "    </tr>\n",
       "    <tr>\n",
       "      <th>5615</th>\n",
       "      <td>0</td>\n",
       "      <td>0</td>\n",
       "      <td>4</td>\n",
       "      <td>10</td>\n",
       "      <td>13</td>\n",
       "      <td>6</td>\n",
       "      <td>0</td>\n",
       "      <td>0</td>\n",
       "      <td>0</td>\n",
       "      <td>1</td>\n",
       "      <td>...</td>\n",
       "      <td>4</td>\n",
       "      <td>0</td>\n",
       "      <td>0</td>\n",
       "      <td>0</td>\n",
       "      <td>2</td>\n",
       "      <td>14</td>\n",
       "      <td>15</td>\n",
       "      <td>9</td>\n",
       "      <td>0</td>\n",
       "      <td>0</td>\n",
       "    </tr>\n",
       "    <tr>\n",
       "      <th>5616</th>\n",
       "      <td>0</td>\n",
       "      <td>0</td>\n",
       "      <td>6</td>\n",
       "      <td>16</td>\n",
       "      <td>13</td>\n",
       "      <td>11</td>\n",
       "      <td>1</td>\n",
       "      <td>0</td>\n",
       "      <td>0</td>\n",
       "      <td>0</td>\n",
       "      <td>...</td>\n",
       "      <td>1</td>\n",
       "      <td>0</td>\n",
       "      <td>0</td>\n",
       "      <td>0</td>\n",
       "      <td>6</td>\n",
       "      <td>16</td>\n",
       "      <td>14</td>\n",
       "      <td>6</td>\n",
       "      <td>0</td>\n",
       "      <td>0</td>\n",
       "    </tr>\n",
       "    <tr>\n",
       "      <th>5617</th>\n",
       "      <td>0</td>\n",
       "      <td>0</td>\n",
       "      <td>1</td>\n",
       "      <td>11</td>\n",
       "      <td>15</td>\n",
       "      <td>1</td>\n",
       "      <td>0</td>\n",
       "      <td>0</td>\n",
       "      <td>0</td>\n",
       "      <td>0</td>\n",
       "      <td>...</td>\n",
       "      <td>0</td>\n",
       "      <td>0</td>\n",
       "      <td>0</td>\n",
       "      <td>0</td>\n",
       "      <td>2</td>\n",
       "      <td>9</td>\n",
       "      <td>13</td>\n",
       "      <td>6</td>\n",
       "      <td>0</td>\n",
       "      <td>0</td>\n",
       "    </tr>\n",
       "    <tr>\n",
       "      <th>5618</th>\n",
       "      <td>0</td>\n",
       "      <td>0</td>\n",
       "      <td>2</td>\n",
       "      <td>10</td>\n",
       "      <td>7</td>\n",
       "      <td>0</td>\n",
       "      <td>0</td>\n",
       "      <td>0</td>\n",
       "      <td>0</td>\n",
       "      <td>0</td>\n",
       "      <td>...</td>\n",
       "      <td>2</td>\n",
       "      <td>0</td>\n",
       "      <td>0</td>\n",
       "      <td>0</td>\n",
       "      <td>5</td>\n",
       "      <td>12</td>\n",
       "      <td>16</td>\n",
       "      <td>12</td>\n",
       "      <td>0</td>\n",
       "      <td>0</td>\n",
       "    </tr>\n",
       "    <tr>\n",
       "      <th>5619</th>\n",
       "      <td>0</td>\n",
       "      <td>0</td>\n",
       "      <td>10</td>\n",
       "      <td>14</td>\n",
       "      <td>8</td>\n",
       "      <td>1</td>\n",
       "      <td>0</td>\n",
       "      <td>0</td>\n",
       "      <td>0</td>\n",
       "      <td>2</td>\n",
       "      <td>...</td>\n",
       "      <td>8</td>\n",
       "      <td>0</td>\n",
       "      <td>0</td>\n",
       "      <td>1</td>\n",
       "      <td>8</td>\n",
       "      <td>12</td>\n",
       "      <td>14</td>\n",
       "      <td>12</td>\n",
       "      <td>1</td>\n",
       "      <td>0</td>\n",
       "    </tr>\n",
       "  </tbody>\n",
       "</table>\n",
       "<p>5620 rows × 64 columns</p>\n",
       "</div>"
      ],
      "text/plain": [
       "      input1  input2  input3  input4  input5  input6  input7  input8  input9  \\\n",
       "0          0       1       6      15      12       1       0       0       0   \n",
       "1          0       0      10      16       6       0       0       0       0   \n",
       "2          0       0       8      15      16      13       0       0       0   \n",
       "3          0       0       0       3      11      16       0       0       0   \n",
       "4          0       0       5      14       4       0       0       0       0   \n",
       "...      ...     ...     ...     ...     ...     ...     ...     ...     ...   \n",
       "5615       0       0       4      10      13       6       0       0       0   \n",
       "5616       0       0       6      16      13      11       1       0       0   \n",
       "5617       0       0       1      11      15       1       0       0       0   \n",
       "5618       0       0       2      10       7       0       0       0       0   \n",
       "5619       0       0      10      14       8       1       0       0       0   \n",
       "\n",
       "      input10  ...  input55  input56  input57  input58  input59  input60  \\\n",
       "0           7  ...        0        0        0        0        6       14   \n",
       "1           7  ...        3        0        0        0       10       16   \n",
       "2           1  ...        0        0        0        0        9       14   \n",
       "3           0  ...        0        0        0        0        0        1   \n",
       "4           0  ...       12        0        0        0        4       12   \n",
       "...       ...  ...      ...      ...      ...      ...      ...      ...   \n",
       "5615        1  ...        4        0        0        0        2       14   \n",
       "5616        0  ...        1        0        0        0        6       16   \n",
       "5617        0  ...        0        0        0        0        2        9   \n",
       "5618        0  ...        2        0        0        0        5       12   \n",
       "5619        2  ...        8        0        0        1        8       12   \n",
       "\n",
       "      input61  input62  input63  input64  \n",
       "0           7        1        0        0  \n",
       "1          15        3        0        0  \n",
       "2           0        0        0        0  \n",
       "3          15        2        0        0  \n",
       "4          14        7        0        0  \n",
       "...       ...      ...      ...      ...  \n",
       "5615       15        9        0        0  \n",
       "5616       14        6        0        0  \n",
       "5617       13        6        0        0  \n",
       "5618       16       12        0        0  \n",
       "5619       14       12        1        0  \n",
       "\n",
       "[5620 rows x 64 columns]"
      ]
     },
     "execution_count": 5,
     "metadata": {},
     "output_type": "execute_result"
    }
   ],
   "source": [
    "data_features=optdigits_df.iloc[:,:64] #Here we are selecing the first 64 columns which contains our data\n",
    "data_features"
   ]
  },
  {
   "cell_type": "code",
   "execution_count": 6,
   "id": "9168c915-effb-4af7-ba00-7302f9c75d6a",
   "metadata": {},
   "outputs": [
    {
     "data": {
      "text/html": [
       "<div>\n",
       "<style scoped>\n",
       "    .dataframe tbody tr th:only-of-type {\n",
       "        vertical-align: middle;\n",
       "    }\n",
       "\n",
       "    .dataframe tbody tr th {\n",
       "        vertical-align: top;\n",
       "    }\n",
       "\n",
       "    .dataframe thead th {\n",
       "        text-align: right;\n",
       "    }\n",
       "</style>\n",
       "<table border=\"1\" class=\"dataframe\">\n",
       "  <thead>\n",
       "    <tr style=\"text-align: right;\">\n",
       "      <th></th>\n",
       "      <th>class</th>\n",
       "    </tr>\n",
       "  </thead>\n",
       "  <tbody>\n",
       "    <tr>\n",
       "      <th>0</th>\n",
       "      <td>0</td>\n",
       "    </tr>\n",
       "    <tr>\n",
       "      <th>1</th>\n",
       "      <td>0</td>\n",
       "    </tr>\n",
       "    <tr>\n",
       "      <th>2</th>\n",
       "      <td>7</td>\n",
       "    </tr>\n",
       "    <tr>\n",
       "      <th>3</th>\n",
       "      <td>4</td>\n",
       "    </tr>\n",
       "    <tr>\n",
       "      <th>4</th>\n",
       "      <td>6</td>\n",
       "    </tr>\n",
       "    <tr>\n",
       "      <th>...</th>\n",
       "      <td>...</td>\n",
       "    </tr>\n",
       "    <tr>\n",
       "      <th>5615</th>\n",
       "      <td>9</td>\n",
       "    </tr>\n",
       "    <tr>\n",
       "      <th>5616</th>\n",
       "      <td>0</td>\n",
       "    </tr>\n",
       "    <tr>\n",
       "      <th>5617</th>\n",
       "      <td>8</td>\n",
       "    </tr>\n",
       "    <tr>\n",
       "      <th>5618</th>\n",
       "      <td>9</td>\n",
       "    </tr>\n",
       "    <tr>\n",
       "      <th>5619</th>\n",
       "      <td>8</td>\n",
       "    </tr>\n",
       "  </tbody>\n",
       "</table>\n",
       "<p>5620 rows × 1 columns</p>\n",
       "</div>"
      ],
      "text/plain": [
       "      class\n",
       "0         0\n",
       "1         0\n",
       "2         7\n",
       "3         4\n",
       "4         6\n",
       "...     ...\n",
       "5615      9\n",
       "5616      0\n",
       "5617      8\n",
       "5618      9\n",
       "5619      8\n",
       "\n",
       "[5620 rows x 1 columns]"
      ]
     },
     "execution_count": 6,
     "metadata": {},
     "output_type": "execute_result"
    }
   ],
   "source": [
    "data_labels=optdigits_df.iloc[:,64:] #Here we are selecing the last column which contains the labels associated with our data\n",
    "data_labels"
   ]
  },
  {
   "cell_type": "code",
   "execution_count": 7,
   "id": "a39bda78-9472-408d-9105-cc7828617ecd",
   "metadata": {},
   "outputs": [],
   "source": [
    "firstimage=data_features.iloc[0,:].to_numpy().reshape(8,8) #Here we are taking the first row and reshaping it into the size of the original image and then visualising it"
   ]
  },
  {
   "cell_type": "code",
   "execution_count": 8,
   "id": "c48eddbf-1a10-4ed9-98fe-e41a7fa57802",
   "metadata": {},
   "outputs": [
    {
     "data": {
      "text/plain": [
       "<matplotlib.image.AxesImage at 0x7f4236b89340>"
      ]
     },
     "execution_count": 8,
     "metadata": {},
     "output_type": "execute_result"
    },
    {
     "data": {
      "image/png": "[encoded data removed]",
      "text/plain": [
       "<Figure size 432x288 with 1 Axes>"
      ]
     },
     "metadata": {
      "needs_background": "light"
     },
     "output_type": "display_data"
    }
   ],
   "source": [
    "plt.imshow(firstimage) #This function visualises the image"
   ]
  },
  {
   "cell_type": "code",
   "execution_count": 9,
   "id": "fd803b55-0dcf-49f1-8eb3-59657b644119",
   "metadata": {},
   "outputs": [
    {
     "name": "stdout",
     "output_type": "stream",
     "text": [
      "Label of this first image :  0\n"
     ]
    }
   ],
   "source": [
    "print(\"Label of this first image : \",int(data_labels.iloc[0])) #Here we are printing the label associated with the first image"
   ]
  },
  {
   "cell_type": "code",
   "execution_count": 10,
   "id": "22493377-c5a2-478e-b980-b39ff6e8fda5",
   "metadata": {},
   "outputs": [
    {
     "name": "stdout",
     "output_type": "stream",
     "text": [
      "        count       mean        std   min        25%        50%        75%  \\\n",
      "count    65.0  65.000000  65.000000  65.0  65.000000  65.000000  65.000000   \n",
      "mean   5620.0   4.904843   3.673705   0.0   1.784615   4.753846   7.769231   \n",
      "std       0.0   4.189976   2.288066   0.0   2.874958   5.031249   6.587795   \n",
      "min    5620.0   0.000000   0.000000   0.0   0.000000   0.000000   0.000000   \n",
      "25%    5620.0   0.281851   1.046998   0.0   0.000000   0.000000   0.000000   \n",
      "50%    5620.0   4.495196   4.255952   0.0   0.000000   4.000000   7.000000   \n",
      "75%    5620.0   9.033808   5.825809   0.0   3.000000  10.000000  15.000000   \n",
      "max    5620.0  11.989680   6.518238   0.0  10.000000  13.000000  16.000000   \n",
      "\n",
      "             max  \n",
      "count  65.000000  \n",
      "mean   13.323077  \n",
      "std     5.006582  \n",
      "min     0.000000  \n",
      "25%    14.000000  \n",
      "50%    16.000000  \n",
      "75%    16.000000  \n",
      "max    16.000000  \n"
     ]
    },
    {
     "data": {
      "text/plain": [
       "<AxesSubplot:title={'center':'Maximum of Inputs'}, xlabel='Inputs', ylabel='Maximum'>"
      ]
     },
     "execution_count": 10,
     "metadata": {},
     "output_type": "execute_result"
    },
    {
     "data": {
      "image/png": "[encoded data removed]",
      "text/plain": [
       "<Figure size 1440x720 with 1 Axes>"
      ]
     },
     "metadata": {
      "needs_background": "light"
     },
     "output_type": "display_data"
    }
   ],
   "source": [
    "b=optdigits_df.describe() #Here we are describing the dataset and hence using it's max value to plot our bar graph that helps visualise the range of values that our dataset covers\n",
    "trans=b.T\n",
    "fig=plt.figure(figsize=(20,10))\n",
    "plt.xlabel('Inputs')\n",
    "plt.ylabel('Maximum')\n",
    "plt.title('Maximum of Inputs')\n",
    "print(trans.describe())\n",
    "trans['max'].plot(kind='bar')"
   ]
  },
  {
   "cell_type": "code",
   "execution_count": 11,
   "id": "20570685-6ec2-4dd9-a069-90e6fcaf91d7",
   "metadata": {},
   "outputs": [
    {
     "name": "stdout",
     "output_type": "stream",
     "text": [
      "        count       mean        std   min        25%        50%        75%  \\\n",
      "count    65.0  65.000000  65.000000  65.0  65.000000  65.000000  65.000000   \n",
      "mean   5620.0   4.904843   3.673705   0.0   1.784615   4.753846   7.769231   \n",
      "std       0.0   4.189976   2.288066   0.0   2.874958   5.031249   6.587795   \n",
      "min    5620.0   0.000000   0.000000   0.0   0.000000   0.000000   0.000000   \n",
      "25%    5620.0   0.281851   1.046998   0.0   0.000000   0.000000   0.000000   \n",
      "50%    5620.0   4.495196   4.255952   0.0   0.000000   4.000000   7.000000   \n",
      "75%    5620.0   9.033808   5.825809   0.0   3.000000  10.000000  15.000000   \n",
      "max    5620.0  11.989680   6.518238   0.0  10.000000  13.000000  16.000000   \n",
      "\n",
      "             max  \n",
      "count  65.000000  \n",
      "mean   13.323077  \n",
      "std     5.006582  \n",
      "min     0.000000  \n",
      "25%    14.000000  \n",
      "50%    16.000000  \n",
      "75%    16.000000  \n",
      "max    16.000000  \n"
     ]
    },
    {
     "data": {
      "text/plain": [
       "<AxesSubplot:title={'center':'Mean of inputs'}, xlabel='Inputs', ylabel='Mean'>"
      ]
     },
     "execution_count": 11,
     "metadata": {},
     "output_type": "execute_result"
    },
    {
     "data": {
      "image/png": "[encoded data removed]",
      "text/plain": [
       "<Figure size 1440x720 with 1 Axes>"
      ]
     },
     "metadata": {
      "needs_background": "light"
     },
     "output_type": "display_data"
    }
   ],
   "source": [
    "b=optdigits_df.describe() #Here we are describing the dataset and then taking the mean of the columns and plotting it in a bar graph. This helps visualise the mean values across all the columns in our dataset\n",
    "trans=b.T\n",
    "fig=plt.figure(figsize=(20,10))\n",
    "plt.xlabel('Inputs')\n",
    "plt.ylabel('Mean')\n",
    "plt.title('Mean of inputs')\n",
    "print(trans.describe())\n",
    "trans['mean'].plot(kind='bar')"
   ]
  },
  {
   "cell_type": "code",
   "execution_count": 12,
   "id": "13d21db9-78d3-4048-8859-8819988178c4",
   "metadata": {},
   "outputs": [],
   "source": [
    "def test_train_splitter(reduced_data_features):\n",
    "    train,test = train_test_split(reduced_data_features,test_size=0.20, random_state=1)\n",
    "    division = train.shape[1] - 1\n",
    "    train_without_label = train.iloc[:,0:division].values \n",
    "    train_with_label = train.iloc[:,:].values\n",
    "    test_data = test.iloc[:,0:division].values  \n",
    "    test_label = test.iloc[:,division].values \n",
    "    return train_with_label,train_without_label,test_data,test_label"
   ]
  },
  {
   "cell_type": "markdown",
   "id": "92147368-8961-45cc-87d7-7bddbdc4db50",
   "metadata": {},
   "source": [
    "### Visualizing points based on their features"
   ]
  },
  {
   "cell_type": "markdown",
   "id": "ceb52147-2480-4b75-8f56-3b94336a59d9",
   "metadata": {},
   "source": [
    "## Centroid initialization\n",
    "In this step centroids are initialized.    \n",
    "It is ensured that centroids are initialized from each digit. \n",
    "Like centroid 0 will have data whose label is 0 and so on.\n",
    "This ensures that every digit has a cluster which it can be classified."
   ]
  },
  {
   "cell_type": "code",
   "execution_count": 13,
   "id": "68f27882-da2c-45b7-a2fd-e19ffecc73fc",
   "metadata": {},
   "outputs": [],
   "source": [
    "def centroid_initialization(train_with_label,train_without_label):    \n",
    "    i = 0\n",
    "    Centroids=np.array([]).reshape(no_of_features,0)\n",
    "    while(i<10):\n",
    "        rand=rd.randint(0,m-1)\n",
    "        # A point is guessed and label is correlated with i whose value varies from 0 - 10\n",
    "        # If value of label is mached with i it is added in centroids\n",
    "        # i is incremented\n",
    "        # This step help us ensure that in cluster 0 centroid with feature whose label is 0 is assigned\n",
    "        # This helps us as cluster zero most probably will point to digit 0\n",
    "        if(train_with_label[rand,no_of_features] == i):\n",
    "            Centroids=np.c_[Centroids,train_without_label[rand]]\n",
    "            i = i + 1\n",
    "    return Centroids"
   ]
  },
  {
   "cell_type": "code",
   "execution_count": 14,
   "id": "3885520d-d6c0-4a95-87bd-e4832ceab958",
   "metadata": {},
   "outputs": [],
   "source": [
    "def visualize_50_digits_in_cluster(Output):\n",
    "    for j in range(0,10):\n",
    "        plt.figure(figsize=(30,10))\n",
    "        print('Cluster ' + str(j))\n",
    "        numOfRows = 50\n",
    "        print(str(Output[j].shape[1]) + \" elements\")\n",
    "        for i in range(0,50):\n",
    "            plt.subplot(5+1,10,i+1)\n",
    "            image = Output[j][0:no_of_features,i]\n",
    "            image = image.reshape(8,8)\n",
    "            plt.imshow(image,cmap='gray')\n",
    "            plt.axis('off')\n",
    "        plt.show()"
   ]
  },
  {
   "cell_type": "markdown",
   "id": "337f061c-1750-4b6b-a729-1496ce45e613",
   "metadata": {},
   "source": [
    "## K-Means Algorithm\n",
    "From centroid EuclidianDistance is calculated with each Point and a cluster is assigned to a point based on the shortest distance with the cluster.  \n",
    "Mean is calculated from each point in a respective centroid and is used as a new centroid.   "
   ]
  },
  {
   "cell_type": "code",
   "execution_count": 15,
   "id": "eea94d90-4379-44fb-b59a-0b66078b649e",
   "metadata": {},
   "outputs": [],
   "source": [
    "def kmeans_algorithm(train_with_label,train_without_label,Centroids):\n",
    "    num_iter=100\n",
    "    Output={} #output that will store each point in a cluster\n",
    "    for n in range(100):\n",
    "        EuclidianDistance=np.array([]).reshape(m,0)\n",
    "        for k in range(K):\n",
    "            tempDist=np.sum((train_without_label-Centroids[:,k])**2,axis=1)\n",
    "            EuclidianDistance=np.c_[EuclidianDistance,tempDist]\n",
    "        C=np.argmin(EuclidianDistance,axis=1) # cluster for each point based on shortest distance from a centroid \n",
    "        #Calculating new mean\n",
    "        Z={}\n",
    "        for k in range(K):\n",
    "            Z[k]=np.array([]).reshape(no_of_features,0)\n",
    "            Output[k]=np.array([]).reshape(no_of_features+1,0)\n",
    "        for i in range(m):\n",
    "            Z[C[i]]=np.c_[Z[C[i]],train_without_label[i]]\n",
    "            Output[C[i]]=np.c_[Output[C[i]],train_with_label[i]]     \n",
    "        for k in range(K):\n",
    "            Z[k]=Z[k].T\n",
    "        for k in range(K):\n",
    "            Centroids[:,k]=np.mean(Z[k],axis=0)\n",
    "        return Output"
   ]
  },
  {
   "cell_type": "code",
   "execution_count": 16,
   "id": "5c1bc6bd-184c-4343-9a22-4e20a0d9bf47",
   "metadata": {},
   "outputs": [],
   "source": [
    "train_with_label,train_without_label,test_data,test_label = test_train_splitter(optdigits_df)\n",
    "m = train_without_label.shape[0] #no. of points in training dataset\n",
    "no_of_features = train_without_label.shape[1] #number of features\n",
    "K=10 #number of clusters\n",
    "Centroids = centroid_initialization(train_with_label,train_without_label)\n",
    "Output = kmeans_algorithm(train_with_label,train_without_label,Centroids)"
   ]
  },
  {
   "cell_type": "code",
   "execution_count": 17,
   "id": "32f63c39-2831-421b-872c-d62b27860bd9",
   "metadata": {},
   "outputs": [
    {
     "name": "stdout",
     "output_type": "stream",
     "text": [
      "Cluster 0\n",
      "440 elements\n"
     ]
    },
    {
     "data": {
      "image/png": "[encoded data removed]",
      "text/plain": [
       "<Figure size 2160x720 with 50 Axes>"
      ]
     },
     "metadata": {
      "needs_background": "light"
     },
     "output_type": "display_data"
    },
    {
     "name": "stdout",
     "output_type": "stream",
     "text": [
      "Cluster 1\n",
      "335 elements\n"
     ]
    },
    {
     "data": {
      "image/png": "[encoded data removed]",
      "text/plain": [
       "<Figure size 2160x720 with 50 Axes>"
      ]
     },
     "metadata": {
      "needs_background": "light"
     },
     "output_type": "display_data"
    },
    {
     "name": "stdout",
     "output_type": "stream",
     "text": [
      "Cluster 2\n",
      "416 elements\n"
     ]
    },
    {
     "data": {
      "image/png": "[encoded data removed]",
      "text/plain": [
       "<Figure size 2160x720 with 50 Axes>"
      ]
     },
     "metadata": {
      "needs_background": "light"
     },
     "output_type": "display_data"
    },
    {
     "name": "stdout",
     "output_type": "stream",
     "text": [
      "Cluster 3\n",
      "384 elements\n"
     ]
    },
    {
     "data": {
      "image/png": "[encoded data removed]",
      "text/plain": [
       "<Figure size 2160x720 with 50 Axes>"
      ]
     },
     "metadata": {
      "needs_background": "light"
     },
     "output_type": "display_data"
    },
    {
     "name": "stdout",
     "output_type": "stream",
     "text": [
      "Cluster 4\n",
      "405 elements\n"
     ]
    },
    {
     "data": {
      "image/png": "[encoded data removed]",
      "text/plain": [
       "<Figure size 2160x720 with 50 Axes>"
      ]
     },
     "metadata": {
      "needs_background": "light"
     },
     "output_type": "display_data"
    },
    {
     "name": "stdout",
     "output_type": "stream",
     "text": [
      "Cluster 5\n",
      "502 elements\n"
     ]
    },
    {
     "data": {
      "image/png": "[encoded data removed]",
      "text/plain": [
       "<Figure size 2160x720 with 50 Axes>"
      ]
     },
     "metadata": {
      "needs_background": "light"
     },
     "output_type": "display_data"
    },
    {
     "name": "stdout",
     "output_type": "stream",
     "text": [
      "Cluster 6\n",
      "466 elements\n"
     ]
    },
    {
     "data": {
      "image/png": "[encoded data removed]",
      "text/plain": [
       "<Figure size 2160x720 with 50 Axes>"
      ]
     },
     "metadata": {
      "needs_background": "light"
     },
     "output_type": "display_data"
    },
    {
     "name": "stdout",
     "output_type": "stream",
     "text": [
      "Cluster 7\n",
      "480 elements\n"
     ]
    },
    {
     "data": {
      "image/png": "[encoded data removed]",
      "text/plain": [
       "<Figure size 2160x720 with 50 Axes>"
      ]
     },
     "metadata": {
      "needs_background": "light"
     },
     "output_type": "display_data"
    },
    {
     "name": "stdout",
     "output_type": "stream",
     "text": [
      "Cluster 8\n",
      "879 elements\n"
     ]
    },
    {
     "data": {
      "image/png": "[encoded data removed]",
      "text/plain": [
       "<Figure size 2160x720 with 50 Axes>"
      ]
     },
     "metadata": {
      "needs_background": "light"
     },
     "output_type": "display_data"
    },
    {
     "name": "stdout",
     "output_type": "stream",
     "text": [
      "Cluster 9\n",
      "189 elements\n"
     ]
    },
    {
     "data": {
      "image/png": "[encoded data removed]",
      "text/plain": [
       "<Figure size 2160x720 with 50 Axes>"
      ]
     },
     "metadata": {
      "needs_background": "light"
     },
     "output_type": "display_data"
    }
   ],
   "source": [
    "visualize_50_digits_in_cluster(Output)"
   ]
  },
  {
   "cell_type": "markdown",
   "id": "2c01738b-ef11-461e-9068-b397c68534e1",
   "metadata": {},
   "source": [
    "## Applying PCA\n",
    "We are applying PCA to the entire dataset to reduce size from 64 features to some features that explain 90% of variance. \n",
    "1. We start by scaling and normalising the dataset. We make sure that each column has 0 mean and is standardised to unit variance.\n",
    "2. Once done we can begin our Principal Component Analysis.\n",
    "3. We find the eigen values and corresponding eigen vectors from the covariance matrix of the dataset. We then sort the eigen values in decreasing order along with their corresponding eigen vectors.\n",
    "4. We then find out how many components explain around 90% of the variance. (As per the question) In our case we find that number to be around 32 components.\n",
    "5. The original data is then recasted (or projected) onto the principal components and then returned back from the function.\n",
    "6. The function below also visualises the cumulative variance explained by the features on the dataset."
   ]
  },
  {
   "cell_type": "code",
   "execution_count": 18,
   "id": "e7f40597-efb0-4dff-98bd-719c329d349d",
   "metadata": {},
   "outputs": [],
   "source": [
    "def normalising_function(X):\n",
    "    X_standard=StandardScaler().fit_transform(X)  #Scaling the dataset so that the range of values will be the same for all columns and thus helps in computation of values\n",
    "    X_mean=np.mean(X_standard,axis=0)    #Finding the mean \n",
    "    X_cov=(X_standard - X_mean).T.dot((X_standard - X_mean))/(X_standard.shape[0]-1)  #Finding the covariance matrix\n",
    "    return X_standard,X_mean,X_cov #returning the calculted matrices"
   ]
  },
  {
   "cell_type": "code",
   "execution_count": 19,
   "id": "037e4924-3dc0-4187-841e-5dd90581d54b",
   "metadata": {},
   "outputs": [],
   "source": [
    "def Principal_Component_Analysis(X):\n",
    "    X_standard,X_mean,X_cov=normalising_function(X) #Storing the retunned matrices from the normalising_function()\n",
    "    \n",
    "    X_standard=X_standard-X_standard.mean(axis=0) #Subtracting the mean of each column from the dataset\n",
    "    \n",
    "    fig=plt.figure(figsize=(10,10))\n",
    "    sns.heatmap(pd.DataFrame(X_cov))  #Creating a heatmap of the covariance matrix\n",
    "    plt.show()\n",
    "    \n",
    "    eigenvalues, eigenvectors = np.linalg.eig(X_cov)  #Computing the eigen values and eigen vectors from the covariance matrix\n",
    "    \n",
    "    #The eigen vector corresponding to an eigen value is made into a pair and stored\n",
    "    unsorted_eigen_value_vector_pair=[(np.abs(eigenvalues[i]),eigenvectors[:,i]) for i in range(len(eigenvalues))]\n",
    "    #Then it is sorted in the descreasing order and we get out eigen value-vector pair\n",
    "    sorted_eigen_value_vector_pair=sorted(unsorted_eigen_value_vector_pair, reverse=True, key=lambda x:x[0])\n",
    "\n",
    "    #Plotting a heatmap of the eigen vector pairs\n",
    "    #This helps in visualing which eigen vectors are more prominent\n",
    "    #As the more prominent value in the heatmap is the one which has greater intensity\n",
    "    fig=plt.figure(figsize=(15,4))\n",
    "    sns.heatmap(pd.DataFrame([pair[1] for pair in sorted_eigen_value_vector_pair[0:21]]),annot=False,cmap='coolwarm',vmin=-0.5,vmax=0.5)\n",
    "    plt.ylabel(\"Ranked Eigen Values\")\n",
    "    plt.xlabel(\"Eigen Vector Components\")\n",
    "    plt.show()\n",
    "    \n",
    "    #We are calculating the variance explained by each eigen value\n",
    "    lam_sum=sum(eigenvalues)\n",
    "    explained_variance=[(lam_k/lam_sum) for lam_k in sorted(eigenvalues,reverse=True)]\n",
    "    \n",
    "    #Cumulatively a certain number of features will help explain the entire dataset\n",
    "    #Here we are creating a scree graph to show the explained variance ratio\n",
    "    plt.figure(figsize=(6,4))\n",
    "    plt.bar(range(len(explained_variance)),explained_variance,alpha=0.5,align='center',label='Individual Explained variance $\\lambda_{k}$')\n",
    "    plt.ylabel('Explained variance ratio')\n",
    "    plt.xlabel('Ranked Principal Components')\n",
    "    plt.title('Scree Graph')\n",
    "    plt.legend(loc='best')\n",
    "    plt.tight_layout()\n",
    "    \n",
    "    #This graph is cumulatively showing the variance explained by the features\n",
    "    #As required in the question we can see from the graph that around 0.9 of variance is explained by around 30-35 of the features\n",
    "    fig = plt.figure(figsize=(6,4))\n",
    "    ax1 = fig.add_subplot(111)\n",
    "    ax1.plot(np.cumsum(explained_variance))\n",
    "    ax1.set_ylim([0,1.0])\n",
    "    ax1.set_xlabel('Number of Principal Components')\n",
    "    ax1.set_ylabel('Cumulative explained variance')\n",
    "    ax1.set_title('Explained Variance')\n",
    "    plt.show()\n",
    "\n",
    "    #We are printing the column indexes and the variance they explain\n",
    "    #Once again this is a cumulative value\n",
    "    #This is done to solidify our assumption that the principal components that explain 90% of variance are actually the first 32 eigen value-vector pairs\n",
    "    print(\"\\nCumulative variance explained by the features is shown here:\")\n",
    "    print([(j, np.cumsum(explained_variance)[j]) for j in range(len(explained_variance[:64]))])\n",
    "    \n",
    "    print(\"\\nChoosing 5 Principal Components explains : \",np.cumsum(explained_variance)[5], \"% of variance\")\n",
    "    print(\"Choosing 25 Principal Components explains : \",np.cumsum(explained_variance)[25], \"% of variance\")\n",
    "    print(\"Choosing 32 Principal Components explains : \",np.cumsum(explained_variance)[32], \"% of variance\\n\")\n",
    "\n",
    "    \n",
    "    #Finally we are creating our W.Transpose matrix of the most important components \n",
    "    #This will be multiplied with the dataset to reduce the features (because we are recasting or projecting the original dataset onto these principal components)\n",
    "    matW = np.hstack( pair[1].reshape(64,1) for pair in sorted_eigen_value_vector_pair[0:32])#[0:4] originally\n",
    "    print(\"\\nShape of W.T matrix : \",matW.shape)\n",
    "\n",
    "    #Multipling and returning the reduced features matrix\n",
    "    Z = X_standard.dot(matW)\n",
    "    print(\"Shape of returned features : \",Z.shape)\n",
    "    \n",
    "    return Z"
   ]
  },
  {
   "cell_type": "code",
   "execution_count": 20,
   "id": "bb8c41e6-e377-44fb-9efa-4af0a61c23aa",
   "metadata": {},
   "outputs": [
    {
     "data": {
      "image/png": "[encoded data removed]",
      "text/plain": [
       "<Figure size 720x720 with 2 Axes>"
      ]
     },
     "metadata": {
      "needs_background": "light"
     },
     "output_type": "display_data"
    },
    {
     "data": {
      "image/png": "[encoded data removed]",
      "text/plain": [
       "<Figure size 1080x288 with 2 Axes>"
      ]
     },
     "metadata": {
      "needs_background": "light"
     },
     "output_type": "display_data"
    },
    {
     "data": {
      "image/png": "[encoded data removed]",
      "text/plain": [
       "<Figure size 432x288 with 1 Axes>"
      ]
     },
     "metadata": {
      "needs_background": "light"
     },
     "output_type": "display_data"
    },
    {
     "data": {
      "image/png": "[encoded data removed]",
      "text/plain": [
       "<Figure size 432x288 with 1 Axes>"
      ]
     },
     "metadata": {
      "needs_background": "light"
     },
     "output_type": "display_data"
    },
    {
     "name": "stdout",
     "output_type": "stream",
     "text": [
      "\n",
      "Cumulative variance explained by the features is shown here:\n",
      "[(0, 0.1160585797154409), (1, 0.2177601161233071), (2, 0.29578207686805946), (3, 0.35416783000474455), (4, 0.4028966124322764), (5, 0.44732825852903496), (6, 0.4859160266769499), (7, 0.5198848369593643), (8, 0.5483551098075372), (9, 0.574995876122954), (10, 0.600791131611671), (11, 0.6247551798844069), (12, 0.6477193692540997), (13, 0.668685735427811), (14, 0.6885398127457846), (15, 0.7077989429543592), (16, 0.7261948184902292), (17, 0.7441058853585977), (18, 0.7602160774689605), (19, 0.7755830961228702), (20, 0.7899864215896472), (21, 0.8034997499836579), (22, 0.8161341726764699), (23, 0.8275074818130193), (24, 0.8377775153578138), (25, 0.8479138853061887), (26, 0.8577568820173247), (27, 0.8669996538302908), (28, 0.875787099796972), (29, 0.884024846987981), (30, 0.8920763295816025), (31, 0.8993835342378766), (32, 0.9065040948562836), (33, 0.9128090575023754), (34, 0.9189694607140555), (35, 0.9250051689185175), (36, 0.9305572579937734), (37, 0.9356905701531131), (38, 0.9406399162788724), (39, 0.9451641217487706), (40, 0.949551253706758), (41, 0.953657440829655), (42, 0.9575914865459986), (43, 0.9611015132313436), (44, 0.9645444751051261), (45, 0.9678161669603799), (46, 0.970973200873114), (47, 0.9738504221410914), (48, 0.9765103305602447), (49, 0.9791145547724748), (50, 0.9816180889305679), (51, 0.9840378468191951), (52, 0.9862521784607212), (53, 0.9883185000074297), (54, 0.9902138154186735), (55, 0.9920627950820871), (56, 0.993736373552779), (57, 0.9953147893332539), (58, 0.9967483989226964), (59, 0.9980105926293009), (60, 0.9990569705141487), (61, 0.9999999999999997), (62, 0.9999999999999997), (63, 0.9999999999999997)]\n",
      "\n",
      "Choosing 5 Principal Components explains :  0.44732825852903496 % of variance\n",
      "Choosing 25 Principal Components explains :  0.8479138853061887 % of variance\n",
      "Choosing 32 Principal Components explains :  0.9065040948562836 % of variance\n",
      "\n",
      "\n",
      "Shape of W.T matrix :  (64, 32)\n",
      "Shape of returned features :  (5620, 32)\n"
     ]
    },
    {
     "name": "stderr",
     "output_type": "stream",
     "text": [
      "<ipython-input-19-32acd23bccd2>:64: FutureWarning: arrays to stack must be passed as a \"sequence\" type such as list or tuple. Support for non-sequence iterables such as generators is deprecated as of NumPy 1.16 and will raise an error in the future.\n",
      "  matW = np.hstack( pair[1].reshape(64,1) for pair in sorted_eigen_value_vector_pair[0:32])#[0:4] originally\n"
     ]
    }
   ],
   "source": [
    "reduced_data_features=Principal_Component_Analysis(data_features)"
   ]
  },
  {
   "cell_type": "code",
   "execution_count": 21,
   "id": "19afa610-dc3f-46c4-a780-50af00faabfe",
   "metadata": {},
   "outputs": [
    {
     "data": {
      "text/plain": [
       "(5620, 32)"
      ]
     },
     "execution_count": 21,
     "metadata": {},
     "output_type": "execute_result"
    }
   ],
   "source": [
    "reduced_data_features.shape"
   ]
  },
  {
   "cell_type": "code",
   "execution_count": 22,
   "id": "5d83aa83-c91f-4410-9725-01d22d7c0191",
   "metadata": {},
   "outputs": [],
   "source": [
    "pca_reduced_dataset = pd.DataFrame(reduced_data_features) "
   ]
  },
  {
   "cell_type": "code",
   "execution_count": 23,
   "id": "ef39d19a",
   "metadata": {},
   "outputs": [],
   "source": [
    "pca_reduced_dataset['label'] =data_labels"
   ]
  },
  {
   "cell_type": "markdown",
   "id": "082000e1-1e16-4b87-9286-5f4987b8fde7",
   "metadata": {},
   "source": [
    "## To perform Kmeans algorithm one has to follow these steps:\n",
    "1. Decide the number of cluster in our case there are 10 digits to be classified so 10 clusters.\n",
    "2. Initialize the centroid\n",
    "3. Assign to each point in the dataset a centroid, respective centroid are assigned to each point by calculating the shortest distance between centroid and point.\n",
    "4. Calculate the new centroid by calculating mean of all points assigned to the centroid.\n",
    "5. Repeat the algorithm till value in centroid doesnt change"
   ]
  },
  {
   "cell_type": "markdown",
   "id": "c88cad83-a438-42e6-85de-afd05e0b1da0",
   "metadata": {},
   "source": [
    "### Showing all digits present in a cluster based on their labels"
   ]
  },
  {
   "cell_type": "code",
   "execution_count": 24,
   "id": "f29877f9-4aec-47c7-b1fc-6dd3a3a71c5c",
   "metadata": {},
   "outputs": [],
   "source": [
    "def print_number_in_all_cluster(Output):\n",
    "    for i  in range(0,10):\n",
    "        print(\"cluster \"+str(i))\n",
    "        print(\"Number of elements in a cluster: \" + str(Output[i].shape[1]))\n",
    "        print(Output[i][no_of_features,:])"
   ]
  },
  {
   "cell_type": "markdown",
   "id": "78c42053-9d7d-44fb-85fd-4975425d0e95",
   "metadata": {},
   "source": [
    "## Measuring Accuracy\n",
    "The accuracy is Measured by calculating which cluster the data belongs and assigning the value of the respective cluster.  \n",
    "Comparing how many are correctly identified and dividing with number of test data."
   ]
  },
  {
   "cell_type": "code",
   "execution_count": 25,
   "id": "d7b12ac7-88c0-4630-8eda-9ba114b83db7",
   "metadata": {},
   "outputs": [],
   "source": [
    "def measuring_accuracy(Centroids,test_data,test_label):\n",
    "    #using the centroids calculated from training data we calculate the least distance using eucladian norm \n",
    "    # the point whose distance is least to a centroid the point is assigned to that centroid\n",
    "    number_of_test_data = test_data.shape[0]\n",
    "    EuclidianDistance=np.array([]).reshape(number_of_test_data,0)\n",
    "    for k in range(K):\n",
    "        tempDist=np.sum((test_data-Centroids[:,k])**2,axis=1)\n",
    "        EuclidianDistance=np.c_[EuclidianDistance,tempDist]\n",
    "    predicted_value=np.argmin(EuclidianDistance,axis=1) #tells to which cluster data point is assigned\n",
    "    number_of_correct_prediction = 0\n",
    "    for i in range(0,predicted_value.shape[0]):\n",
    "        if(predicted_value[i] == test_label[i]): #comapring the cluster value to actual label we find number of correct prediction\n",
    "            number_of_correct_prediction = number_of_correct_prediction + 1\n",
    "    accuracy = number_of_correct_prediction/number_of_test_data * 100\n",
    "    print('Accurcy in test Dataset:')\n",
    "    print(accuracy)"
   ]
  },
  {
   "cell_type": "code",
   "execution_count": 26,
   "id": "56ffbc24-c757-4ca4-b43f-ab52e0cf06de",
   "metadata": {},
   "outputs": [],
   "source": [
    "train_with_label,train_without_label,test_data,test_label = test_train_splitter(pca_reduced_dataset)\n",
    "m = train_without_label.shape[0] #no. of points in training dataset\n",
    "no_of_features = train_without_label.shape[1] #number of features\n",
    "K=10 #number of clusters\n",
    "Centroids = centroid_initialization(train_with_label,train_without_label)\n",
    "Output = kmeans_algorithm(train_with_label,train_without_label,Centroids)"
   ]
  },
  {
   "cell_type": "code",
   "execution_count": 27,
   "id": "61a4dac1-5aea-4bd3-b541-589bbd8ca9e0",
   "metadata": {},
   "outputs": [
    {
     "name": "stdout",
     "output_type": "stream",
     "text": [
      "cluster 0\n",
      "Number of elements in a cluster: 542\n",
      "[0. 0. 0. 0. 0. 0. 0. 0. 0. 0. 0. 0. 4. 0. 0. 0. 6. 0. 0. 0. 0. 0. 0. 0.\n",
      " 0. 0. 0. 9. 0. 0. 9. 0. 4. 0. 4. 0. 4. 0. 4. 0. 0. 0. 0. 0. 0. 0. 0. 4.\n",
      " 0. 0. 0. 0. 0. 0. 4. 0. 0. 0. 2. 5. 0. 0. 0. 4. 0. 0. 0. 0. 6. 0. 0. 0.\n",
      " 4. 0. 0. 0. 0. 0. 0. 0. 0. 0. 0. 0. 0. 0. 0. 0. 4. 4. 6. 0. 0. 0. 0. 4.\n",
      " 6. 0. 0. 0. 0. 0. 0. 0. 0. 0. 0. 0. 0. 0. 0. 0. 0. 0. 0. 0. 0. 4. 0. 0.\n",
      " 0. 0. 0. 4. 0. 0. 0. 0. 4. 0. 4. 6. 0. 0. 0. 0. 0. 6. 0. 0. 0. 0. 4. 0.\n",
      " 0. 0. 2. 0. 6. 0. 0. 0. 4. 4. 0. 0. 0. 0. 0. 0. 0. 9. 0. 9. 0. 0. 0. 0.\n",
      " 0. 0. 0. 0. 0. 9. 0. 0. 0. 0. 0. 0. 0. 0. 0. 0. 0. 0. 0. 0. 0. 0. 0. 0.\n",
      " 0. 9. 0. 0. 0. 0. 0. 0. 0. 0. 0. 0. 4. 0. 0. 0. 0. 0. 0. 0. 0. 3. 0. 0.\n",
      " 0. 0. 6. 0. 0. 0. 0. 0. 4. 0. 0. 0. 0. 6. 0. 0. 0. 0. 0. 0. 4. 0. 0. 0.\n",
      " 0. 0. 4. 0. 0. 0. 0. 0. 0. 0. 4. 0. 0. 9. 0. 0. 0. 4. 0. 0. 0. 0. 5. 0.\n",
      " 0. 0. 0. 5. 0. 4. 6. 0. 0. 0. 4. 0. 0. 0. 0. 0. 0. 4. 0. 0. 0. 4. 0. 0.\n",
      " 0. 0. 0. 4. 4. 0. 1. 4. 0. 0. 0. 0. 0. 0. 0. 0. 0. 4. 0. 0. 0. 0. 6. 0.\n",
      " 0. 4. 5. 6. 0. 0. 0. 6. 0. 0. 0. 4. 4. 0. 0. 0. 4. 0. 0. 0. 0. 0. 0. 0.\n",
      " 0. 6. 4. 0. 0. 0. 9. 0. 0. 0. 4. 0. 0. 0. 0. 0. 0. 0. 0. 0. 0. 0. 0. 0.\n",
      " 4. 0. 0. 0. 0. 4. 0. 0. 0. 4. 0. 0. 0. 0. 0. 0. 0. 6. 0. 0. 0. 0. 0. 0.\n",
      " 4. 0. 4. 0. 0. 0. 0. 0. 0. 9. 0. 0. 0. 9. 0. 4. 0. 0. 9. 0. 0. 0. 0. 0.\n",
      " 0. 0. 0. 0. 0. 0. 6. 0. 0. 0. 0. 4. 0. 0. 0. 5. 0. 0. 0. 4. 0. 0. 0. 0.\n",
      " 0. 0. 0. 0. 0. 0. 0. 0. 0. 0. 0. 0. 0. 0. 0. 0. 0. 0. 0. 0. 0. 0. 0. 0.\n",
      " 0. 0. 4. 0. 0. 0. 6. 0. 0. 4. 0. 0. 5. 0. 0. 0. 0. 0. 0. 0. 0. 4. 0. 4.\n",
      " 0. 0. 0. 0. 0. 0. 0. 0. 0. 9. 0. 0. 3. 0. 0. 0. 0. 0. 6. 0. 4. 0. 0. 0.\n",
      " 9. 0. 4. 0. 0. 0. 4. 0. 0. 0. 0. 6. 0. 6. 0. 6. 4. 0. 0. 0. 0. 0. 0. 0.\n",
      " 0. 0. 0. 0. 0. 0. 0. 0. 0. 0. 0. 0. 0. 0.]\n",
      "cluster 1\n",
      "Number of elements in a cluster: 817\n",
      "[1. 1. 5. 6. 1. 2. 2. 8. 3. 4. 4. 8. 4. 1. 1. 6. 2. 5. 1. 8. 2. 1. 5. 9.\n",
      " 1. 1. 2. 1. 1. 7. 1. 1. 1. 1. 2. 5. 6. 2. 1. 4. 2. 1. 8. 1. 5. 1. 7. 4.\n",
      " 4. 4. 1. 2. 2. 9. 4. 4. 4. 8. 8. 4. 4. 2. 4. 4. 1. 8. 2. 1. 9. 8. 1. 8.\n",
      " 4. 1. 1. 1. 1. 2. 8. 9. 5. 4. 2. 1. 7. 1. 1. 2. 1. 1. 2. 4. 3. 8. 1. 2.\n",
      " 8. 8. 4. 1. 1. 1. 4. 4. 1. 9. 1. 5. 1. 1. 8. 1. 1. 4. 1. 1. 8. 1. 4. 9.\n",
      " 1. 1. 8. 9. 4. 2. 1. 4. 4. 1. 8. 1. 4. 2. 5. 1. 1. 5. 5. 2. 8. 3. 4. 4.\n",
      " 1. 1. 8. 2. 1. 8. 1. 4. 3. 5. 1. 4. 1. 1. 1. 4. 4. 1. 2. 1. 8. 4. 4. 2.\n",
      " 2. 2. 2. 1. 8. 4. 1. 1. 7. 1. 2. 1. 1. 9. 2. 4. 9. 1. 1. 9. 5. 5. 2. 1.\n",
      " 9. 3. 4. 4. 4. 2. 1. 5. 4. 1. 2. 3. 2. 4. 1. 8. 4. 1. 1. 8. 8. 1. 1. 9.\n",
      " 1. 2. 1. 8. 8. 1. 1. 4. 5. 2. 2. 1. 8. 1. 1. 5. 1. 1. 8. 1. 4. 1. 2. 1.\n",
      " 1. 1. 4. 2. 4. 1. 1. 2. 8. 1. 2. 1. 1. 5. 1. 1. 1. 2. 8. 4. 2. 8. 1. 4.\n",
      " 4. 2. 5. 2. 1. 1. 8. 2. 1. 1. 1. 3. 1. 1. 4. 5. 1. 3. 8. 1. 1. 4. 5. 1.\n",
      " 2. 4. 2. 8. 7. 2. 4. 4. 5. 4. 9. 2. 4. 4. 2. 1. 5. 4. 1. 2. 4. 1. 2. 1.\n",
      " 4. 1. 1. 4. 3. 3. 1. 1. 5. 1. 4. 4. 1. 8. 8. 2. 9. 1. 1. 8. 8. 5. 8. 8.\n",
      " 7. 9. 4. 2. 4. 7. 1. 4. 5. 1. 1. 7. 2. 1. 1. 1. 5. 2. 8. 2. 1. 1. 1. 1.\n",
      " 1. 8. 1. 1. 8. 1. 1. 1. 2. 1. 1. 9. 7. 2. 8. 2. 1. 8. 1. 8. 1. 2. 1. 2.\n",
      " 1. 1. 2. 8. 4. 8. 4. 1. 1. 1. 4. 1. 4. 1. 5. 2. 1. 1. 1. 4. 1. 1. 8. 4.\n",
      " 4. 1. 1. 1. 1. 5. 1. 9. 8. 1. 1. 1. 1. 1. 4. 2. 1. 3. 1. 4. 1. 5. 2. 8.\n",
      " 4. 4. 1. 8. 1. 2. 4. 1. 4. 1. 8. 1. 1. 8. 1. 4. 4. 8. 1. 1. 8. 5. 1. 1.\n",
      " 1. 1. 1. 8. 1. 4. 1. 2. 1. 1. 4. 4. 7. 8. 8. 3. 4. 2. 1. 2. 2. 8. 1. 1.\n",
      " 8. 2. 4. 4. 1. 1. 1. 2. 1. 1. 2. 2. 8. 1. 1. 4. 1. 8. 4. 1. 4. 8. 1. 7.\n",
      " 1. 3. 8. 5. 8. 1. 1. 5. 8. 8. 2. 1. 2. 1. 1. 1. 4. 4. 1. 9. 1. 1. 1. 4.\n",
      " 5. 2. 9. 2. 1. 5. 1. 2. 4. 8. 8. 4. 9. 1. 4. 4. 4. 1. 8. 1. 1. 1. 9. 1.\n",
      " 5. 1. 9. 9. 1. 1. 7. 1. 5. 1. 2. 2. 1. 4. 1. 1. 4. 8. 2. 4. 4. 8. 2. 1.\n",
      " 4. 1. 2. 3. 3. 4. 1. 1. 4. 8. 1. 4. 1. 1. 1. 4. 4. 1. 8. 1. 4. 1. 4. 2.\n",
      " 2. 4. 1. 2. 3. 2. 1. 5. 1. 4. 1. 8. 1. 8. 1. 1. 1. 1. 7. 4. 1. 1. 1. 4.\n",
      " 8. 8. 1. 1. 1. 8. 1. 1. 4. 4. 1. 2. 5. 1. 1. 8. 8. 5. 8. 4. 1. 2. 1. 8.\n",
      " 5. 4. 1. 2. 4. 2. 1. 4. 2. 1. 4. 1. 2. 4. 1. 1. 4. 5. 1. 4. 1. 3. 2. 2.\n",
      " 1. 1. 4. 8. 1. 2. 1. 1. 2. 1. 1. 2. 1. 1. 1. 1. 2. 4. 2. 4. 4. 1. 4. 1.\n",
      " 1. 5. 1. 1. 1. 1. 1. 2. 4. 1. 8. 1. 1. 1. 4. 1. 2. 1. 1. 1. 2. 2. 1. 4.\n",
      " 1. 2. 1. 1. 2. 3. 2. 1. 2. 1. 4. 1. 1. 8. 1. 1. 1. 1. 7. 1. 1. 8. 2. 4.\n",
      " 1. 4. 4. 1. 4. 2. 1. 1. 4. 1. 1. 1. 4. 5. 1. 1. 1. 4. 1. 7. 1. 4. 9. 8.\n",
      " 7. 4. 1. 2. 2. 1. 8. 1. 1. 5. 2. 1. 1. 1. 1. 1. 2. 1. 7. 1. 8. 2. 4. 3.\n",
      " 4. 1. 1. 1. 3. 1. 4. 1. 8. 7. 5. 8. 1. 1. 1. 3. 8. 1. 1. 1. 4. 1. 1. 0.\n",
      " 1.]\n",
      "cluster 2\n",
      "Number of elements in a cluster: 221\n",
      "[2. 2. 8. 2. 2. 2. 8. 2. 2. 3. 2. 4. 8. 2. 4. 8. 8. 2. 2. 8. 2. 2. 2. 2.\n",
      " 2. 2. 2. 2. 2. 2. 8. 8. 2. 8. 8. 2. 2. 2. 2. 2. 2. 2. 2. 2. 2. 2. 2. 3.\n",
      " 2. 2. 2. 2. 2. 2. 2. 2. 8. 2. 2. 2. 8. 2. 2. 2. 2. 2. 0. 2. 5. 2. 2. 8.\n",
      " 8. 2. 2. 2. 2. 8. 2. 8. 2. 2. 2. 2. 2. 4. 2. 2. 4. 8. 2. 2. 2. 2. 2. 4.\n",
      " 2. 2. 8. 2. 4. 2. 4. 3. 9. 2. 2. 3. 8. 2. 8. 4. 2. 2. 2. 2. 2. 2. 8. 2.\n",
      " 2. 2. 8. 2. 2. 2. 2. 2. 8. 2. 2. 2. 2. 2. 2. 2. 8. 2. 2. 8. 8. 2. 2. 2.\n",
      " 2. 2. 3. 2. 8. 4. 2. 2. 2. 2. 8. 2. 2. 2. 2. 2. 2. 2. 2. 4. 2. 2. 2. 2.\n",
      " 8. 2. 2. 3. 4. 3. 2. 2. 2. 3. 2. 3. 2. 2. 2. 8. 2. 8. 2. 2. 2. 2. 2. 2.\n",
      " 2. 2. 2. 7. 8. 8. 2. 2. 2. 8. 8. 2. 2. 2. 2. 3. 2. 2. 2. 2. 2. 2. 8. 2.\n",
      " 2. 2. 2. 8. 2.]\n",
      "cluster 3\n",
      "Number of elements in a cluster: 293\n",
      "[3. 2. 9. 3. 3. 8. 3. 3. 3. 3. 3. 9. 3. 3. 3. 3. 3. 9. 3. 3. 3. 9. 1. 3.\n",
      " 8. 8. 3. 3. 3. 3. 9. 3. 2. 3. 3. 3. 3. 3. 3. 3. 3. 2. 8. 3. 3. 3. 3. 3.\n",
      " 3. 3. 3. 2. 9. 9. 3. 3. 3. 3. 3. 3. 2. 3. 8. 3. 9. 3. 3. 2. 8. 2. 2. 3.\n",
      " 3. 3. 3. 3. 8. 9. 3. 3. 3. 3. 3. 1. 8. 3. 3. 3. 9. 3. 1. 3. 3. 3. 8. 3.\n",
      " 3. 2. 3. 3. 8. 3. 3. 3. 3. 3. 3. 3. 3. 9. 8. 3. 3. 8. 9. 3. 3. 3. 3. 3.\n",
      " 3. 3. 3. 9. 3. 3. 3. 3. 9. 8. 2. 3. 1. 3. 3. 5. 3. 1. 3. 2. 3. 3. 3. 3.\n",
      " 3. 3. 9. 8. 3. 3. 8. 3. 3. 3. 9. 9. 3. 3. 8. 8. 2. 2. 9. 3. 8. 1. 3. 3.\n",
      " 3. 3. 8. 3. 3. 3. 9. 3. 3. 3. 3. 8. 9. 3. 3. 8. 3. 3. 2. 9. 3. 1. 3. 3.\n",
      " 3. 2. 3. 1. 3. 3. 3. 3. 3. 8. 3. 8. 3. 3. 8. 8. 3. 3. 3. 2. 3. 9. 3. 3.\n",
      " 8. 3. 9. 3. 3. 3. 9. 3. 2. 3. 3. 9. 3. 3. 9. 8. 3. 2. 1. 3. 3. 8. 3. 9.\n",
      " 3. 3. 2. 3. 8. 3. 3. 3. 3. 1. 3. 3. 3. 3. 8. 3. 9. 3. 3. 3. 3. 3. 3. 8.\n",
      " 3. 3. 3. 3. 3. 3. 8. 3. 3. 8. 3. 3. 9. 3. 3. 3. 3. 1. 3. 3. 3. 2. 3. 3.\n",
      " 3. 3. 8. 3. 3.]\n",
      "cluster 4\n",
      "Number of elements in a cluster: 84\n",
      "[8. 4. 7. 9. 4. 5. 4. 9. 4. 7. 8. 8. 9. 8. 9. 4. 5. 9. 8. 2. 4. 4. 4. 8.\n",
      " 4. 4. 8. 4. 2. 9. 6. 9. 8. 4. 8. 7. 4. 4. 9. 4. 8. 8. 4. 2. 4. 5. 4. 5.\n",
      " 9. 7. 4. 4. 4. 9. 9. 8. 4. 9. 4. 8. 9. 2. 8. 8. 4. 8. 7. 2. 5. 8. 8. 9.\n",
      " 4. 5. 4. 9. 4. 8. 5. 9. 8. 4. 5. 9.]\n",
      "cluster 5\n",
      "Number of elements in a cluster: 612\n",
      "[3. 5. 5. 9. 5. 9. 5. 9. 5. 9. 5. 3. 6. 3. 5. 9. 3. 8. 9. 3. 9. 5. 3. 9.\n",
      " 3. 5. 8. 5. 5. 9. 3. 3. 9. 9. 3. 3. 5. 2. 5. 3. 5. 8. 5. 5. 3. 9. 3. 3.\n",
      " 8. 9. 5. 5. 5. 5. 3. 5. 9. 9. 9. 5. 5. 3. 2. 5. 9. 9. 8. 3. 9. 5. 8. 5.\n",
      " 5. 9. 3. 5. 5. 9. 9. 3. 5. 5. 9. 5. 5. 3. 5. 9. 5. 9. 9. 9. 1. 4. 9. 1.\n",
      " 5. 9. 9. 3. 5. 9. 3. 9. 9. 5. 5. 5. 9. 5. 5. 9. 8. 3. 5. 5. 9. 9. 5. 5.\n",
      " 5. 9. 5. 5. 5. 3. 3. 3. 9. 5. 9. 3. 9. 3. 5. 5. 9. 1. 5. 5. 5. 5. 1. 5.\n",
      " 9. 5. 5. 3. 5. 9. 5. 8. 5. 9. 5. 5. 5. 5. 9. 9. 5. 9. 9. 9. 9. 5. 3. 9.\n",
      " 3. 9. 9. 5. 9. 9. 3. 5. 9. 9. 9. 5. 5. 3. 5. 5. 3. 5. 9. 5. 5. 3. 2. 5.\n",
      " 9. 5. 9. 9. 5. 9. 9. 9. 5. 9. 3. 5. 6. 3. 9. 3. 9. 5. 1. 9. 5. 2. 5. 3.\n",
      " 5. 9. 9. 9. 9. 5. 9. 5. 9. 9. 9. 5. 3. 9. 3. 9. 3. 3. 5. 9. 5. 3. 1. 2.\n",
      " 9. 5. 5. 8. 3. 9. 8. 9. 9. 5. 9. 9. 5. 9. 9. 3. 9. 3. 8. 5. 2. 9. 5. 5.\n",
      " 5. 3. 9. 3. 9. 5. 5. 9. 3. 3. 5. 3. 5. 9. 9. 9. 1. 5. 5. 5. 8. 9. 3. 5.\n",
      " 3. 9. 3. 8. 1. 9. 3. 5. 5. 2. 5. 4. 9. 5. 3. 2. 5. 5. 9. 9. 5. 5. 3. 3.\n",
      " 5. 5. 5. 5. 9. 9. 9. 9. 9. 5. 9. 9. 5. 9. 9. 9. 5. 5. 5. 9. 9. 3. 5. 5.\n",
      " 5. 5. 3. 5. 5. 5. 8. 5. 5. 3. 5. 5. 5. 9. 3. 9. 9. 9. 5. 5. 8. 5. 9. 5.\n",
      " 9. 9. 5. 9. 9. 3. 5. 9. 5. 3. 9. 9. 9. 3. 3. 9. 9. 9. 9. 3. 9. 9. 5. 2.\n",
      " 5. 9. 9. 8. 9. 9. 9. 9. 9. 2. 5. 9. 9. 9. 5. 5. 5. 8. 3. 9. 6. 3. 9. 9.\n",
      " 5. 3. 1. 5. 8. 5. 9. 5. 3. 9. 9. 3. 9. 6. 9. 9. 5. 5. 5. 5. 5. 9. 9. 5.\n",
      " 5. 8. 5. 5. 9. 9. 8. 9. 5. 9. 9. 5. 9. 9. 9. 9. 3. 9. 9. 9. 9. 9. 9. 5.\n",
      " 9. 5. 5. 9. 5. 9. 5. 3. 9. 9. 5. 5. 9. 3. 5. 8. 5. 3. 3. 3. 5. 9. 3. 3.\n",
      " 5. 3. 9. 9. 9. 9. 5. 9. 8. 5. 5. 9. 2. 9. 5. 5. 9. 5. 5. 5. 3. 5. 9. 9.\n",
      " 2. 2. 9. 8. 9. 3. 3. 9. 5. 5. 5. 3. 5. 5. 3. 5. 2. 3. 9. 2. 5. 5. 2. 5.\n",
      " 9. 3. 9. 3. 9. 3. 9. 9. 9. 5. 3. 9. 5. 3. 9. 3. 5. 5. 5. 5. 3. 1. 9. 9.\n",
      " 9. 3. 5. 3. 5. 9. 8. 5. 9. 9. 5. 3. 9. 9. 9. 5. 5. 3. 9. 9. 8. 9. 3. 9.\n",
      " 5. 9. 9. 9. 3. 5. 9. 9. 5. 3. 9. 9. 9. 3. 3. 5. 5. 5. 5. 3. 5. 5. 9. 3.\n",
      " 5. 5. 9. 9. 9. 5. 3. 9. 9. 9. 5. 9.]\n",
      "cluster 6\n",
      "Number of elements in a cluster: 688\n",
      "[4. 6. 6. 6. 4. 1. 8. 6. 4. 6. 6. 4. 6. 4. 6. 4. 6. 6. 6. 1. 4. 8. 4. 6.\n",
      " 4. 4. 6. 6. 4. 8. 4. 6. 6. 6. 6. 4. 6. 1. 8. 6. 4. 4. 6. 4. 4. 6. 6. 6.\n",
      " 6. 4. 4. 6. 6. 6. 1. 6. 8. 8. 6. 4. 6. 4. 6. 6. 6. 6. 4. 4. 6. 6. 6. 6.\n",
      " 6. 1. 6. 4. 6. 6. 4. 6. 6. 4. 1. 6. 4. 6. 6. 4. 6. 1. 6. 1. 6. 6. 6. 1.\n",
      " 6. 6. 6. 6. 4. 6. 6. 6. 9. 6. 6. 6. 6. 4. 4. 6. 6. 6. 6. 6. 6. 9. 1. 6.\n",
      " 4. 4. 6. 1. 6. 4. 6. 6. 6. 6. 6. 4. 6. 6. 6. 4. 6. 6. 6. 4. 4. 6. 4. 6.\n",
      " 6. 6. 1. 8. 4. 9. 6. 6. 6. 6. 1. 4. 4. 6. 6. 6. 6. 4. 4. 6. 6. 6. 6. 6.\n",
      " 6. 4. 6. 6. 4. 6. 6. 6. 4. 6. 6. 6. 4. 6. 6. 1. 4. 6. 4. 6. 4. 6. 1. 1.\n",
      " 4. 1. 6. 6. 6. 5. 6. 6. 6. 6. 6. 6. 6. 1. 1. 6. 1. 6. 6. 4. 6. 6. 4. 4.\n",
      " 6. 6. 6. 6. 4. 4. 6. 4. 6. 6. 6. 6. 6. 4. 6. 4. 6. 6. 6. 4. 4. 4. 6. 6.\n",
      " 4. 6. 4. 4. 4. 6. 6. 8. 4. 4. 6. 6. 6. 6. 6. 4. 6. 6. 6. 6. 4. 6. 6. 1.\n",
      " 6. 6. 4. 6. 8. 6. 6. 4. 6. 6. 6. 6. 6. 6. 1. 4. 6. 6. 6. 6. 4. 5. 1. 6.\n",
      " 6. 6. 4. 6. 4. 4. 6. 8. 6. 6. 1. 6. 6. 8. 6. 8. 4. 6. 4. 6. 6. 4. 4. 6.\n",
      " 6. 4. 4. 4. 6. 6. 6. 1. 4. 4. 9. 6. 4. 6. 4. 6. 6. 6. 6. 4. 6. 4. 6. 6.\n",
      " 4. 6. 6. 1. 6. 1. 6. 8. 6. 4. 4. 6. 4. 6. 6. 1. 6. 6. 6. 6. 6. 6. 4. 6.\n",
      " 1. 6. 6. 6. 6. 4. 6. 4. 8. 6. 4. 4. 1. 4. 6. 6. 5. 6. 6. 4. 8. 6. 1. 6.\n",
      " 6. 4. 4. 4. 4. 6. 6. 5. 4. 4. 6. 6. 6. 4. 4. 6. 4. 8. 6. 6. 4. 6. 1. 5.\n",
      " 4. 4. 4. 6. 6. 4. 4. 1. 4. 4. 4. 4. 4. 6. 6. 4. 4. 4. 0. 6. 6. 6. 6. 6.\n",
      " 6. 6. 6. 6. 4. 6. 6. 4. 1. 6. 4. 6. 6. 6. 4. 6. 4. 4. 4. 6. 4. 4. 4. 8.\n",
      " 6. 4. 6. 6. 4. 4. 6. 6. 4. 8. 1. 6. 4. 6. 6. 6. 4. 6. 4. 1. 6. 4. 4. 4.\n",
      " 4. 6. 4. 4. 4. 6. 6. 6. 6. 4. 6. 6. 6. 6. 4. 6. 6. 6. 6. 6. 1. 6. 6. 4.\n",
      " 4. 1. 4. 1. 6. 6. 6. 1. 6. 8. 4. 6. 4. 6. 1. 6. 6. 6. 4. 4. 4. 6. 2. 6.\n",
      " 6. 6. 6. 6. 6. 6. 4. 6. 1. 6. 6. 4. 1. 9. 6. 2. 4. 1. 6. 4. 6. 4. 6. 6.\n",
      " 6. 6. 6. 4. 6. 4. 6. 4. 4. 6. 6. 4. 6. 4. 6. 6. 4. 4. 4. 6. 4. 6. 6. 6.\n",
      " 4. 1. 6. 6. 6. 2. 6. 6. 4. 1. 6. 6. 4. 0. 4. 6. 4. 6. 6. 4. 4. 4. 4. 6.\n",
      " 8. 4. 2. 4. 6. 4. 6. 6. 4. 6. 1. 6. 6. 6. 4. 1. 1. 6. 6. 6. 6. 6. 4. 6.\n",
      " 1. 6. 0. 4. 4. 4. 6. 6. 6. 6. 6. 1. 6. 6. 4. 6. 6. 6. 1. 6. 6. 4. 4. 6.\n",
      " 6. 4. 6. 6. 1. 4. 6. 6. 4. 1. 6. 6. 6. 6. 4. 6. 6. 6. 6. 4. 6. 6. 6. 6.\n",
      " 6. 1. 6. 1. 4. 6. 8. 2. 6. 6. 1. 6. 8. 6. 6. 6.]\n",
      "cluster 7\n",
      "Number of elements in a cluster: 435\n",
      "[7. 9. 7. 7. 7. 7. 7. 7. 7. 7. 7. 7. 7. 7. 7. 7. 3. 7. 7. 7. 7. 7. 7. 7.\n",
      " 7. 7. 7. 7. 7. 7. 7. 7. 7. 7. 7. 7. 1. 7. 7. 7. 7. 4. 7. 7. 7. 7. 7. 7.\n",
      " 7. 7. 7. 7. 7. 7. 4. 7. 7. 7. 7. 7. 7. 7. 7. 7. 7. 7. 7. 7. 7. 7. 7. 7.\n",
      " 7. 7. 7. 7. 7. 7. 7. 7. 7. 7. 7. 7. 2. 7. 7. 7. 7. 7. 7. 7. 7. 7. 3. 7.\n",
      " 7. 2. 7. 3. 7. 2. 7. 7. 7. 7. 7. 7. 7. 4. 7. 7. 3. 7. 7. 4. 7. 7. 7. 3.\n",
      " 3. 7. 7. 7. 7. 7. 7. 7. 7. 7. 7. 9. 7. 7. 7. 7. 7. 7. 7. 7. 7. 7. 7. 7.\n",
      " 7. 7. 7. 7. 7. 7. 7. 7. 7. 7. 7. 7. 3. 7. 2. 7. 4. 7. 7. 7. 7. 7. 7. 7.\n",
      " 7. 7. 7. 7. 9. 7. 7. 7. 2. 7. 7. 7. 7. 7. 7. 7. 7. 7. 7. 7. 7. 7. 7. 7.\n",
      " 7. 7. 7. 7. 7. 7. 3. 7. 7. 7. 7. 7. 7. 7. 7. 7. 7. 7. 7. 7. 7. 7. 7. 7.\n",
      " 7. 7. 3. 7. 2. 7. 7. 7. 4. 7. 7. 7. 7. 7. 7. 7. 7. 7. 7. 7. 7. 7. 7. 7.\n",
      " 7. 7. 7. 5. 7. 7. 3. 7. 7. 7. 7. 7. 7. 7. 7. 7. 7. 7. 7. 7. 7. 7. 7. 7.\n",
      " 7. 3. 7. 7. 7. 7. 7. 7. 7. 3. 7. 7. 7. 7. 7. 7. 3. 7. 3. 7. 7. 7. 7. 3.\n",
      " 4. 7. 7. 3. 7. 7. 7. 7. 7. 7. 7. 3. 7. 7. 7. 7. 7. 7. 7. 7. 7. 7. 7. 7.\n",
      " 7. 7. 7. 7. 7. 7. 7. 4. 7. 7. 7. 3. 7. 7. 7. 7. 7. 7. 7. 7. 7. 3. 4. 7.\n",
      " 7. 7. 3. 3. 7. 7. 7. 7. 7. 7. 7. 7. 7. 7. 7. 7. 7. 7. 7. 7. 7. 7. 7. 3.\n",
      " 7. 7. 7. 7. 7. 7. 7. 7. 7. 7. 7. 7. 7. 7. 7. 7. 7. 7. 7. 3. 7. 7. 7. 7.\n",
      " 7. 7. 7. 7. 7. 7. 7. 4. 7. 7. 3. 7. 7. 7. 7. 7. 7. 7. 7. 7. 7. 7. 7. 7.\n",
      " 7. 7. 7. 7. 7. 7. 7. 7. 7. 7. 7. 7. 7. 7. 7. 7. 7. 7. 8. 7. 7. 7. 7. 7.\n",
      " 7. 7. 7.]\n",
      "cluster 8\n",
      "Number of elements in a cluster: 452\n",
      "[8. 2. 3. 2. 8. 5. 3. 3. 5. 3. 9. 5. 5. 5. 5. 5. 5. 5. 2. 5. 5. 7. 3. 9.\n",
      " 5. 5. 8. 8. 9. 2. 5. 8. 8. 9. 5. 3. 8. 9. 8. 5. 3. 5. 3. 5. 5. 8. 5. 9.\n",
      " 8. 5. 2. 2. 8. 5. 5. 8. 9. 8. 9. 8. 5. 5. 3. 9. 8. 5. 8. 8. 5. 8. 2. 9.\n",
      " 8. 2. 8. 5. 2. 8. 5. 8. 5. 3. 8. 8. 7. 9. 5. 2. 9. 9. 8. 9. 8. 2. 8. 7.\n",
      " 5. 5. 2. 5. 3. 5. 2. 9. 5. 3. 5. 5. 5. 8. 2. 5. 5. 8. 5. 5. 8. 5. 5. 3.\n",
      " 8. 5. 9. 5. 5. 5. 3. 5. 7. 2. 5. 5. 3. 3. 8. 5. 5. 5. 8. 5. 8. 2. 3. 5.\n",
      " 5. 8. 8. 5. 8. 8. 2. 8. 5. 5. 5. 8. 5. 8. 5. 8. 7. 3. 8. 5. 5. 5. 2. 5.\n",
      " 5. 8. 8. 5. 5. 9. 5. 5. 8. 8. 2. 2. 2. 5. 5. 5. 4. 2. 2. 8. 8. 5. 5. 8.\n",
      " 5. 9. 8. 3. 8. 5. 2. 8. 8. 8. 5. 8. 3. 5. 5. 8. 5. 8. 8. 5. 5. 7. 3. 5.\n",
      " 8. 2. 5. 9. 3. 8. 5. 5. 5. 8. 8. 5. 5. 2. 5. 5. 5. 3. 8. 3. 8. 5. 5. 8.\n",
      " 5. 5. 8. 9. 5. 2. 7. 5. 3. 8. 5. 8. 3. 8. 5. 5. 5. 5. 8. 8. 2. 5. 8. 5.\n",
      " 9. 8. 2. 8. 2. 9. 7. 3. 5. 5. 9. 5. 8. 8. 5. 3. 8. 9. 2. 9. 5. 5. 8. 8.\n",
      " 5. 7. 8. 8. 9. 5. 8. 5. 2. 5. 3. 5. 5. 5. 9. 8. 5. 7. 5. 8. 8. 3. 8. 9.\n",
      " 7. 7. 2. 7. 8. 2. 3. 5. 8. 5. 5. 2. 2. 8. 5. 5. 2. 8. 5. 8. 2. 5. 9. 8.\n",
      " 5. 3. 3. 9. 2. 5. 8. 5. 2. 2. 5. 5. 8. 8. 8. 5. 5. 9. 5. 5. 2. 7. 5. 7.\n",
      " 9. 5. 7. 7. 5. 3. 8. 8. 5. 5. 2. 5. 2. 5. 3. 5. 5. 8. 5. 2. 5. 8. 5. 8.\n",
      " 2. 5. 9. 8. 9. 8. 2. 3. 9. 2. 3. 3. 5. 3. 9. 7. 3. 3. 5. 7. 9. 8. 9. 5.\n",
      " 5. 7. 2. 5. 2. 9. 8. 3. 5. 7. 8. 2. 8. 5. 5. 5. 5. 2. 8. 9. 3. 3. 5. 5.\n",
      " 5. 8. 5. 8. 8. 5. 2. 3. 5. 5. 5. 8. 8. 2. 8. 8. 8. 7. 8. 3.]\n",
      "cluster 9\n",
      "Number of elements in a cluster: 352\n",
      "[4. 6. 9. 9. 5. 8. 2. 3. 2. 9. 9. 2. 9. 3. 8. 1. 2. 9. 2. 9. 2. 3. 9. 8.\n",
      " 2. 9. 8. 8. 2. 2. 2. 9. 3. 8. 9. 8. 3. 9. 8. 1. 8. 2. 3. 2. 2. 2. 8. 2.\n",
      " 2. 2. 8. 2. 8. 8. 9. 5. 8. 9. 3. 6. 8. 9. 6. 9. 9. 9. 9. 1. 2. 8. 9. 3.\n",
      " 2. 9. 1. 2. 8. 3. 3. 9. 9. 1. 2. 3. 2. 6. 2. 3. 3. 8. 9. 9. 2. 3. 8. 2.\n",
      " 1. 3. 2. 9. 9. 9. 6. 2. 4. 3. 9. 7. 9. 2. 8. 3. 3. 9. 3. 8. 9. 9. 2. 8.\n",
      " 2. 9. 9. 8. 6. 2. 8. 2. 3. 6. 2. 8. 9. 2. 9. 6. 9. 1. 8. 8. 9. 1. 8. 8.\n",
      " 3. 4. 9. 3. 2. 2. 5. 6. 2. 6. 8. 3. 9. 9. 9. 8. 9. 9. 9. 1. 8. 2. 2. 2.\n",
      " 9. 2. 6. 9. 2. 9. 8. 8. 9. 1. 6. 8. 3. 3. 8. 8. 9. 3. 8. 6. 2. 8. 3. 8.\n",
      " 2. 2. 2. 8. 2. 8. 2. 9. 8. 8. 9. 3. 9. 9. 8. 9. 6. 3. 8. 8. 8. 9. 2. 8.\n",
      " 8. 3. 8. 8. 9. 2. 2. 3. 2. 8. 9. 8. 2. 8. 2. 3. 3. 6. 3. 9. 9. 2. 8. 8.\n",
      " 9. 1. 8. 9. 9. 6. 9. 6. 2. 9. 8. 2. 2. 2. 2. 9. 3. 8. 9. 9. 8. 2. 9. 6.\n",
      " 9. 9. 0. 6. 2. 8. 5. 4. 9. 0. 2. 2. 8. 8. 4. 2. 8. 9. 9. 9. 3. 2. 9. 6.\n",
      " 8. 2. 9. 9. 2. 9. 3. 3. 9. 2. 6. 8. 8. 2. 8. 2. 8. 3. 6. 2. 9. 8. 3. 8.\n",
      " 3. 8. 2. 6. 2. 8. 2. 1. 2. 8. 9. 1. 8. 6. 4. 9. 9. 6. 9. 3. 3. 8. 2. 3.\n",
      " 8. 8. 8. 2. 2. 8. 9. 2. 2. 6. 2. 9. 9. 3. 5. 6.]\n"
     ]
    }
   ],
   "source": [
    "print_number_in_all_cluster(Output)"
   ]
  },
  {
   "cell_type": "markdown",
   "id": "36cd3fd2",
   "metadata": {},
   "source": [
    "This Output shows us like how digits are classified by the kmeans method.  \n",
    "As can be seen here there are many digits which are classified in a single cluster.\n",
    "Taking example of cluster 0\n",
    "We can see features with label 0 6 4 7 have been clusttered together but majority of them is 0.     \n",
    "This gives us the conclusion that the cluster 0 may point to digit 0 for majority of features that depicts 0."
   ]
  },
  {
   "cell_type": "code",
   "execution_count": 28,
   "id": "b98c31ba-fede-46aa-9b68-c86187bedce5",
   "metadata": {},
   "outputs": [
    {
     "name": "stdout",
     "output_type": "stream",
     "text": [
      "Accurcy in test Dataset:\n",
      "61.654804270462634\n"
     ]
    }
   ],
   "source": [
    "measuring_accuracy(Centroids,test_data,test_label)"
   ]
  },
  {
   "cell_type": "markdown",
   "id": "00c32f3b",
   "metadata": {},
   "source": [
    "Accuracy is just a metric which tells like for how many points does our data guess the value of our digit correctly.   \n",
    "To measure accuracy we just compared the identified digit to the label.   \n",
    "Dividing the number of correctly guessed value to Total value.\n",
    "\n",
    "* One of the reasons for low accuracy is the PCA that has been done, it has reduced the number of features to only the most important components. But in some edge cases this can be a problem. \n",
    "* Another reason for accuracy value varying in each run of this program is the centroid that has been decided by the Kmean algorithm. The centroid is chosen at random and hence this leads to different accuracy values obtained in each run of this algorithm."
   ]
  },
  {
   "cell_type": "markdown",
   "id": "ce84b465-588c-4b80-befa-bdf1a3635a35",
   "metadata": {},
   "source": [
    "## Kmeans algorithm without applying PCA\n",
    "For comparison with how PCA with Kmeans compares with just Kmeans"
   ]
  },
  {
   "cell_type": "code",
   "execution_count": 29,
   "id": "7b8a692d-08e9-40e4-a2f9-dbf8c82626e0",
   "metadata": {},
   "outputs": [],
   "source": [
    "train_with_label,train_without_label,test_data,test_label = test_train_splitter(optdigits_df)\n",
    "m = train_without_label.shape[0] #no. of points in training dataset\n",
    "no_of_features = train_without_label.shape[1] #number of features\n",
    "K=10 #number of clusters\n",
    "Centroids = centroid_initialization(train_with_label,train_without_label)\n",
    "Output = kmeans_algorithm(train_with_label,train_without_label,Centroids)"
   ]
  },
  {
   "cell_type": "code",
   "execution_count": 30,
   "id": "8855e921-2283-4011-a178-516ec25b8081",
   "metadata": {},
   "outputs": [
    {
     "name": "stdout",
     "output_type": "stream",
     "text": [
      "cluster 0\n",
      "Number of elements in a cluster: 486\n",
      "[0. 0. 0. 0. 0. 0. 0. 0. 0. 0. 0. 0. 0. 0. 0. 0. 0. 0. 4. 0. 0. 0. 0. 0.\n",
      " 0. 0. 0. 0. 0. 3. 0. 4. 0. 0. 0. 0. 0. 0. 0. 0. 0. 0. 0. 0. 0. 0. 0. 0.\n",
      " 0. 0. 2. 0. 0. 0. 0. 0. 9. 0. 0. 0. 0. 0. 0. 0. 0. 0. 0. 0. 9. 0. 0. 0.\n",
      " 9. 0. 9. 0. 0. 0. 0. 0. 5. 0. 0. 0. 0. 0. 0. 0. 0. 0. 0. 0. 0. 0. 0. 0.\n",
      " 0. 5. 0. 0. 0. 0. 0. 0. 0. 0. 0. 0. 0. 0. 0. 0. 0. 0. 8. 0. 0. 0. 0. 0.\n",
      " 0. 0. 0. 0. 0. 2. 0. 0. 0. 0. 0. 0. 0. 0. 0. 0. 0. 0. 0. 0. 0. 0. 0. 0.\n",
      " 0. 9. 0. 0. 9. 0. 0. 0. 0. 0. 0. 0. 0. 0. 0. 0. 6. 0. 0. 0. 5. 0. 0. 0.\n",
      " 0. 0. 0. 0. 5. 0. 0. 0. 0. 0. 0. 0. 0. 0. 0. 0. 0. 0. 8. 0. 2. 0. 0. 0.\n",
      " 0. 0. 0. 0. 0. 8. 0. 0. 0. 5. 0. 0. 0. 0. 0. 0. 0. 0. 0. 0. 9. 0. 0. 0.\n",
      " 0. 8. 0. 0. 0. 0. 0. 0. 0. 0. 0. 0. 0. 0. 0. 0. 0. 0. 0. 0. 0. 0. 0. 0.\n",
      " 0. 0. 0. 0. 0. 0. 0. 0. 0. 0. 0. 0. 0. 5. 5. 0. 1. 5. 0. 0. 0. 5. 0. 0.\n",
      " 0. 0. 0. 0. 0. 0. 0. 0. 0. 0. 0. 5. 5. 0. 0. 0. 0. 0. 0. 0. 0. 0. 0. 0.\n",
      " 0. 0. 0. 0. 0. 0. 0. 0. 0. 0. 0. 0. 0. 5. 0. 8. 0. 0. 0. 0. 0. 0. 5. 0.\n",
      " 0. 5. 0. 0. 0. 0. 0. 0. 0. 0. 0. 0. 0. 0. 0. 8. 8. 0. 0. 0. 4. 9. 0. 0.\n",
      " 0. 8. 0. 0. 0. 0. 0. 0. 0. 0. 0. 0. 0. 0. 0. 0. 0. 0. 9. 0. 0. 0. 0. 0.\n",
      " 0. 0. 0. 0. 5. 0. 0. 0. 0. 0. 0. 0. 0. 8. 0. 0. 0. 0. 0. 0. 0. 0. 0. 0.\n",
      " 0. 2. 0. 0. 0. 0. 0. 0. 0. 0. 0. 0. 0. 0. 0. 0. 0. 0. 0. 0. 0. 0. 0. 0.\n",
      " 0. 9. 0. 0. 0. 0. 0. 0. 0. 0. 0. 5. 0. 0. 0. 0. 0. 0. 0. 0. 0. 0. 0. 0.\n",
      " 0. 0. 0. 0. 9. 0. 5. 0. 3. 0. 0. 0. 0. 0. 5. 0. 8. 0. 0. 0. 0. 0. 0. 0.\n",
      " 0. 0. 0. 0. 0. 0. 5. 0. 0. 0. 0. 0. 0. 0. 0. 0. 0. 0. 0. 0. 0. 0. 0. 0.\n",
      " 0. 0. 0. 0. 0. 0.]\n",
      "cluster 1\n",
      "Number of elements in a cluster: 583\n",
      "[1. 1. 1. 2. 8. 1. 1. 1. 8. 1. 1. 1. 1. 7. 2. 1. 1. 1. 8. 1. 4. 6. 1. 2.\n",
      " 1. 1. 1. 8. 1. 7. 4. 8. 7. 4. 4. 3. 1. 8. 4. 1. 1. 1. 1. 1. 1. 1. 8. 9.\n",
      " 1. 7. 1. 7. 1. 1. 1. 1. 7. 2. 2. 1. 8. 7. 2. 8. 1. 1. 1. 1. 1. 2. 8. 7.\n",
      " 1. 1. 2. 1. 1. 3. 1. 1. 1. 1. 1. 2. 1. 1. 8. 1. 1. 8. 1. 8. 1. 1. 1. 4.\n",
      " 4. 1. 1. 1. 6. 1. 1. 1. 2. 8. 2. 2. 1. 1. 7. 3. 1. 1. 7. 1. 6. 4. 2. 1.\n",
      " 8. 1. 3. 1. 1. 2. 4. 1. 7. 1. 7. 3. 1. 1. 8. 1. 1. 1. 7. 9. 1. 8. 1. 8.\n",
      " 1. 4. 1. 7. 4. 1. 2. 1. 8. 1. 1. 1. 2. 1. 1. 1. 1. 7. 1. 1. 1. 2. 1. 1.\n",
      " 1. 8. 1. 1. 1. 1. 1. 1. 1. 1. 8. 8. 1. 1. 1. 8. 2. 1. 1. 1. 1. 1. 7. 1.\n",
      " 8. 1. 1. 1. 2. 6. 7. 4. 9. 1. 4. 1. 4. 1. 1. 1. 1. 1. 1. 2. 1. 8. 1. 8.\n",
      " 2. 9. 1. 1. 2. 8. 8. 7. 9. 7. 1. 1. 1. 7. 7. 1. 1. 1. 3. 1. 1. 1. 1. 1.\n",
      " 1. 6. 1. 1. 8. 1. 1. 1. 8. 2. 1. 1. 1. 7. 8. 8. 1. 7. 1. 1. 8. 1. 7. 1.\n",
      " 2. 3. 1. 1. 1. 2. 8. 1. 1. 1. 1. 1. 1. 1. 1. 1. 1. 1. 1. 1. 2. 1. 1. 1.\n",
      " 1. 1. 1. 8. 8. 8. 1. 4. 1. 1. 1. 1. 1. 8. 8. 4. 1. 1. 1. 1. 1. 1. 8. 1.\n",
      " 8. 1. 1. 1. 1. 1. 1. 8. 1. 1. 7. 8. 1. 8. 1. 1. 4. 7. 8. 1. 1. 1. 8. 2.\n",
      " 2. 2. 1. 1. 1. 2. 8. 1. 1. 8. 1. 1. 1. 8. 8. 1. 1. 4. 8. 1. 1. 1. 4. 6.\n",
      " 1. 1. 1. 7. 2. 1. 8. 1. 8. 8. 1. 1. 1. 6. 1. 1. 9. 1. 8. 1. 1. 7. 1. 2.\n",
      " 1. 4. 1. 1. 1. 4. 8. 4. 1. 8. 1. 7. 1. 3. 6. 4. 1. 1. 8. 1. 3. 1. 1. 1.\n",
      " 8. 1. 6. 4. 1. 3. 6. 4. 1. 2. 1. 1. 1. 1. 8. 8. 1. 1. 1. 7. 1. 7. 1. 1.\n",
      " 8. 1. 1. 3. 7. 1. 6. 1. 1. 1. 4. 1. 1. 4. 1. 1. 1. 8. 1. 1. 1. 1. 4. 1.\n",
      " 1. 4. 1. 2. 1. 3. 1. 8. 1. 1. 1. 1. 1. 1. 1. 1. 1. 1. 1. 2. 3. 7. 3. 4.\n",
      " 1. 1. 1. 1. 1. 4. 1. 1. 2. 2. 1. 1. 1. 1. 1. 1. 1. 7. 1. 1. 1. 1. 1. 1.\n",
      " 1. 7. 6. 1. 7. 7. 2. 1. 3. 1. 1. 1. 1. 3. 1. 1. 1. 1. 1. 2. 1. 8. 1. 7.\n",
      " 1. 4. 1. 1. 1. 2. 1. 1. 1. 1. 1. 3. 7. 8. 1. 1. 1. 1. 3. 1. 3. 1. 1. 1.\n",
      " 1. 2. 1. 1. 7. 1. 8. 3. 7. 1. 1. 1. 1. 1. 8. 2. 7. 8. 1. 1. 8. 1. 8. 1.\n",
      " 1. 1. 1. 6. 6. 7. 1.]\n",
      "cluster 2\n",
      "Number of elements in a cluster: 389\n",
      "[2. 2. 2. 2. 8. 2. 2. 2. 2. 2. 2. 2. 1. 2. 5. 2. 2. 2. 2. 2. 2. 2. 2. 2.\n",
      " 2. 2. 2. 2. 2. 2. 2. 2. 2. 2. 3. 2. 2. 2. 2. 2. 2. 2. 2. 5. 2. 2. 2. 2.\n",
      " 2. 2. 5. 1. 3. 2. 2. 2. 3. 2. 2. 2. 2. 2. 2. 2. 2. 2. 5. 2. 2. 2. 2. 2.\n",
      " 2. 2. 2. 9. 2. 3. 2. 2. 2. 8. 2. 2. 2. 2. 2. 2. 2. 2. 2. 2. 2. 8. 2. 2.\n",
      " 2. 2. 2. 2. 2. 2. 2. 5. 2. 2. 2. 2. 2. 2. 2. 2. 2. 2. 2. 2. 2. 2. 2. 2.\n",
      " 2. 2. 2. 2. 2. 2. 2. 2. 8. 2. 2. 2. 2. 5. 1. 2. 2. 2. 2. 2. 2. 2. 2. 2.\n",
      " 2. 2. 8. 2. 2. 2. 2. 2. 2. 2. 2. 2. 2. 2. 2. 2. 2. 2. 2. 2. 2. 8. 2. 2.\n",
      " 2. 2. 2. 2. 2. 2. 2. 5. 2. 2. 2. 2. 2. 2. 2. 5. 2. 2. 2. 3. 2. 2. 2. 2.\n",
      " 2. 2. 2. 5. 2. 2. 8. 1. 1. 2. 2. 2. 2. 2. 2. 2. 2. 2. 2. 2. 5. 2. 1. 3.\n",
      " 2. 5. 2. 2. 2. 2. 2. 2. 2. 2. 2. 2. 2. 2. 2. 2. 2. 2. 2. 2. 2. 2. 1. 2.\n",
      " 2. 2. 2. 2. 2. 2. 1. 2. 2. 2. 2. 2. 2. 2. 2. 2. 2. 2. 2. 2. 1. 1. 2. 2.\n",
      " 2. 7. 2. 2. 2. 2. 2. 2. 2. 2. 2. 2. 2. 2. 2. 2. 2. 2. 8. 2. 2. 2. 2. 2.\n",
      " 2. 2. 2. 2. 1. 2. 1. 2. 2. 2. 2. 5. 2. 2. 2. 2. 5. 2. 2. 2. 2. 2. 2. 5.\n",
      " 2. 2. 2. 2. 2. 2. 2. 2. 1. 2. 2. 2. 2. 2. 2. 2. 2. 2. 2. 2. 2. 2. 2. 2.\n",
      " 2. 2. 2. 2. 2. 2. 2. 2. 1. 2. 2. 2. 2. 2. 2. 2. 2. 2. 2. 2. 2. 2. 2. 2.\n",
      " 2. 1. 2. 2. 3. 2. 2. 2. 2. 2. 2. 2. 2. 2. 2. 2. 2. 3. 2. 2. 2. 2. 1. 2.\n",
      " 2. 2. 2. 3. 2.]\n",
      "cluster 3\n",
      "Number of elements in a cluster: 213\n",
      "[1. 3. 3. 3. 3. 8. 3. 8. 3. 2. 8. 9. 8. 3. 3. 8. 6. 3. 3. 8. 8. 8. 3. 8.\n",
      " 8. 8. 8. 5. 8. 2. 5. 2. 1. 8. 5. 3. 8. 3. 3. 2. 3. 8. 3. 8. 3. 2. 8. 2.\n",
      " 5. 7. 3. 1. 1. 3. 3. 1. 2. 3. 5. 3. 3. 2. 3. 3. 8. 3. 3. 2. 3. 8. 2. 8.\n",
      " 3. 2. 8. 8. 3. 3. 3. 5. 2. 3. 8. 3. 8. 3. 5. 3. 1. 5. 2. 5. 8. 2. 5. 8.\n",
      " 3. 3. 8. 8. 3. 3. 3. 3. 2. 2. 5. 8. 5. 3. 3. 8. 8. 2. 2. 8. 8. 8. 5. 7.\n",
      " 3. 8. 3. 2. 3. 8. 2. 2. 5. 8. 8. 8. 1. 8. 1. 3. 2. 3. 5. 8. 3. 8. 6. 8.\n",
      " 8. 3. 2. 8. 2. 1. 7. 8. 3. 8. 3. 2. 8. 3. 2. 8. 3. 8. 3. 2. 3. 3. 8. 8.\n",
      " 8. 9. 6. 2. 5. 3. 1. 8. 3. 3. 3. 2. 8. 3. 5. 3. 8. 1. 3. 3. 3. 3. 8. 7.\n",
      " 3. 6. 8. 3. 8. 6. 2. 8. 2. 1. 6. 3. 2. 1. 8. 2. 2. 8. 3. 1. 3.]\n",
      "cluster 4\n",
      "Number of elements in a cluster: 279\n",
      "[4. 4. 4. 4. 4. 4. 4. 4. 4. 4. 4. 4. 4. 4. 9. 4. 4. 4. 4. 4. 4. 4. 4. 4.\n",
      " 9. 4. 4. 4. 4. 4. 4. 4. 4. 4. 4. 4. 4. 4. 4. 4. 1. 4. 4. 4. 4. 4. 4. 4.\n",
      " 4. 4. 4. 4. 4. 4. 4. 9. 4. 4. 4. 4. 4. 4. 4. 4. 4. 4. 4. 4. 4. 4. 4. 4.\n",
      " 4. 4. 4. 9. 1. 4. 4. 4. 4. 4. 4. 4. 4. 4. 4. 4. 4. 4. 4. 4. 4. 4. 4. 4.\n",
      " 4. 4. 4. 4. 1. 4. 4. 7. 4. 4. 4. 4. 4. 4. 4. 4. 4. 4. 4. 4. 4. 4. 4. 4.\n",
      " 4. 4. 4. 4. 4. 4. 4. 4. 4. 4. 4. 4. 4. 4. 4. 4. 4. 4. 4. 4. 4. 4. 4. 4.\n",
      " 4. 4. 4. 4. 4. 4. 4. 4. 4. 4. 4. 4. 4. 4. 4. 1. 4. 4. 4. 4. 4. 9. 4. 4.\n",
      " 4. 4. 4. 4. 4. 4. 4. 4. 4. 4. 4. 4. 4. 4. 4. 4. 4. 4. 4. 4. 4. 4. 4. 4.\n",
      " 4. 4. 4. 4. 4. 4. 4. 4. 4. 4. 4. 4. 4. 4. 4. 4. 4. 4. 4. 4. 1. 4. 4. 4.\n",
      " 1. 4. 4. 4. 4. 4. 4. 4. 4. 4. 4. 4. 4. 4. 4. 4. 4. 4. 4. 4. 4. 4. 4. 4.\n",
      " 4. 4. 4. 5. 4. 0. 4. 4. 4. 4. 4. 4. 4. 4. 4. 4. 4. 4. 1. 4. 4. 4. 4. 4.\n",
      " 4. 4. 4. 4. 4. 4. 4. 4. 4. 4. 4. 4. 4. 4. 4.]\n",
      "cluster 5\n",
      "Number of elements in a cluster: 566\n",
      "[8. 5. 6. 8. 5. 8. 5. 8. 5. 3. 5. 5. 5. 5. 5. 5. 5. 5. 3. 5. 5. 5. 5. 9.\n",
      " 5. 5. 5. 3. 5. 7. 5. 5. 3. 9. 5. 5. 5. 8. 8. 3. 5. 3. 9. 5. 5. 5. 5. 8.\n",
      " 8. 9. 8. 1. 5. 5. 8. 9. 5. 8. 5. 8. 9. 5. 5. 5. 5. 5. 5. 5. 5. 8. 8. 8.\n",
      " 3. 8. 8. 5. 3. 5. 8. 8. 5. 5. 8. 5. 8. 5. 5. 5. 8. 5. 5. 5. 8. 5. 8. 5.\n",
      " 9. 5. 5. 9. 9. 5. 3. 8. 8. 5. 5. 5. 3. 5. 8. 5. 5. 5. 5. 3. 5. 5. 9. 8.\n",
      " 5. 3. 8. 5. 5. 3. 8. 8. 3. 5. 9. 5. 9. 3. 8. 5. 5. 5. 5. 5. 9. 5. 5. 8.\n",
      " 5. 5. 3. 5. 3. 5. 8. 5. 5. 5. 5. 5. 5. 5. 8. 5. 8. 5. 5. 9. 3. 9. 5. 5.\n",
      " 3. 3. 8. 5. 5. 3. 8. 5. 9. 5. 5. 5. 5. 5. 5. 3. 5. 8. 5. 5. 8. 8. 5. 5.\n",
      " 5. 3. 5. 5. 5. 1. 2. 5. 3. 5. 5. 5. 8. 5. 8. 5. 3. 5. 8. 5. 5. 3. 8. 8.\n",
      " 8. 8. 5. 8. 5. 5. 3. 5. 3. 5. 5. 8. 5. 8. 3. 5. 5. 5. 3. 5. 5. 3. 5. 5.\n",
      " 5. 5. 8. 5. 3. 5. 5. 5. 8. 5. 8. 5. 5. 5. 8. 5. 8. 2. 5. 5. 5. 5. 8. 3.\n",
      " 9. 8. 3. 5. 5. 5. 8. 8. 3. 9. 5. 5. 3. 9. 3. 5. 8. 5. 8. 5. 5. 8. 5. 8.\n",
      " 2. 5. 8. 8. 3. 1. 3. 5. 9. 9. 5. 8. 5. 5. 5. 5. 5. 8. 5. 9. 7. 8. 5. 5.\n",
      " 5. 5. 5. 5. 5. 8. 5. 5. 3. 8. 5. 5. 5. 5. 3. 5. 5. 8. 8. 5. 8. 9. 8. 5.\n",
      " 8. 5. 5. 4. 8. 5. 5. 8. 3. 8. 5. 5. 5. 8. 5. 5. 5. 5. 4. 5. 8. 3. 5. 5.\n",
      " 8. 8. 5. 5. 1. 5. 3. 8. 5. 8. 9. 3. 5. 8. 5. 5. 5. 5. 8. 8. 9. 8. 8. 5.\n",
      " 3. 3. 5. 8. 5. 8. 5. 4. 5. 5. 8. 9. 3. 5. 5. 5. 8. 3. 3. 5. 3. 8. 5. 8.\n",
      " 5. 8. 5. 5. 5. 5. 7. 3. 5. 5. 5. 8. 8. 5. 5. 9. 5. 5. 8. 5. 2. 3. 3. 9.\n",
      " 5. 8. 8. 5. 5. 3. 5. 5. 9. 5. 5. 8. 3. 3. 3. 1. 5. 8. 8. 3. 8. 5. 5. 5.\n",
      " 5. 3. 5. 8. 5. 3. 5. 3. 3. 3. 5. 2. 8. 5. 3. 8. 5. 8. 5. 5. 5. 5. 5. 5.\n",
      " 5. 3. 8. 5. 3. 5. 5. 3. 5. 5. 5. 5. 2. 3. 5. 3. 5. 3. 9. 9. 5. 9. 5. 5.\n",
      " 5. 5. 5. 3. 3. 3. 5. 8. 8. 5. 5. 9. 3. 3. 5. 9. 3. 5. 5. 9. 8. 5. 8. 5.\n",
      " 4. 8. 8. 5. 5. 5. 5. 3. 5. 5. 5. 3. 5. 5. 5. 5. 3. 8. 4. 5. 5. 3. 5. 4.\n",
      " 5. 3. 8. 5. 1. 5. 5. 8. 8. 5. 8. 3. 5. 8.]\n",
      "cluster 6\n",
      "Number of elements in a cluster: 556\n",
      "[6. 6. 6. 6. 4. 6. 6. 6. 5. 6. 6. 6. 4. 6. 6. 6. 6. 8. 6. 6. 6. 4. 4. 8.\n",
      " 4. 6. 6. 4. 6. 6. 8. 6. 6. 5. 6. 6. 6. 6. 6. 6. 6. 0. 6. 8. 4. 6. 4. 6.\n",
      " 6. 6. 6. 6. 5. 6. 4. 6. 6. 6. 6. 6. 4. 4. 6. 6. 4. 6. 6. 4. 1. 6. 6. 5.\n",
      " 6. 6. 6. 6. 6. 8. 6. 6. 6. 6. 6. 6. 6. 6. 6. 6. 6. 6. 6. 6. 6. 6. 6. 6.\n",
      " 6. 4. 6. 6. 6. 5. 6. 6. 4. 5. 6. 6. 6. 6. 6. 6. 4. 6. 6. 0. 6. 0. 6. 5.\n",
      " 6. 2. 6. 6. 0. 4. 6. 6. 6. 6. 6. 6. 6. 4. 6. 6. 6. 6. 4. 6. 6. 4. 4. 6.\n",
      " 6. 6. 6. 6. 6. 6. 6. 6. 6. 6. 6. 4. 6. 8. 6. 6. 2. 6. 6. 6. 2. 6. 6. 6.\n",
      " 8. 6. 6. 6. 6. 6. 6. 4. 6. 6. 6. 6. 4. 6. 6. 6. 6. 6. 6. 6. 6. 6. 4. 6.\n",
      " 6. 6. 6. 4. 6. 6. 6. 4. 4. 6. 6. 6. 6. 5. 0. 6. 6. 6. 6. 6. 6. 6. 8. 4.\n",
      " 6. 5. 6. 5. 5. 6. 6. 6. 6. 6. 4. 6. 6. 4. 4. 6. 6. 6. 6. 6. 6. 6. 6. 6.\n",
      " 4. 5. 6. 5. 0. 6. 6. 6. 6. 6. 2. 6. 6. 6. 6. 6. 6. 5. 6. 6. 6. 6. 6. 8.\n",
      " 6. 6. 6. 6. 6. 6. 6. 6. 6. 6. 6. 4. 6. 6. 6. 6. 5. 6. 6. 4. 8. 6. 6. 5.\n",
      " 6. 4. 6. 6. 4. 6. 6. 6. 4. 6. 6. 6. 6. 6. 4. 6. 6. 6. 6. 6. 6. 6. 4. 6.\n",
      " 6. 4. 6. 6. 6. 2. 6. 8. 6. 4. 4. 6. 8. 6. 6. 4. 6. 6. 5. 6. 9. 5. 6. 6.\n",
      " 6. 6. 6. 6. 6. 6. 6. 8. 6. 6. 6. 2. 6. 4. 6. 6. 6. 6. 8. 6. 6. 6. 0. 6.\n",
      " 6. 6. 6. 6. 6. 6. 6. 6. 6. 6. 6. 4. 1. 1. 6. 6. 6. 6. 6. 4. 5. 6. 4. 6.\n",
      " 6. 6. 6. 6. 6. 6. 4. 6. 6. 4. 6. 6. 6. 6. 4. 2. 6. 6. 6. 8. 6. 6. 6. 6.\n",
      " 6. 6. 6. 6. 6. 6. 6. 6. 5. 6. 6. 4. 6. 6. 6. 6. 5. 6. 6. 6. 6. 6. 6. 5.\n",
      " 4. 6. 6. 6. 6. 6. 0. 6. 6. 6. 6. 8. 6. 6. 6. 6. 6. 8. 6. 6. 6. 6. 6. 4.\n",
      " 6. 6. 6. 6. 4. 6. 4. 6. 6. 6. 6. 6. 6. 6. 2. 6. 6. 6. 8. 6. 4. 6. 6. 8.\n",
      " 6. 6. 6. 6. 4. 6. 4. 4. 4. 6. 6. 6. 6. 6. 6. 6. 6. 6. 6. 6. 6. 6. 2. 4.\n",
      " 6. 6. 4. 6. 6. 6. 6. 4. 6. 6. 4. 6. 4. 6. 6. 6. 6. 6. 6. 6. 6. 6. 4. 4.\n",
      " 6. 6. 6. 6. 6. 6. 6. 6. 5. 6. 6. 6. 6. 4. 5. 6. 6. 6. 6. 6. 6. 6. 6. 6.\n",
      " 6. 6. 6. 6.]\n",
      "cluster 7\n",
      "Number of elements in a cluster: 451\n",
      "[7. 9. 7. 7. 7. 7. 7. 7. 9. 7. 7. 7. 7. 7. 7. 7. 7. 3. 7. 7. 3. 7. 7. 3.\n",
      " 9. 7. 7. 7. 7. 7. 7. 7. 7. 7. 7. 7. 7. 7. 1. 7. 7. 7. 3. 9. 7. 7. 7. 7.\n",
      " 7. 7. 7. 7. 7. 9. 9. 7. 7. 7. 3. 7. 7. 9. 7. 7. 7. 9. 7. 8. 7. 7. 7. 7.\n",
      " 7. 4. 7. 7. 7. 7. 7. 7. 7. 7. 7. 7. 7. 7. 7. 7. 7. 9. 7. 2. 7. 9. 7. 7.\n",
      " 7. 7. 2. 7. 7. 4. 7. 9. 3. 7. 7. 9. 2. 9. 7. 7. 2. 7. 7. 7. 7. 7. 7. 7.\n",
      " 7. 7. 7. 4. 9. 7. 7. 3. 7. 7. 3. 7. 7. 7. 7. 7. 7. 7. 9. 7. 7. 7. 9. 7.\n",
      " 7. 7. 7. 7. 7. 7. 7. 7. 7. 7. 7. 7. 7. 7. 7. 7. 7. 7. 7. 3. 7. 4. 4. 9.\n",
      " 7. 7. 7. 4. 7. 7. 7. 7. 7. 7. 7. 7. 9. 9. 7. 4. 4. 9. 4. 4. 7. 2. 7. 7.\n",
      " 7. 7. 7. 7. 7. 7. 7. 7. 7. 7. 7. 7. 7. 9. 7. 7. 7. 7. 7. 7. 7. 7. 7. 7.\n",
      " 7. 7. 7. 7. 7. 7. 7. 7. 3. 7. 7. 7. 7. 7. 9. 3. 7. 4. 7. 7. 7. 7. 3. 7.\n",
      " 7. 7. 7. 7. 7. 7. 7. 7. 7. 4. 4. 9. 7. 9. 3. 7. 7. 7. 7. 7. 7. 7. 7. 7.\n",
      " 7. 7. 7. 9. 7. 7. 7. 3. 7. 7. 7. 9. 7. 7. 7. 9. 9. 7. 7. 7. 7. 7. 7. 9.\n",
      " 7. 3. 7. 7. 7. 7. 9. 3. 9. 7. 3. 7. 7. 7. 7. 9. 7. 9. 7. 7. 7. 7. 7. 7.\n",
      " 7. 9. 7. 7. 9. 7. 4. 7. 7. 7. 7. 7. 7. 7. 7. 7. 7. 7. 7. 2. 7. 4. 7. 4.\n",
      " 3. 2. 7. 7. 7. 7. 9. 7. 2. 7. 7. 7. 7. 4. 7. 7. 7. 7. 7. 9. 7. 7. 9. 7.\n",
      " 7. 7. 7. 7. 7. 7. 7. 7. 7. 2. 7. 7. 4. 7. 7. 9. 3. 7. 7. 7. 7. 7. 7. 7.\n",
      " 7. 9. 7. 7. 7. 7. 7. 7. 7. 4. 7. 9. 7. 7. 7. 7. 9. 4. 7. 7. 7. 7. 7. 7.\n",
      " 7. 3. 7. 7. 7. 7. 7. 7. 7. 7. 7. 7. 7. 7. 7. 7. 7. 7. 7. 7. 7. 7. 7. 7.\n",
      " 7. 7. 7. 7. 7. 7. 7. 7. 7. 7. 7. 7. 7. 7. 9. 7. 7. 7. 3.]\n",
      "cluster 8\n",
      "Number of elements in a cluster: 216\n",
      "[7. 8. 4. 6. 4. 1. 8. 8. 7. 4. 4. 4. 7. 9. 8. 8. 4. 4. 8. 1. 4. 8. 8. 8.\n",
      " 4. 8. 8. 9. 8. 1. 9. 4. 1. 8. 9. 8. 4. 4. 4. 8. 4. 9. 8. 8. 8. 4. 9. 8.\n",
      " 2. 4. 4. 9. 9. 4. 4. 4. 4. 4. 4. 8. 8. 8. 8. 4. 7. 4. 8. 8. 4. 8. 8. 7.\n",
      " 8. 8. 8. 7. 4. 4. 4. 4. 8. 8. 4. 8. 4. 1. 7. 2. 8. 8. 4. 4. 7. 8. 7. 8.\n",
      " 7. 8. 2. 8. 8. 8. 8. 8. 8. 4. 7. 4. 4. 4. 4. 8. 4. 7. 8. 8. 7. 8. 2. 8.\n",
      " 7. 7. 8. 7. 8. 4. 8. 8. 9. 8. 7. 4. 4. 7. 4. 1. 8. 4. 8. 8. 4. 7. 7. 8.\n",
      " 4. 4. 4. 7. 8. 9. 8. 8. 8. 8. 8. 4. 4. 8. 2. 9. 4. 4. 4. 9. 7. 7. 4. 8.\n",
      " 2. 4. 2. 4. 8. 8. 9. 4. 8. 1. 8. 4. 8. 7. 4. 9. 4. 8. 8. 2. 8. 8. 4. 9.\n",
      " 7. 9. 7. 2. 8. 8. 8. 7. 4. 8. 1. 8. 1. 4. 8. 8. 8. 8. 4. 8. 1. 8. 7. 8.]\n",
      "cluster 9\n",
      "Number of elements in a cluster: 757\n",
      "[3. 9. 5. 9. 5. 9. 3. 9. 3. 9. 9. 9. 9. 5. 9. 3. 9. 9. 3. 9. 3. 2. 9. 1.\n",
      " 9. 2. 3. 9. 8. 9. 9. 3. 3. 3. 3. 9. 9. 3. 5. 9. 3. 3. 5. 9. 3. 9. 3. 9.\n",
      " 3. 9. 3. 9. 5. 9. 3. 8. 8. 3. 9. 9. 3. 9. 3. 9. 9. 3. 3. 3. 3. 9. 9. 9.\n",
      " 9. 8. 3. 9. 5. 3. 5. 5. 9. 8. 8. 1. 3. 3. 9. 3. 9. 3. 9. 9. 3. 9. 1. 3.\n",
      " 3. 3. 5. 3. 9. 3. 3. 9. 9. 1. 3. 4. 9. 1. 8. 3. 9. 9. 3. 9. 8. 1. 8. 3.\n",
      " 9. 3. 9. 3. 9. 3. 9. 3. 3. 9. 1. 3. 5. 9. 9. 3. 9. 9. 9. 8. 1. 3. 3. 9.\n",
      " 9. 3. 9. 3. 3. 5. 3. 3. 9. 5. 3. 9. 3. 3. 3. 9. 9. 9. 3. 9. 5. 3. 1. 1.\n",
      " 1. 3. 2. 9. 9. 3. 9. 9. 5. 3. 5. 9. 2. 5. 3. 9. 9. 0. 3. 3. 8. 9. 9. 3.\n",
      " 9. 3. 5. 9. 3. 3. 9. 9. 9. 9. 3. 9. 3. 9. 9. 9. 9. 3. 3. 5. 9. 9. 9. 1.\n",
      " 3. 9. 9. 1. 9. 8. 3. 8. 9. 5. 3. 3. 3. 9. 9. 9. 9. 5. 9. 9. 9. 9. 3. 9.\n",
      " 9. 3. 5. 9. 3. 9. 3. 9. 9. 5. 1. 8. 9. 3. 3. 5. 9. 3. 3. 5. 9. 9. 9. 3.\n",
      " 9. 9. 5. 8. 9. 3. 0. 5. 9. 3. 3. 9. 9. 3. 3. 9. 3. 9. 3. 3. 9. 9. 0. 3.\n",
      " 9. 9. 3. 3. 1. 8. 9. 5. 9. 9. 8. 9. 9. 9. 8. 9. 3. 9. 3. 8. 5. 9. 9. 3.\n",
      " 9. 3. 9. 3. 3. 3. 3. 9. 3. 5. 9. 5. 9. 3. 3. 9. 3. 3. 9. 3. 5. 9. 8. 3.\n",
      " 9. 9. 9. 9. 1. 5. 5. 5. 9. 9. 3. 9. 3. 9. 8. 1. 1. 9. 3. 9. 3. 5. 5. 0.\n",
      " 3. 9. 5. 2. 5. 9. 3. 3. 9. 5. 5. 3. 2. 3. 3. 3. 3. 3. 9. 3. 5. 3. 9. 9.\n",
      " 2. 3. 9. 9. 9. 9. 3. 8. 9. 3. 9. 3. 3. 9. 9. 9. 9. 9. 3. 3. 9. 9. 8. 8.\n",
      " 2. 9. 9. 5. 5. 8. 3. 5. 1. 3. 3. 9. 3. 3. 9. 1. 9. 3. 9. 9. 9. 9. 9. 9.\n",
      " 5. 9. 3. 9. 9. 3. 9. 3. 3. 8. 9. 3. 9. 3. 9. 9. 3. 3. 9. 3. 3. 9. 3. 9.\n",
      " 9. 3. 9. 9. 2. 8. 3. 8. 9. 9. 9. 3. 9. 9. 9. 9. 3. 9. 9. 5. 9. 9. 3. 3.\n",
      " 9. 2. 8. 3. 9. 9. 3. 9. 3. 9. 9. 1. 3. 3. 1. 3. 5. 5. 3. 3. 9. 3. 9. 5.\n",
      " 9. 3. 9. 9. 3. 9. 3. 3. 9. 9. 5. 9. 3. 5. 3. 8. 3. 9. 9. 9. 9. 3. 5. 3.\n",
      " 5. 8. 5. 5. 8. 9. 3. 9. 8. 9. 9. 5. 3. 9. 5. 9. 9. 9. 9. 9. 3. 3. 9. 9.\n",
      " 9. 9. 3. 3. 9. 9. 8. 9. 0. 9. 9. 9. 1. 3. 9. 9. 9. 9. 9. 3. 3. 3. 9. 9.\n",
      " 5. 5. 9. 5. 5. 3. 3. 9. 8. 9. 3. 9. 9. 3. 5. 3. 3. 9. 9. 9. 9. 8. 9. 1.\n",
      " 9. 1. 3. 3. 1. 9. 9. 9. 5. 3. 9. 9. 9. 8. 9. 5. 9. 8. 3. 9. 2. 2. 9. 3.\n",
      " 8. 9. 3. 5. 9. 3. 5. 3. 5. 3. 3. 9. 3. 3. 3. 3. 3. 3. 9. 9. 3. 3. 9. 9.\n",
      " 3. 3. 9. 3. 9. 3. 9. 3. 9. 3. 3. 8. 5. 3. 9. 5. 3. 5. 9. 9. 3. 3. 9. 5.\n",
      " 5. 8. 9. 5. 9. 9. 5. 3. 9. 9. 9. 9. 5. 8. 3. 9. 9. 9. 3. 1. 8. 8. 9. 8.\n",
      " 9. 9. 9. 5. 9. 9. 3. 9. 9. 3. 3. 3. 9. 9. 9. 9. 9. 3. 9. 8. 3. 5. 3. 9.\n",
      " 3. 9. 1. 3. 9. 8. 3. 3. 5. 5. 5. 8. 3. 5. 3. 9. 2. 9. 3. 5. 3. 3. 8. 9.\n",
      " 9. 9. 9. 3. 8. 9. 9. 9. 9. 8. 5. 3. 9.]\n"
     ]
    }
   ],
   "source": [
    "print_number_in_all_cluster(Output)"
   ]
  },
  {
   "cell_type": "code",
   "execution_count": 31,
   "id": "2961d344-7661-4623-94bd-e8316a6c60ba",
   "metadata": {},
   "outputs": [
    {
     "name": "stdout",
     "output_type": "stream",
     "text": [
      "Accurcy in test Dataset:\n",
      "72.77580071174377\n"
     ]
    }
   ],
   "source": [
    "measuring_accuracy(Centroids,test_data,test_label)"
   ]
  },
  {
   "cell_type": "code",
   "execution_count": 32,
   "id": "2599c903-fbfd-45cf-a4bf-40ab33e31a31",
   "metadata": {},
   "outputs": [
    {
     "name": "stdout",
     "output_type": "stream",
     "text": [
      "Cluster 0\n",
      "486 elements\n"
     ]
    },
    {
     "data": {
      "image/png": "[encoded data removed]",
      "text/plain": [
       "<Figure size 2160x720 with 50 Axes>"
      ]
     },
     "metadata": {
      "needs_background": "light"
     },
     "output_type": "display_data"
    },
    {
     "name": "stdout",
     "output_type": "stream",
     "text": [
      "Cluster 1\n",
      "583 elements\n"
     ]
    },
    {
     "data": {
      "image/png": "[encoded data removed]",
      "text/plain": [
       "<Figure size 2160x720 with 50 Axes>"
      ]
     },
     "metadata": {
      "needs_background": "light"
     },
     "output_type": "display_data"
    },
    {
     "name": "stdout",
     "output_type": "stream",
     "text": [
      "Cluster 2\n",
      "389 elements\n"
     ]
    },
    {
     "data": {
      "image/png": "[encoded data removed]",
      "text/plain": [
       "<Figure size 2160x720 with 50 Axes>"
      ]
     },
     "metadata": {
      "needs_background": "light"
     },
     "output_type": "display_data"
    },
    {
     "name": "stdout",
     "output_type": "stream",
     "text": [
      "Cluster 3\n",
      "213 elements\n"
     ]
    },
    {
     "data": {
      "image/png": "[encoded data removed]",
      "text/plain": [
       "<Figure size 2160x720 with 50 Axes>"
      ]
     },
     "metadata": {
      "needs_background": "light"
     },
     "output_type": "display_data"
    },
    {
     "name": "stdout",
     "output_type": "stream",
     "text": [
      "Cluster 4\n",
      "279 elements\n"
     ]
    },
    {
     "data": {
      "image/png": "[encoded data removed]",
      "text/plain": [
       "<Figure size 2160x720 with 50 Axes>"
      ]
     },
     "metadata": {
      "needs_background": "light"
     },
     "output_type": "display_data"
    },
    {
     "name": "stdout",
     "output_type": "stream",
     "text": [
      "Cluster 5\n",
      "566 elements\n"
     ]
    },
    {
     "data": {
      "image/png": "[encoded data removed]",
      "text/plain": [
       "<Figure size 2160x720 with 50 Axes>"
      ]
     },
     "metadata": {
      "needs_background": "light"
     },
     "output_type": "display_data"
    },
    {
     "name": "stdout",
     "output_type": "stream",
     "text": [
      "Cluster 6\n",
      "556 elements\n"
     ]
    },
    {
     "data": {
      "image/png": "[encoded data removed]",
      "text/plain": [
       "<Figure size 2160x720 with 50 Axes>"
      ]
     },
     "metadata": {
      "needs_background": "light"
     },
     "output_type": "display_data"
    },
    {
     "name": "stdout",
     "output_type": "stream",
     "text": [
      "Cluster 7\n",
      "451 elements\n"
     ]
    },
    {
     "data": {
      "image/png": "[encoded data removed]",
      "text/plain": [
       "<Figure size 2160x720 with 50 Axes>"
      ]
     },
     "metadata": {
      "needs_background": "light"
     },
     "output_type": "display_data"
    },
    {
     "name": "stdout",
     "output_type": "stream",
     "text": [
      "Cluster 8\n",
      "216 elements\n"
     ]
    },
    {
     "data": {
      "image/png": "[encoded data removed]",
      "text/plain": [
       "<Figure size 2160x720 with 50 Axes>"
      ]
     },
     "metadata": {
      "needs_background": "light"
     },
     "output_type": "display_data"
    },
    {
     "name": "stdout",
     "output_type": "stream",
     "text": [
      "Cluster 9\n",
      "757 elements\n"
     ]
    },
    {
     "data": {
      "image/png": "[encoded data removed]",
      "text/plain": [
       "<Figure size 2160x720 with 50 Axes>"
      ]
     },
     "metadata": {
      "needs_background": "light"
     },
     "output_type": "display_data"
    }
   ],
   "source": [
    "visualize_50_digits_in_cluster(Output)"
   ]
  },
  {
   "cell_type": "code",
   "execution_count": null,
   "id": "1defe050-7214-4d97-b02d-213fa121177e",
   "metadata": {},
   "outputs": [],
   "source": []
  }
 ],
 "metadata": {
  "kernelspec": {
   "display_name": "Python 3",
   "language": "python",
   "name": "python3"
  },
  "language_info": {
   "codemirror_mode": {
    "name": "ipython",
    "version": 3
   },
   "file_extension": ".py",
   "mimetype": "text/x-python",
   "name": "python",
   "nbconvert_exporter": "python",
   "pygments_lexer": "ipython3",
   "version": "3.8.5"
  }
 },
 "nbformat": 4,
 "nbformat_minor": 5
}
