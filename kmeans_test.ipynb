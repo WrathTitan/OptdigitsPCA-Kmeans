{
 "cells": [
  {
   "cell_type": "code",
   "execution_count": 2252,
   "id": "45f370cb",
   "metadata": {},
   "outputs": [],
   "source": [
    "import numpy as np\n",
    "import pandas as pd\n",
    "import seaborn as sns\n",
    "import matplotlib.pyplot as plt\n",
    "import random as rd\n",
    "from sklearn.model_selection import train_test_split"
   ]
  },
  {
   "cell_type": "code",
   "execution_count": 2253,
   "id": "ca948154",
   "metadata": {},
   "outputs": [],
   "source": [
    "optdigits_df=pd.read_csv('optdigits_csv.csv')"
   ]
  },
  {
   "source": [
    "## To perform kmeans algorithm one has to follow these steps:\n",
    "1. Decide the number of cluster in our case there are 10 digits to be classified so 10 clusters.\n",
    "2. Initialize the centroid\n",
    "3. Assign to each point in the dataset a centroid, respective centroid are assigned to each point by calculating the shortest distance between centroid and point.\n",
    "4. Calculate the new centroid by calculating mean of all points assigned to the centroid.\n",
    "5. Repeat the algorithm till value in centroid doesnt change"
   ],
   "cell_type": "markdown",
   "metadata": {}
  },
  {
   "cell_type": "code",
   "execution_count": 2254,
   "metadata": {},
   "outputs": [],
   "source": [
    "def test_train_splitter(optdigits_df):\n",
    "    X,Y = train_test_split(optdigits_df,test_size=0.20, random_state=1)\n",
    "    division = X.shape[1] - 1\n",
    "    print(division)\n",
    "    X_without_label = X.iloc[:,0:division].values \n",
    "    X_with_label = X.iloc[:,:].values\n",
    "    Y_data = Y.iloc[:,0:division].values  \n",
    "    Y_label = Y.iloc[:,division].values \n",
    "    return X_with_label,X_without_label,Y_data,Y_label"
   ]
  },
  {
   "source": [
    "## Step 2 Centroid initialization\n",
    "In this step centroids are initialized.    \n",
    "It is ensured that centroids are initialized from each digit. "
   ],
   "cell_type": "markdown",
   "metadata": {}
  },
  {
   "source": [
    "def centroid_initialization(X_with_label,X_without_label):    \n",
    "    i = 0\n",
    "    Centroids=np.array([]).reshape(no_of_features,0)\n",
    "    while(i<10):\n",
    "        rand=rd.randint(0,m-1)\n",
    "        # A point is guessed and label is correlated with i whose value varies from 0 - 10\n",
    "        # If value of label is mached with i it is added in centroids\n",
    "        # i is incremented\n",
    "        if(X_with_label[rand,no_of_features] == i):\n",
    "            Centroids=np.c_[Centroids,X_without_label[rand]]\n",
    "            i = i + 1\n",
    "    return Centroids"
   ],
   "cell_type": "code",
   "metadata": {},
   "execution_count": 2255,
   "outputs": []
  },
  {
   "source": [
    "## K-Means Algorithm\n",
    "From centroid EuclidianDistance is calculated with each Point and a cluster is assigned to a point based on the shortest distance with the cluster.  \n",
    "Mean is calculated from each point in a respective centroid and is used as a new centroid.   "
   ],
   "cell_type": "markdown",
   "metadata": {}
  },
  {
   "cell_type": "code",
   "execution_count": 2256,
   "id": "6ddb8aa7",
   "metadata": {},
   "outputs": [],
   "source": [
    "def kmeans_algorithm(X_with_label,X_without_label,Centroids):\n",
    "    num_iter=100\n",
    "    Output={} #output that will store each point in a cluster\n",
    "    for n in range(100):\n",
    "        EuclidianDistance=np.array([]).reshape(m,0)\n",
    "        for k in range(K):\n",
    "            tempDist=np.sum((X_without_label-Centroids[:,k])**2,axis=1)\n",
    "            EuclidianDistance=np.c_[EuclidianDistance,tempDist]\n",
    "        C=np.argmin(EuclidianDistance,axis=1) # cluster for each point based on shortest distance from a centroid \n",
    "        #Calculating new mean\n",
    "        Z={}\n",
    "        for k in range(K):\n",
    "            Z[k]=np.array([]).reshape(no_of_features,0)\n",
    "            Output[k]=np.array([]).reshape(no_of_features+1,0)\n",
    "        for i in range(m):\n",
    "            Z[C[i]]=np.c_[Z[C[i]],X_without_label[i]]\n",
    "            Output[C[i]]=np.c_[Output[C[i]],X_with_label[i]]     \n",
    "        for k in range(K):\n",
    "            Z[k]=Z[k].T\n",
    "        for k in range(K):\n",
    "            Centroids[:,k]=np.mean(Z[k],axis=0)\n",
    "        return Output"
   ]
  },
  {
   "source": [
    "### Showing all digits present in a cluster based on their labels"
   ],
   "cell_type": "markdown",
   "metadata": {}
  },
  {
   "cell_type": "code",
   "execution_count": 2257,
   "id": "7c9b2b1c",
   "metadata": {
    "scrolled": true
   },
   "outputs": [],
   "source": [
    "def print_number_in_all_cluster(Output):\n",
    "    for i  in range(0,10):\n",
    "        print(\"cluster \"+str(i))\n",
    "        print(\"Number of elements in a cluster: \" + str(Output[i].shape[1]))\n",
    "        print(Output[i][no_of_features,:])"
   ]
  },
  {
   "source": [
    "### visualizing points based on their features"
   ],
   "cell_type": "markdown",
   "metadata": {}
  },
  {
   "cell_type": "code",
   "execution_count": 2258,
   "id": "68b18246",
   "metadata": {},
   "outputs": [],
   "source": [
    "def visualize_50_digits_in_cluster(Output):\n",
    "    for j in range(0,10):\n",
    "        plt.figure(figsize=(30,10))\n",
    "        print('Cluster ' + str(j))\n",
    "        numOfRows = 50\n",
    "        print(str(Output[j].shape[1]) + \" elements\")\n",
    "        for i in range(0,50):\n",
    "            plt.subplot(5+1,10,i+1)\n",
    "            image = Output[j][0:no_of_features,i]\n",
    "            image = image.reshape(8,8)\n",
    "            plt.imshow(image,cmap='gray')\n",
    "            plt.axis('off')\n",
    "        plt.show()"
   ]
  },
  {
   "source": [
    "## Measuring Accuracy\n",
    "The accuracy is Measured by calculating which cluster the data belongs and assigning the value of the respective cluster.  \n",
    "Comparing how many are correctly identified and dividing with number of test data."
   ],
   "cell_type": "markdown",
   "metadata": {}
  },
  {
   "cell_type": "code",
   "execution_count": 2259,
   "metadata": {},
   "outputs": [],
   "source": [
    "def measuring_accuracy(Centroids,Y_data,Y_label):\n",
    "    number_of_test_data = Y_data.shape[0]\n",
    "    EuclidianDistance=np.array([]).reshape(number_of_test_data,0)\n",
    "    for k in range(K):\n",
    "        tempDist=np.sum((Y_data-Centroids[:,k])**2,axis=1)\n",
    "        EuclidianDistance=np.c_[EuclidianDistance,tempDist]\n",
    "    predicted_value=np.argmin(EuclidianDistance,axis=1)\n",
    "    number_of_correct_prediction = 0\n",
    "    for i in range(0,predicted_value.shape[0]):\n",
    "        if(predicted_value[i] == Y_label[i]):\n",
    "            number_of_correct_prediction = number_of_correct_prediction + 1\n",
    "    accuracy = number_of_correct_prediction/number_of_test_data * 100\n",
    "    print('Accurcy in test Dataset:')\n",
    "    print(accuracy)"
   ]
  },
  {
   "cell_type": "code",
   "execution_count": 2260,
   "id": "6a1127c2",
   "metadata": {},
   "outputs": [
    {
     "output_type": "stream",
     "name": "stdout",
     "text": [
      "64\nNo  64\n"
     ]
    }
   ],
   "source": [
    "X_with_label,X_without_label,Y_data,Y_label = test_train_splitter(optdigits_df)\n",
    "m = X_without_label.shape[0]\n",
    "no_of_features = X_without_label.shape[1]\n",
    "print('No ' , no_of_features)\n",
    "K=10\n",
    "Centroids = centroid_initialization(X_with_label,X_without_label)\n",
    "Output = kmeans_algorithm(X_with_label,X_without_label,Centroids)"
   ]
  },
  {
   "cell_type": "code",
   "execution_count": 2261,
   "metadata": {},
   "outputs": [],
   "source": [
    "#visualize_50_digits_in_cluster(Output)"
   ]
  },
  {
   "cell_type": "code",
   "execution_count": 2262,
   "metadata": {},
   "outputs": [
    {
     "output_type": "stream",
     "name": "stdout",
     "text": [
      "cluster 0\nNumber of elements in a cluster: 548\n[0. 0. 0. 0. 0. 0. 0. 0. 6. 0. 0. 0. 0. 0. 0. 0. 0. 0. 0. 0. 0. 0. 0. 0.\n 0. 0. 0. 0. 0. 3. 0. 4. 0. 0. 0. 0. 0. 0. 0. 0. 0. 0. 0. 0. 0. 0. 0. 0.\n 5. 0. 0. 0. 2. 0. 4. 0. 0. 4. 0. 9. 0. 0. 0. 6. 0. 0. 0. 0. 0. 9. 0. 0.\n 0. 0. 0. 0. 0. 9. 0. 0. 0. 0. 0. 0. 5. 0. 0. 7. 0. 0. 4. 0. 0. 0. 0. 0.\n 0. 0. 9. 0. 0. 0. 0. 0. 0. 0. 0. 0. 0. 0. 9. 0. 0. 4. 9. 9. 9. 0. 0. 9.\n 0. 0. 0. 0. 0. 0. 9. 0. 0. 0. 0. 0. 0. 0. 0. 4. 0. 0. 7. 0. 0. 9. 0. 9.\n 9. 9. 0. 0. 0. 0. 0. 0. 0. 0. 0. 0. 0. 9. 0. 0. 0. 0. 9. 0. 0. 0. 9. 5.\n 0. 0. 4. 9. 0. 0. 0. 0. 0. 0. 0. 0. 0. 0. 0. 6. 7. 0. 4. 0. 5. 0. 0. 0.\n 0. 0. 0. 9. 0. 0. 5. 0. 0. 0. 0. 0. 0. 0. 0. 0. 0. 0. 0. 4. 0. 0. 0. 2.\n 9. 0. 0. 9. 0. 0. 0. 0. 0. 0. 0. 6. 0. 0. 8. 0. 0. 4. 0. 0. 0. 0. 0. 4.\n 0. 0. 0. 9. 0. 9. 4. 0. 4. 0. 0. 4. 5. 0. 0. 0. 8. 0. 0. 0. 0. 9. 0. 0.\n 0. 4. 0. 0. 0. 0. 0. 0. 0. 0. 4. 0. 4. 0. 0. 7. 0. 5. 0. 0. 0. 0. 0. 0.\n 0. 6. 0. 0. 4. 0. 0. 0. 0. 0. 5. 0. 1. 0. 0. 0. 0. 0. 0. 0. 0. 0. 0. 0.\n 0. 0. 0. 0. 0. 9. 0. 0. 6. 0. 0. 0. 7. 4. 0. 0. 0. 0. 0. 0. 0. 0. 0. 0.\n 0. 0. 4. 0. 0. 0. 0. 0. 5. 0. 0. 4. 0. 0. 0. 0. 0. 0. 0. 0. 0. 0. 7. 0.\n 0. 6. 7. 0. 0. 9. 0. 0. 0. 0. 0. 0. 7. 0. 0. 0. 9. 0. 0. 0. 0. 0. 0. 3.\n 9. 0. 2. 0. 0. 0. 0. 0. 0. 0. 0. 0. 0. 0. 0. 9. 9. 1. 0. 4. 9. 0. 0. 0.\n 0. 0. 0. 0. 0. 5. 0. 0. 0. 0. 0. 7. 0. 0. 0. 8. 0. 6. 0. 0. 0. 0. 0. 4.\n 0. 0. 0. 0. 0. 0. 0. 0. 2. 0. 0. 0. 0. 0. 0. 0. 0. 0. 0. 0. 0. 0. 0. 0.\n 0. 0. 0. 0. 0. 9. 0. 0. 8. 0. 0. 0. 4. 0. 0. 0. 0. 8. 0. 0. 4. 0. 0. 0.\n 0. 0. 0. 2. 0. 0. 0. 0. 0. 0. 0. 0. 0. 9. 0. 9. 0. 3. 0. 0. 0. 0. 0. 0.\n 9. 8. 0. 0. 0. 9. 0. 0. 0. 0. 0. 0. 0. 0. 0. 0. 0. 9. 0. 4. 0. 0. 0. 0.\n 0. 0. 0. 0. 0. 0. 0. 0. 0. 0. 0. 0. 0. 0. 9. 4. 0. 0. 6. 0.]\ncluster 1\nNumber of elements in a cluster: 333\n[1. 1. 1. 1. 1. 1. 1. 1. 1. 1. 1. 1. 4. 5. 4. 6. 1. 2. 1. 1. 7. 1. 4. 8.\n 7. 1. 1. 1. 1. 8. 7. 1. 1. 1. 1. 1. 1. 1. 1. 1. 1. 1. 2. 1. 4. 1. 1. 2.\n 1. 1. 1. 1. 1. 1. 8. 1. 4. 1. 1. 1. 1. 2. 1. 8. 1. 1. 7. 2. 1. 1. 1. 1.\n 1. 1. 4. 1. 4. 1. 1. 1. 1. 1. 1. 4. 4. 1. 7. 1. 1. 2. 1. 1. 2. 1. 1. 1.\n 2. 1. 1. 1. 1. 1. 1. 4. 1. 1. 1. 1. 4. 1. 4. 1. 4. 1. 1. 4. 1. 1. 1. 1.\n 8. 2. 1. 8. 8. 7. 1. 1. 7. 1. 1. 1. 1. 1. 1. 1. 1. 1. 6. 1. 1. 1. 1. 8.\n 1. 1. 1. 1. 1. 1. 1. 1. 1. 1. 1. 1. 1. 9. 1. 1. 1. 1. 5. 1. 1. 1. 1. 1.\n 1. 1. 1. 1. 1. 1. 8. 1. 1. 1. 1. 1. 4. 1. 2. 1. 1. 1. 1. 8. 1. 8. 8. 1.\n 1. 4. 1. 1. 1. 1. 4. 1. 1. 1. 1. 1. 1. 8. 1. 1. 1. 1. 1. 1. 1. 2. 1. 1.\n 4. 4. 1. 7. 1. 8. 1. 1. 1. 4. 1. 1. 1. 1. 1. 1. 1. 4. 1. 1. 7. 1. 1. 8.\n 4. 1. 1. 1. 1. 1. 1. 1. 1. 2. 1. 1. 2. 1. 4. 1. 1. 1. 2. 1. 1. 1. 2. 1.\n 1. 1. 1. 1. 7. 4. 1. 1. 1. 1. 1. 1. 2. 1. 8. 1. 1. 1. 1. 1. 1. 1. 1. 7.\n 7. 2. 1. 1. 1. 1. 1. 1. 1. 1. 1. 2. 4. 1. 1. 1. 1. 1. 1. 1. 1. 7. 1. 7.\n 1. 1. 1. 2. 1. 1. 1. 1. 1. 1. 1. 1. 7. 8. 1. 1. 1. 1. 1. 1. 1.]\ncluster 2\nNumber of elements in a cluster: 303\n[2. 2. 2. 8. 2. 2. 2. 2. 2. 2. 2. 2. 2. 2. 2. 2. 2. 2. 2. 9. 8. 2. 2. 2.\n 2. 2. 8. 3. 2. 2. 2. 2. 2. 2. 2. 2. 2. 2. 2. 2. 2. 2. 2. 1. 3. 2. 2. 2.\n 3. 2. 2. 2. 2. 2. 2. 2. 2. 2. 2. 2. 2. 2. 2. 2. 2. 2. 2. 2. 2. 2. 2. 2.\n 2. 2. 2. 8. 2. 2. 2. 2. 2. 2. 2. 2. 2. 9. 2. 2. 2. 2. 2. 2. 2. 8. 2. 2.\n 2. 2. 2. 2. 2. 2. 2. 2. 2. 2. 2. 2. 2. 2. 9. 2. 2. 2. 2. 2. 2. 2. 2. 2.\n 8. 2. 2. 2. 2. 2. 2. 2. 2. 2. 9. 2. 2. 2. 2. 2. 2. 2. 2. 2. 2. 2. 2. 2.\n 2. 2. 2. 2. 2. 2. 2. 8. 2. 2. 2. 2. 2. 2. 2. 2. 2. 1. 2. 2. 2. 2. 2. 2.\n 2. 2. 2. 2. 8. 2. 1. 3. 9. 2. 2. 2. 2. 2. 2. 2. 6. 2. 2. 2. 2. 2. 2. 2.\n 2. 8. 2. 2. 2. 2. 2. 2. 2. 2. 2. 2. 2. 8. 2. 2. 2. 2. 2. 1. 2. 2. 2. 2.\n 2. 2. 2. 2. 2. 2. 2. 2. 2. 2. 2. 2. 2. 2. 2. 2. 2. 2. 1. 2. 1. 2. 2. 2.\n 8. 2. 2. 2. 2. 2. 2. 2. 2. 2. 2. 2. 2. 2. 2. 2. 2. 2. 2. 2. 2. 2. 2. 2.\n 6. 2. 2. 2. 2. 2. 2. 2. 2. 3. 2. 9. 2. 2. 2. 2. 2. 2. 9. 2. 2. 1. 2. 8.\n 2. 2. 2. 2. 2. 2. 2. 2. 3. 2. 2. 2. 2. 2. 2.]\ncluster 3\nNumber of elements in a cluster: 762\n[3. 1. 2. 3. 3. 2. 3. 3. 3. 2. 3. 2. 9. 3. 3. 9. 3. 3. 2. 9. 3. 2. 3. 3.\n 2. 3. 8. 3. 5. 7. 2. 2. 8. 1. 3. 3. 2. 3. 3. 3. 3. 3. 3. 3. 3. 5. 3. 2.\n 8. 2. 3. 7. 3. 3. 8. 9. 3. 3. 3. 3. 3. 3. 3. 8. 3. 8. 3. 5. 1. 8. 3. 3.\n 3. 5. 1. 3. 1. 2. 4. 2. 3. 8. 3. 3. 3. 7. 8. 8. 8. 1. 3. 3. 3. 9. 3. 9.\n 2. 3. 4. 1. 3. 8. 1. 3. 3. 2. 1. 3. 8. 3. 3. 2. 3. 1. 2. 2. 9. 3. 3. 9.\n 3. 8. 3. 3. 3. 3. 9. 3. 8. 2. 3. 3. 1. 3. 2. 2. 9. 3. 1. 3. 3. 1. 7. 3.\n 3. 8. 3. 2. 2. 3. 3. 3. 2. 3. 3. 3. 3. 3. 4. 3. 3. 2. 1. 3. 3. 8. 2. 3.\n 3. 9. 3. 9. 3. 3. 3. 3. 3. 3. 3. 2. 3. 3. 3. 3. 5. 9. 3. 7. 3. 3. 3. 2.\n 3. 3. 3. 3. 3. 2. 3. 8. 3. 7. 3. 3. 3. 2. 1. 3. 3. 3. 9. 3. 2. 1. 3. 8.\n 3. 4. 1. 9. 1. 1. 3. 3. 8. 5. 9. 3. 3. 3. 3. 3. 9. 2. 9. 9. 2. 9. 3. 2.\n 3. 1. 1. 1. 3. 9. 3. 8. 3. 8. 3. 3. 3. 8. 4. 3. 3. 3. 1. 3. 2. 2. 3. 3.\n 3. 3. 7. 2. 3. 2. 3. 8. 2. 3. 3. 5. 3. 3. 2. 8. 3. 3. 3. 9. 3. 9. 3. 2.\n 3. 3. 9. 8. 2. 3. 9. 8. 3. 1. 8. 9. 3. 3. 3. 3. 1. 2. 2. 8. 2. 3. 3. 2.\n 3. 3. 3. 1. 2. 3. 2. 3. 7. 9. 2. 3. 2. 3. 0. 3. 3. 2. 3. 3. 3. 1. 9. 3.\n 8. 3. 3. 3. 1. 8. 2. 3. 3. 3. 3. 3. 8. 7. 3. 3. 3. 8. 3. 7. 8. 2. 7. 3.\n 1. 2. 8. 3. 8. 1. 7. 3. 3. 5. 3. 3. 9. 3. 3. 3. 3. 3. 3. 9. 3. 3. 3. 3.\n 8. 8. 2. 1. 9. 3. 8. 3. 1. 1. 8. 3. 3. 3. 3. 3. 1. 3. 3. 3. 9. 2. 8. 8.\n 3. 8. 4. 1. 8. 2. 8. 2. 8. 8. 3. 3. 8. 1. 3. 2. 8. 3. 3. 9. 3. 3. 3. 3.\n 8. 7. 9. 2. 2. 8. 2. 3. 3. 2. 3. 3. 2. 2. 2. 2. 2. 7. 3. 3. 2. 3. 2. 3.\n 3. 3. 2. 3. 3. 3. 2. 4. 2. 2. 8. 3. 8. 3. 5. 8. 8. 3. 8. 3. 2. 8. 9. 2.\n 3. 3. 3. 3. 4. 2. 2. 4. 3. 8. 3. 3. 3. 8. 3. 2. 3. 3. 2. 1. 3. 3. 8. 3.\n 3. 3. 9. 1. 3. 4. 3. 3. 3. 3. 3. 8. 8. 1. 2. 3. 3. 3. 8. 2. 3. 9. 3. 3.\n 8. 8. 1. 2. 8. 8. 8. 3. 3. 9. 8. 2. 3. 3. 1. 8. 3. 3. 2. 3. 3. 6. 2. 3.\n 3. 9. 8. 8. 3. 9. 1. 2. 3. 2. 3. 3. 3. 3. 3. 7. 3. 1. 4. 9. 3. 3. 2. 8.\n 1. 3. 3. 3. 8. 2. 3. 7. 3. 2. 3. 2. 8. 3. 3. 3. 3. 2. 3. 8. 3. 3. 2. 3.\n 2. 3. 2. 3. 3. 3. 3. 3. 3. 3. 8. 3. 2. 3. 3. 9. 3. 5. 3. 9. 3. 3. 2. 3.\n 2. 3. 2. 9. 1. 3. 3. 3. 3. 3. 1. 3. 2. 3. 9. 3. 3. 3. 2. 3. 4. 3. 3. 3.\n 3. 9. 3. 3. 3. 7. 3. 3. 2. 3. 2. 1. 3. 9. 3. 3. 3. 1. 3. 3. 3. 3. 3. 1.\n 1. 3. 2. 7. 1. 9. 3. 2. 1. 2. 3. 3. 7. 2. 3. 1. 3. 3. 3. 8. 3. 3. 7. 1.\n 8. 3. 2. 2. 8. 8. 3. 3. 9. 3. 2. 3. 3. 3. 2. 3. 3. 3. 2. 3. 3. 5. 3. 3.\n 3. 2. 3. 3. 1. 8. 3. 2. 2. 3. 2. 7. 3. 8. 8. 3. 3. 7. 3. 1. 3. 3. 9. 2.\n 3. 3. 3. 5. 9. 3. 3. 2. 9. 9. 2. 3. 2. 3. 8. 1. 3. 3.]\ncluster 4\nNumber of elements in a cluster: 391\n[4. 4. 4. 4. 4. 4. 4. 4. 6. 6. 4. 4. 4. 4. 4. 4. 4. 4. 4. 4. 9. 8. 6. 4.\n 4. 4. 4. 4. 4. 4. 4. 4. 4. 4. 4. 4. 4. 4. 7. 4. 5. 7. 5. 4. 4. 4. 4. 4.\n 6. 4. 5. 4. 4. 4. 6. 4. 4. 6. 6. 4. 4. 6. 4. 4. 4. 4. 4. 6. 4. 6. 4. 4.\n 6. 4. 6. 4. 6. 4. 4. 4. 4. 4. 4. 4. 4. 4. 4. 5. 4. 9. 4. 4. 4. 4. 6. 4.\n 4. 9. 6. 6. 4. 4. 6. 4. 4. 6. 4. 6. 7. 6. 6. 4. 4. 6. 4. 7. 6. 8. 4. 6.\n 4. 6. 4. 6. 4. 4. 4. 4. 4. 4. 4. 7. 8. 6. 4. 5. 6. 4. 4. 4. 4. 6. 4. 4.\n 7. 4. 4. 4. 4. 6. 4. 4. 4. 4. 6. 4. 6. 4. 5. 4. 4. 4. 4. 4. 7. 4. 4. 4.\n 4. 4. 6. 6. 4. 6. 6. 4. 4. 6. 4. 4. 4. 4. 6. 4. 4. 4. 4. 4. 5. 4. 4. 4.\n 4. 4. 4. 4. 4. 6. 4. 6. 4. 4. 4. 4. 6. 4. 6. 4. 4. 4. 4. 6. 5. 4. 4. 8.\n 4. 4. 4. 4. 4. 4. 4. 5. 6. 4. 4. 4. 4. 4. 4. 4. 4. 4. 9. 4. 4. 4. 4. 4.\n 4. 4. 4. 4. 6. 4. 6. 4. 5. 4. 4. 5. 4. 4. 4. 4. 4. 6. 4. 6. 6. 4. 5. 4.\n 4. 4. 4. 4. 4. 6. 4. 6. 6. 4. 4. 4. 6. 4. 4. 4. 4. 4. 4. 4. 4. 4. 4. 4.\n 4. 6. 4. 4. 4. 4. 6. 6. 4. 4. 4. 4. 5. 4. 4. 4. 5. 4. 4. 8. 4. 4. 4. 5.\n 6. 4. 4. 4. 1. 4. 4. 4. 4. 4. 4. 4. 4. 4. 4. 6. 8. 4. 8. 5. 4. 4. 4. 4.\n 4. 9. 4. 4. 4. 4. 5. 4. 8. 6. 4. 4. 4. 6. 4. 6. 6. 4. 4. 4. 6. 7. 4. 4.\n 4. 7. 4. 4. 6. 4. 4. 4. 4. 6. 4. 5. 6. 4. 4. 4. 4. 4. 4. 4. 9. 8. 4. 6.\n 4. 4. 4. 6. 4. 6. 4.]\ncluster 5\nNumber of elements in a cluster: 460\n[4. 5. 5. 5. 5. 5. 4. 5. 9. 5. 5. 5. 5. 5. 5. 5. 5. 5. 5. 5. 5. 5. 9. 9.\n 5. 5. 5. 5. 9. 5. 5. 5. 5. 9. 5. 5. 5. 5. 9. 9. 5. 5. 5. 5. 5. 9. 1. 5.\n 5. 5. 9. 9. 5. 8. 9. 5. 8. 5. 5. 5. 5. 5. 5. 8. 9. 9. 5. 5. 3. 5. 5. 9.\n 5. 5. 5. 5. 9. 5. 5. 5. 4. 5. 5. 5. 9. 9. 5. 9. 5. 5. 5. 5. 5. 9. 5. 5.\n 5. 9. 5. 5. 5. 9. 5. 9. 5. 5. 9. 5. 5. 5. 5. 5. 5. 5. 5. 5. 5. 5. 5. 5.\n 5. 5. 5. 5. 5. 5. 5. 5. 5. 5. 5. 5. 5. 5. 5. 5. 5. 5. 9. 5. 5. 5. 9. 5.\n 5. 9. 5. 5. 5. 5. 5. 9. 1. 5. 5. 5. 5. 5. 5. 5. 5. 5. 5. 5. 5. 5. 1. 5.\n 5. 5. 5. 9. 5. 8. 5. 5. 5. 5. 5. 5. 5. 5. 9. 1. 5. 5. 5. 5. 5. 5. 5. 5.\n 5. 5. 5. 5. 5. 5. 5. 9. 5. 5. 5. 9. 5. 9. 5. 5. 5. 5. 9. 5. 5. 5. 5. 5.\n 5. 5. 5. 5. 5. 5. 4. 5. 5. 5. 5. 5. 9. 5. 2. 5. 5. 9. 5. 5. 5. 5. 1. 5.\n 5. 5. 5. 9. 5. 5. 5. 5. 5. 5. 5. 1. 5. 5. 5. 9. 5. 5. 5. 5. 5. 5. 3. 5.\n 5. 5. 5. 5. 5. 5. 5. 5. 8. 5. 1. 5. 5. 5. 5. 5. 4. 5. 5. 5. 5. 1. 5. 5.\n 5. 5. 5. 5. 5. 5. 5. 5. 5. 5. 4. 5. 1. 1. 5. 5. 5. 3. 5. 9. 9. 9. 5. 5.\n 5. 5. 9. 5. 9. 5. 5. 5. 5. 5. 5. 9. 5. 5. 5. 5. 5. 5. 5. 9. 5. 5. 5. 9.\n 5. 5. 9. 5. 8. 5. 5. 5. 5. 5. 5. 5. 5. 5. 9. 5. 9. 5. 5. 9. 5. 5. 5. 5.\n 9. 5. 5. 5. 9. 5. 5. 5. 5. 5. 5. 5. 5. 4. 9. 5. 7. 5. 5. 4. 5. 5. 1. 8.\n 5. 9. 5. 5. 5. 5. 5. 5. 5. 5. 5. 5. 5. 5. 5. 5. 5. 7. 9. 5. 9. 5. 9. 5.\n 5. 5. 5. 5. 5. 5. 5. 9. 5. 5. 9. 5. 1. 5. 5. 5. 5. 1. 5. 5. 5. 9. 5. 5.\n 5. 9. 8. 5. 5. 5. 5. 5. 9. 5. 5. 5. 5. 5. 5. 5. 4. 5. 5. 5. 5. 5. 5. 5.\n 5. 9. 5. 5.]\ncluster 6\nNumber of elements in a cluster: 466\n[6. 6. 6. 6. 6. 4. 6. 6. 6. 6. 4. 6. 6. 6. 4. 4. 6. 6. 6. 4. 4. 6. 6. 6.\n 6. 4. 6. 6. 4. 6. 4. 6. 6. 6. 6. 6. 6. 6. 6. 4. 6. 6. 6. 6. 6. 4. 6. 6.\n 6. 6. 6. 6. 6. 6. 6. 8. 1. 1. 6. 4. 6. 6. 4. 6. 6. 6. 6. 6. 6. 6. 1. 6.\n 6. 6. 6. 6. 6. 6. 4. 6. 6. 6. 6. 6. 6. 6. 4. 6. 4. 6. 6. 6. 6. 6. 6. 4.\n 6. 6. 2. 6. 6. 4. 6. 6. 6. 6. 6. 6. 6. 6. 1. 6. 6. 6. 6. 4. 6. 4. 4. 6.\n 6. 6. 6. 6. 6. 6. 6. 4. 6. 6. 6. 6. 6. 6. 2. 4. 6. 4. 1. 6. 6. 6. 6. 6.\n 6. 6. 6. 6. 6. 6. 6. 6. 6. 6. 6. 6. 6. 6. 6. 6. 6. 6. 6. 6. 4. 4. 6. 6.\n 6. 4. 6. 4. 6. 6. 6. 6. 6. 4. 6. 6. 6. 6. 6. 6. 6. 6. 8. 6. 6. 6. 6. 6.\n 6. 2. 6. 6. 6. 6. 6. 4. 6. 6. 6. 4. 6. 8. 6. 6. 1. 6. 6. 6. 6. 6. 4. 4.\n 6. 6. 6. 4. 4. 6. 6. 6. 6. 6. 6. 6. 6. 4. 6. 6. 6. 6. 6. 4. 4. 6. 4. 6.\n 6. 6. 6. 6. 6. 6. 6. 2. 6. 6. 6. 8. 6. 6. 4. 4. 6. 6. 6. 6. 6. 6. 6. 4.\n 4. 0. 6. 6. 4. 6. 6. 6. 6. 4. 6. 0. 8. 6. 6. 6. 4. 4. 6. 6. 4. 4. 4. 6.\n 0. 4. 6. 6. 6. 6. 6. 6. 6. 6. 4. 6. 4. 1. 1. 6. 6. 6. 4. 6. 4. 4. 6. 6.\n 6. 4. 6. 6. 6. 4. 6. 6. 6. 6. 4. 4. 4. 6. 4. 4. 6. 6. 6. 6. 4. 6. 6. 4.\n 6. 6. 6. 6. 6. 6. 4. 6. 6. 6. 6. 6. 6. 6. 6. 6. 6. 4. 6. 6. 6. 6. 6. 6.\n 6. 4. 6. 4. 6. 6. 6. 6. 4. 6. 4. 6. 6. 6. 6. 6. 4. 6. 6. 4. 6. 6. 6. 4.\n 6. 6. 6. 6. 6. 6. 6. 2. 6. 6. 6. 6. 4. 6. 6. 4. 6. 6. 6. 4. 6. 8. 4. 6.\n 4. 6. 6. 4. 6. 6. 6. 6. 6. 6. 6. 4. 6. 6. 4. 4. 6. 6. 6. 6. 6. 6. 6. 6.\n 6. 6. 6. 6. 6. 6. 6. 6. 6. 1. 4. 6. 6. 6. 6. 6. 6. 6. 6. 6. 6. 6. 6. 6.\n 1. 6. 1. 6. 8. 6. 6. 6. 6. 6.]\ncluster 7\nNumber of elements in a cluster: 449\n[7. 9. 7. 7. 7. 7. 7. 7. 9. 4. 7. 7. 7. 7. 7. 7. 7. 7. 7. 7. 7. 7. 9. 7.\n 7. 9. 7. 7. 7. 7. 7. 7. 7. 9. 7. 9. 7. 7. 7. 1. 7. 7. 7. 8. 7. 7. 7. 7.\n 7. 7. 7. 7. 7. 9. 7. 9. 4. 7. 7. 7. 7. 9. 7. 9. 7. 4. 7. 7. 7. 8. 7. 7.\n 7. 9. 7. 7. 9. 7. 7. 7. 7. 7. 7. 7. 7. 7. 7. 7. 7. 7. 9. 7. 2. 7. 7. 7.\n 9. 7. 7. 2. 7. 7. 9. 4. 4. 7. 9. 1. 3. 7. 7. 9. 2. 7. 7. 2. 7. 7. 7. 7.\n 7. 7. 7. 7. 7. 4. 7. 4. 9. 7. 7. 7. 7. 3. 7. 7. 7. 7. 7. 7. 9. 7. 7. 7.\n 9. 7. 9. 7. 7. 7. 7. 7. 7. 7. 7. 7. 7. 7. 7. 7. 7. 7. 7. 7. 9. 3. 7. 4.\n 7. 9. 7. 7. 7. 7. 7. 7. 7. 7. 9. 7. 4. 4. 4. 4. 7. 2. 7. 8. 7. 7. 7. 7.\n 7. 7. 7. 7. 7. 7. 7. 7. 7. 7. 7. 7. 7. 7. 9. 7. 7. 7. 7. 7. 9. 7. 7. 7.\n 1. 7. 7. 7. 7. 7. 4. 7. 7. 7. 7. 7. 7. 4. 7. 7. 7. 4. 7. 7. 7. 7. 3. 7.\n 7. 7. 7. 7. 7. 7. 7. 7. 1. 4. 7. 9. 7. 7. 7. 7. 7. 7. 7. 7. 7. 7. 7. 7.\n 9. 9. 7. 7. 8. 7. 7. 4. 3. 7. 7. 7. 9. 7. 7. 7. 9. 7. 9. 4. 7. 7. 9. 9.\n 7. 7. 7. 9. 7. 7. 9. 7. 7. 7. 7. 7. 9. 9. 7. 7. 1. 3. 7. 7. 7. 9. 7. 9.\n 7. 7. 7. 7. 7. 7. 7. 9. 7. 7. 7. 7. 7. 7. 7. 7. 7. 7. 7. 7. 7. 7. 4. 7.\n 3. 9. 7. 7. 7. 7. 9. 7. 2. 7. 9. 7. 7. 7. 4. 7. 7. 7. 1. 7. 7. 9. 7. 7.\n 7. 7. 7. 7. 4. 7. 7. 9. 7. 7. 7. 1. 8. 4. 7. 7. 9. 7. 7. 7. 7. 7. 7. 7.\n 4. 7. 7. 7. 7. 2. 7. 7. 7. 9. 7. 7. 4. 7. 9. 7. 7. 9. 7. 7. 7. 7. 7. 7.\n 3. 7. 7. 7. 7. 7. 7. 7. 7. 7. 7. 7. 7. 7. 7. 9. 7. 9. 7. 7. 7. 7. 7. 7.\n 7. 7. 7. 7. 7. 7. 7. 7. 7. 7. 7. 7. 9. 7. 7. 7. 7.]\ncluster 8\nNumber of elements in a cluster: 424\n[8. 8. 8. 7. 8. 8. 3. 8. 8. 8. 8. 8. 3. 8. 1. 7. 7. 8. 1. 8. 8. 1. 8. 8.\n 8. 8. 8. 8. 8. 8. 8. 2. 8. 8. 1. 8. 1. 8. 8. 8. 8. 3. 8. 5. 8. 8. 8. 8.\n 8. 8. 8. 8. 8. 8. 8. 9. 8. 8. 1. 8. 1. 8. 8. 8. 8. 8. 8. 8. 8. 8. 8. 8.\n 8. 8. 8. 3. 9. 2. 8. 8. 1. 8. 2. 8. 8. 8. 8. 7. 5. 8. 3. 7. 1. 1. 8. 8.\n 2. 8. 8. 8. 8. 8. 8. 8. 1. 8. 8. 8. 2. 8. 9. 8. 8. 8. 5. 5. 7. 2. 8. 8.\n 8. 8. 1. 1. 8. 8. 8. 5. 8. 8. 1. 8. 8. 8. 8. 8. 8. 8. 7. 8. 8. 8. 1. 8.\n 8. 8. 8. 7. 8. 1. 2. 8. 7. 8. 7. 8. 8. 8. 8. 8. 1. 8. 8. 8. 1. 8. 1. 2.\n 8. 8. 8. 8. 1. 8. 5. 8. 7. 8. 8. 2. 8. 7. 8. 8. 8. 8. 8. 1. 1. 2. 8. 8.\n 8. 2. 8. 8. 8. 8. 8. 1. 2. 2. 2. 8. 1. 5. 9. 8. 3. 8. 8. 5. 8. 1. 8. 8.\n 1. 7. 1. 8. 7. 1. 8. 8. 8. 7. 8. 1. 8. 8. 8. 2. 1. 7. 8. 2. 9. 9. 7. 7.\n 8. 8. 8. 8. 8. 8. 8. 8. 8. 8. 8. 7. 8. 8. 8. 8. 8. 8. 8. 8. 8. 8. 1. 8.\n 8. 8. 1. 8. 8. 8. 8. 7. 1. 8. 8. 8. 8. 8. 8. 8. 8. 8. 8. 8. 8. 8. 8. 8.\n 8. 1. 7. 8. 8. 8. 8. 7. 7. 1. 7. 8. 8. 2. 8. 8. 8. 8. 1. 1. 2. 8. 8. 2.\n 2. 8. 2. 3. 8. 8. 8. 3. 8. 8. 8. 5. 8. 1. 8. 7. 8. 8. 7. 7. 7. 2. 8. 2.\n 1. 1. 8. 8. 8. 8. 8. 8. 1. 8. 8. 1. 2. 8. 5. 8. 8. 8. 8. 8. 1. 5. 8. 1.\n 8. 2. 8. 8. 2. 8. 3. 8. 1. 3. 8. 2. 8. 7. 7. 1. 8. 8. 7. 2. 8. 8. 8. 8.\n 2. 8. 1. 8. 7. 8. 8. 8. 2. 2. 1. 8. 8. 8. 8. 1. 1. 1. 1. 8. 2. 8. 8. 8.\n 7. 8. 8. 8. 8. 8. 8. 8. 8. 8. 8. 1. 1. 8. 8. 7.]\ncluster 9\nNumber of elements in a cluster: 360\n[9. 9. 5. 1. 5. 9. 9. 9. 9. 9. 6. 9. 1. 9. 9. 5. 9. 9. 9. 9. 9. 9. 3. 9.\n 9. 1. 5. 9. 9. 9. 9. 9. 9. 1. 9. 3. 9. 9. 9. 5. 9. 5. 9. 9. 9. 9. 1. 1.\n 9. 1. 9. 9. 1. 8. 9. 3. 9. 1. 5. 9. 9. 9. 9. 8. 1. 3. 9. 9. 3. 9. 5. 9.\n 3. 2. 1. 1. 9. 9. 9. 0. 9. 9. 9. 9. 5. 9. 9. 9. 9. 2. 9. 9. 5. 9. 9. 8.\n 5. 9. 9. 0. 1. 1. 9. 9. 6. 1. 9. 5. 1. 9. 0. 9. 1. 5. 9. 9. 9. 9. 9. 9.\n 3. 9. 3. 0. 9. 9. 3. 3. 1. 5. 9. 9. 8. 9. 9. 9. 3. 9. 1. 9. 9. 3. 9. 9.\n 9. 9. 9. 9. 9. 9. 1. 5. 5. 5. 9. 9. 9. 1. 1. 9. 5. 5. 5. 9. 9. 9. 5. 5.\n 3. 9. 9. 2. 1. 9. 9. 9. 9. 8. 9. 9. 9. 9. 9. 9. 9. 9. 5. 5. 1. 9. 9. 3.\n 9. 9. 1. 9. 9. 5. 9. 9. 9. 9. 3. 9. 3. 9. 9. 9. 9. 9. 3. 3. 1. 5. 9. 9.\n 9. 9. 9. 9. 9. 9. 5. 9. 1. 9. 9. 3. 9. 9. 9. 5. 3. 9. 9. 3. 9. 9. 9. 6.\n 9. 5. 9. 1. 9. 9. 9. 5. 9. 9. 9. 5. 6. 9. 9. 9. 9. 9. 9. 9. 9. 9. 9. 2.\n 9. 9. 0. 9. 9. 1. 9. 9. 5. 1. 5. 9. 9. 3. 9. 9. 5. 0. 9. 9. 9. 9. 9. 1.\n 9. 9. 9. 5. 9. 8. 9. 6. 9. 9. 5. 9. 2. 9. 3. 9. 9. 5. 9. 1. 1. 9. 9. 6.\n 9. 9. 3. 9. 3. 9. 5. 5. 3. 9. 8. 5. 9. 1. 5. 9. 9. 9. 9. 9. 1. 9. 9. 9.\n 9. 5. 9. 9. 9. 1. 5. 9. 9. 9. 1. 9. 5. 5. 5. 9. 2. 3. 9. 9. 9. 6. 5. 9.]\n"
     ]
    }
   ],
   "source": [
    "print_number_in_all_cluster(Output)"
   ]
  },
  {
   "cell_type": "code",
   "execution_count": 2263,
   "metadata": {},
   "outputs": [
    {
     "output_type": "stream",
     "name": "stdout",
     "text": [
      "Accurcy in test Dataset:\n83.98576512455516\n"
     ]
    }
   ],
   "source": [
    "measuring_accuracy(Centroids,Y_data,Y_label)"
   ]
  },
  {
   "cell_type": "code",
   "execution_count": 2264,
   "metadata": {},
   "outputs": [],
   "source": [
    "array = np.arange(5620*65).reshape(5620,65)"
   ]
  },
  {
   "cell_type": "code",
   "execution_count": 2265,
   "metadata": {},
   "outputs": [
    {
     "output_type": "execute_result",
     "data": {
      "text/plain": [
       "array([[     0,      1,      2, ...,     62,     63,     64],\n",
       "       [    65,     66,     67, ...,    127,    128,    129],\n",
       "       [   130,    131,    132, ...,    192,    193,    194],\n",
       "       ...,\n",
       "       [365105, 365106, 365107, ..., 365167, 365168, 365169],\n",
       "       [365170, 365171, 365172, ..., 365232, 365233, 365234],\n",
       "       [365235, 365236, 365237, ..., 365297, 365298, 365299]])"
      ]
     },
     "metadata": {},
     "execution_count": 2265
    }
   ],
   "source": [
    "array"
   ]
  },
  {
   "cell_type": "code",
   "execution_count": 2266,
   "metadata": {},
   "outputs": [
    {
     "output_type": "execute_result",
     "data": {
      "text/plain": [
       "array([[     0,      1,      2, ...,     61,     62,     63],\n",
       "       [    65,     66,     67, ...,    126,    127,    128],\n",
       "       [   130,    131,    132, ...,    191,    192,    193],\n",
       "       ...,\n",
       "       [365105, 365106, 365107, ..., 365166, 365167, 365168],\n",
       "       [365170, 365171, 365172, ..., 365231, 365232, 365233],\n",
       "       [365235, 365236, 365237, ..., 365296, 365297, 365298]])"
      ]
     },
     "metadata": {},
     "execution_count": 2266
    }
   ],
   "source": [
    "array[:,0:64]"
   ]
  },
  {
   "cell_type": "code",
   "execution_count": 2267,
   "metadata": {},
   "outputs": [
    {
     "output_type": "execute_result",
     "data": {
      "text/plain": [
       "(5620, 65)"
      ]
     },
     "metadata": {},
     "execution_count": 2267
    }
   ],
   "source": [
    "array.shape"
   ]
  },
  {
   "cell_type": "code",
   "execution_count": 2268,
   "metadata": {},
   "outputs": [
    {
     "output_type": "execute_result",
     "data": {
      "text/plain": [
       "array([    64,    129,    194, ..., 365169, 365234, 365299])"
      ]
     },
     "metadata": {},
     "execution_count": 2268
    }
   ],
   "source": [
    "array[:,64]"
   ]
  },
  {
   "cell_type": "code",
   "execution_count": null,
   "metadata": {},
   "outputs": [],
   "source": []
  }
 ],
 "metadata": {
  "kernelspec": {
   "display_name": "Python 3",
   "language": "python",
   "name": "python3"
  },
  "language_info": {
   "codemirror_mode": {
    "name": "ipython",
    "version": 3
   },
   "file_extension": ".py",
   "mimetype": "text/x-python",
   "name": "python",
   "nbconvert_exporter": "python",
   "pygments_lexer": "ipython3",
   "version": "3.8.5"
  }
 },
 "nbformat": 4,
 "nbformat_minor": 5
}