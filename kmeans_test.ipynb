{
 "cells": [
  {
   "cell_type": "code",
   "execution_count": null,
   "id": "45f370cb",
   "metadata": {},
   "outputs": [],
   "source": [
    "import numpy as np\n",
    "import pandas as pd\n",
    "import seaborn as sns\n",
    "import matplotlib.pyplot as plt\n",
    "import random as rd\n",
    "from sklearn.model_selection import train_test_split"
   ]
  },
  {
   "cell_type": "code",
   "execution_count": null,
   "id": "ca948154",
   "metadata": {},
   "outputs": [],
   "source": [
    "optdigits_df=pd.read_csv('optdigits_csv.csv')\n",
    "optdigits_df.head()"
   ]
  },
  {
   "cell_type": "code",
   "execution_count": null,
   "id": "cadba1c3",
   "metadata": {},
   "outputs": [],
   "source": [
    "optdigits_df.info()"
   ]
  },
  {
   "cell_type": "code",
   "execution_count": null,
   "id": "72517435",
   "metadata": {},
   "outputs": [],
   "source": [
    "optdigits_df.describe()"
   ]
  },
  {
   "cell_type": "code",
   "execution_count": null,
   "metadata": {},
   "outputs": [],
   "source": [
    "X,Y = train_test_split(optdigits_df,test_size=0.20, random_state=1)\n",
    "print(X.shape)\n",
    "print(Y.shape)"
   ]
  },
  {
   "cell_type": "code",
   "execution_count": null,
   "id": "6a1127c2",
   "metadata": {},
   "outputs": [],
   "source": [
    "X_without_label = X.iloc[:,0:64].values\n",
    "print(X_without_label.shape)"
   ]
  },
  {
   "cell_type": "code",
   "execution_count": null,
   "id": "85d32d17",
   "metadata": {},
   "outputs": [],
   "source": [
    "X_with_label = X.iloc[:,:].values\n",
    "print(X_with_label.shape)"
   ]
  },
  {
   "cell_type": "code",
   "execution_count": null,
   "id": "f6f82efb",
   "metadata": {},
   "outputs": [],
   "source": [
    "K=10\n",
    "m=X_without_label.shape[0]\n",
    "i = 0\n",
    "Centroids=np.array([]).reshape(64,0)\n",
    "while(i<10):\n",
    "    rand=rd.randint(0,m-1)\n",
    "    if(X_with_label[rand,64] == i):\n",
    "        Centroids=np.c_[Centroids,X_without_label[rand]]\n",
    "        i = i + 1"
   ]
  },
  {
   "source": [
    "# title1"
   ],
   "cell_type": "markdown",
   "metadata": {}
  },
  {
   "cell_type": "code",
   "execution_count": null,
   "id": "6ddb8aa7",
   "metadata": {},
   "outputs": [],
   "source": [
    "num_iter=100\n",
    "Output={}\n",
    "for n in range(100):\n",
    "\n",
    "    EuclidianDistance=np.array([]).reshape(m,0)\n",
    "    for k in range(K):\n",
    "        tempDist=np.sum((X_without_label-Centroids[:,k])**2,axis=1)\n",
    "        EuclidianDistance=np.c_[EuclidianDistance,tempDist]\n",
    "    C=np.argmin(EuclidianDistance,axis=1)\n",
    "\n",
    "    Z={}\n",
    "    for k in range(K):\n",
    "        Z[k]=np.array([]).reshape(64,0)\n",
    "        Output[k]=np.array([]).reshape(65,0)\n",
    "    for i in range(m):\n",
    "        Z[C[i]]=np.c_[Z[C[i]],X_without_label[i]]\n",
    "        Output[C[i]]=np.c_[Output[C[i]],X_with_label[i]]     \n",
    "    for k in range(K):\n",
    "        Z[k]=Z[k].T\n",
    "    for k in range(K):\n",
    "        Centroids[:,k]=np.mean(Z[k],axis=0)"
   ]
  },
  {
   "cell_type": "code",
   "execution_count": null,
   "id": "1e013717",
   "metadata": {
    "scrolled": true
   },
   "outputs": [],
   "source": [
    "Centroids.shape"
   ]
  },
  {
   "cell_type": "code",
   "execution_count": null,
   "id": "7c9b2b1c",
   "metadata": {
    "scrolled": true
   },
   "outputs": [],
   "source": [
    "for i  in range(0,10):\n",
    "    print(\"cluster \"+str(i))\n",
    "    print(Output[i][64,:])"
   ]
  },
  {
   "cell_type": "code",
   "execution_count": null,
   "id": "68b18246",
   "metadata": {},
   "outputs": [],
   "source": [
    "print(\"First 50 elemets are drawn from each clusters\")\n",
    "\n",
    "for j in range(0,10):\n",
    "    plt.figure(figsize=(30,20))\n",
    "    print('Cluster ' + str(j))\n",
    "    numOfRows = 50\n",
    "    print(str(Output[j].shape[1]) + \" elements\")\n",
    "    for i in range(0,50):\n",
    "        plt.subplot(5+1,10,i+1)\n",
    "        image = Output[j][0:64,i]\n",
    "        image = image.reshape(8,8)\n",
    "        plt.imshow(image,cmap='gray')\n",
    "        plt.axis('off')\n",
    "    plt.show()"
   ]
  },
  {
   "cell_type": "code",
   "execution_count": null,
   "id": "3d483115",
   "metadata": {},
   "outputs": [],
   "source": [
    "#testing for accuracy\n",
    "Y_data = Y.iloc[:,0:64].values\n",
    "Y_label = Y.iloc[:,64].values"
   ]
  },
  {
   "cell_type": "code",
   "execution_count": null,
   "metadata": {},
   "outputs": [],
   "source": [
    "Y_data"
   ]
  },
  {
   "cell_type": "code",
   "execution_count": null,
   "id": "2df78eb7",
   "metadata": {},
   "outputs": [],
   "source": [
    "Y_label"
   ]
  },
  {
   "cell_type": "code",
   "execution_count": null,
   "metadata": {},
   "outputs": [],
   "source": []
  }
 ],
 "metadata": {
  "kernelspec": {
   "display_name": "Python 3",
   "language": "python",
   "name": "python3"
  },
  "language_info": {
   "codemirror_mode": {
    "name": "ipython",
    "version": 3
   },
   "file_extension": ".py",
   "mimetype": "text/x-python",
   "name": "python",
   "nbconvert_exporter": "python",
   "pygments_lexer": "ipython3",
   "version": "3.8.5"
  }
 },
 "nbformat": 4,
 "nbformat_minor": 5
}