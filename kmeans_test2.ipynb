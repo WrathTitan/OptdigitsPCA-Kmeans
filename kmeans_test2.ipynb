{
 "cells": [
  {
   "cell_type": "code",
   "execution_count": 49,
   "id": "45f370cb",
   "metadata": {},
   "outputs": [],
   "source": [
    "import numpy as np\n",
    "import pandas as pd\n",
    "import seaborn as sns\n",
    "import matplotlib.pyplot as plt\n",
    "import random as rd\n",
    "from sklearn.model_selection import train_test_split"
   ]
  },
  {
   "cell_type": "code",
   "execution_count": 50,
   "id": "ca948154",
   "metadata": {},
   "outputs": [],
   "source": [
    "optdigits_df=pd.read_csv('optdigits_csv.csv')"
   ]
  },
  {
   "cell_type": "markdown",
   "id": "82e68580",
   "metadata": {},
   "source": [
    "## To perform kmeans algorithm one has to follow these steps:\n",
    "1. Decide the number of cluster in our case there are 10 digits to be classified so 10 clusters.\n",
    "2. Initialize the centroid\n",
    "3. Assign to each point in the dataset a centroid, respective centroid are assigned to each point by calculating the shortest distance between centroid and point.\n",
    "4. Calculate the new centroid by calculating mean of all points assigned to the centroid.\n",
    "5. Repeat the algorithm till value in centroid doesnt change"
   ]
  },
  {
   "cell_type": "code",
   "execution_count": 51,
   "id": "ba34b69e",
   "metadata": {},
   "outputs": [],
   "source": [
    "def test_train_splitter(optdigits_df):\n",
    "    X,Y = train_test_split(optdigits_df,test_size=0.20, random_state=1)\n",
    "    division = X.shape[1] - 1\n",
    "    X_without_label = X.iloc[:,0:division].values \n",
    "    X_with_label = X.iloc[:,:].values\n",
    "    Y_data = Y.iloc[:,0:division].values  \n",
    "    Y_label = Y.iloc[:,division].values \n",
    "    return X_with_label,X_without_label,Y_data,Y_label"
   ]
  },
  {
   "cell_type": "markdown",
   "id": "e4c84040",
   "metadata": {},
   "source": [
    "## Step 2 Centroid initialization\n",
    "In this step centroids are initialized.    \n",
    "It is ensured that centroids are initialized from each digit. "
   ]
  },
  {
   "cell_type": "code",
   "execution_count": 52,
   "id": "67dbe867",
   "metadata": {},
   "outputs": [],
   "source": [
    "def centroid_initialization(X_with_label,X_without_label):    \n",
    "    i = 0\n",
    "    Centroids=np.array([]).reshape(no_of_features,0)\n",
    "    while(i<10):\n",
    "        rand=rd.randint(0,m-1)\n",
    "        # A point is guessed and label is correlated with i whose value varies from 0 - 10\n",
    "        # If value of label is mached with i it is added in centroids\n",
    "        # i is incremented\n",
    "        if(X_with_label[rand,no_of_features] == i):\n",
    "            Centroids=np.c_[Centroids,X_without_label[rand]]\n",
    "            i = i + 1\n",
    "    return Centroids"
   ]
  },
  {
   "cell_type": "markdown",
   "id": "1c2a4e28",
   "metadata": {},
   "source": [
    "## K-Means Algorithm\n",
    "From centroid EuclidianDistance is calculated with each Point and a cluster is assigned to a point based on the shortest distance with the cluster.  \n",
    "Mean is calculated from each point in a respective centroid and is used as a new centroid.   "
   ]
  },
  {
   "cell_type": "code",
   "execution_count": 53,
   "id": "6ddb8aa7",
   "metadata": {},
   "outputs": [],
   "source": [
    "def kmeans_algorithm(X_with_label,X_without_label,Centroids):\n",
    "    num_iter=100\n",
    "    Output={} #output that will store each point in a cluster\n",
    "    for n in range(100):\n",
    "        EuclidianDistance=np.array([]).reshape(m,0)\n",
    "        for k in range(K):\n",
    "            tempDist=np.sum((X_without_label-Centroids[:,k])**2,axis=1)\n",
    "            EuclidianDistance=np.c_[EuclidianDistance,tempDist]\n",
    "        C=np.argmin(EuclidianDistance,axis=1) # cluster for each point based on shortest distance from a centroid \n",
    "        #Calculating new mean\n",
    "        Z={}\n",
    "        for k in range(K):\n",
    "            Z[k]=np.array([]).reshape(no_of_features,0)\n",
    "            Output[k]=np.array([]).reshape(no_of_features+1,0)\n",
    "        for i in range(m):\n",
    "            Z[C[i]]=np.c_[Z[C[i]],X_without_label[i]]\n",
    "            Output[C[i]]=np.c_[Output[C[i]],X_with_label[i]]     \n",
    "        for k in range(K):\n",
    "            Z[k]=Z[k].T\n",
    "        for k in range(K):\n",
    "            Centroids[:,k]=np.mean(Z[k],axis=0)\n",
    "        return Output"
   ]
  },
  {
   "cell_type": "markdown",
   "id": "5c5d2fd0",
   "metadata": {},
   "source": [
    "### Showing all digits present in a cluster based on their labels"
   ]
  },
  {
   "cell_type": "code",
   "execution_count": 54,
   "id": "7c9b2b1c",
   "metadata": {
    "scrolled": true
   },
   "outputs": [],
   "source": [
    "def print_number_in_all_cluster(Output):\n",
    "    for i  in range(0,10):\n",
    "        print(\"cluster \"+str(i))\n",
    "        print(\"Number of elements in a cluster: \" + str(Output[i].shape[1]))\n",
    "        print(Output[i][no_of_features,:])"
   ]
  },
  {
   "cell_type": "markdown",
   "id": "9bb2367f",
   "metadata": {},
   "source": [
    "### visualizing points based on their features"
   ]
  },
  {
   "cell_type": "code",
   "execution_count": 55,
   "id": "68b18246",
   "metadata": {},
   "outputs": [],
   "source": [
    "def visualize_50_digits_in_cluster(Output):\n",
    "    for j in range(0,10):\n",
    "        plt.figure(figsize=(30,10))\n",
    "        print('Cluster ' + str(j))\n",
    "        numOfRows = 50\n",
    "        print(str(Output[j].shape[1]) + \" elements\")\n",
    "        for i in range(0,50):\n",
    "            plt.subplot(5+1,10,i+1)\n",
    "            image = Output[j][0:no_of_features,i]\n",
    "            image = image.reshape(8,8)\n",
    "            plt.imshow(image,cmap='gray')\n",
    "            plt.axis('off')\n",
    "        plt.show()"
   ]
  },
  {
   "cell_type": "markdown",
   "id": "77347e2f",
   "metadata": {},
   "source": [
    "## Measuring Accuracy\n",
    "The accuracy is Measured by calculating which cluster the data belongs and assigning the value of the respective cluster.  \n",
    "Comparing how many are correctly identified and dividing with number of test data."
   ]
  },
  {
   "cell_type": "code",
   "execution_count": 56,
   "id": "0c13ba39",
   "metadata": {},
   "outputs": [],
   "source": [
    "def measuring_accuracy(Centroids,Y_data,Y_label):\n",
    "    number_of_test_data = Y_data.shape[0]\n",
    "    EuclidianDistance=np.array([]).reshape(number_of_test_data,0)\n",
    "    for k in range(K):\n",
    "        tempDist=np.sum((Y_data-Centroids[:,k])**2,axis=1)\n",
    "        EuclidianDistance=np.c_[EuclidianDistance,tempDist]\n",
    "    predicted_value=np.argmin(EuclidianDistance,axis=1)\n",
    "    number_of_correct_prediction = 0\n",
    "    for i in range(0,predicted_value.shape[0]):\n",
    "        if(predicted_value[i] == Y_label[i]):\n",
    "            number_of_correct_prediction = number_of_correct_prediction + 1\n",
    "    accuracy = number_of_correct_prediction/number_of_test_data * 100\n",
    "    print('Accurcy in test Dataset:')\n",
    "    print(accuracy)"
   ]
  },
  {
   "cell_type": "code",
   "execution_count": 57,
   "id": "6a1127c2",
   "metadata": {},
   "outputs": [],
   "source": [
    "X_with_label,X_without_label,Y_data,Y_label = test_train_splitter(optdigits_df)\n",
    "m = X_without_label.shape[0]\n",
    "no_of_features = X_without_label.shape[1]\n",
    "K=10\n",
    "Centroids = centroid_initialization(X_with_label,X_without_label)\n",
    "Output = kmeans_algorithm(X_with_label,X_without_label,Centroids)"
   ]
  },
  {
   "cell_type": "code",
   "execution_count": 58,
   "id": "ca03779b",
   "metadata": {},
   "outputs": [],
   "source": [
    "#visualize_50_digits_in_cluster(Output)"
   ]
  },
  {
   "cell_type": "code",
   "execution_count": 59,
   "id": "cbe94750",
   "metadata": {},
   "outputs": [
    {
     "output_type": "stream",
     "name": "stdout",
     "text": [
      "cluster 0\nNumber of elements in a cluster: 485\n[0. 0. 0. 0. 0. 0. 0. 0. 0. 0. 0. 0. 0. 0. 2. 0. 0. 0. 0. 4. 0. 0. 0. 0.\n 0. 0. 0. 0. 0. 4. 0. 0. 4. 0. 0. 0. 0. 0. 0. 0. 0. 0. 0. 0. 0. 0. 0. 0.\n 0. 4. 0. 0. 0. 2. 0. 4. 0. 0. 4. 0. 0. 0. 0. 0. 0. 0. 0. 0. 0. 0. 0. 0.\n 0. 0. 0. 0. 0. 0. 0. 0. 0. 0. 0. 7. 0. 0. 4. 0. 0. 0. 0. 0. 0. 0. 0. 0.\n 0. 0. 0. 0. 0. 0. 0. 0. 0. 9. 0. 0. 9. 0. 0. 0. 0. 0. 0. 0. 0. 0. 4. 0.\n 0. 0. 0. 0. 0. 0. 0. 0. 0. 0. 2. 2. 0. 0. 0. 0. 0. 0. 0. 0. 0. 0. 0. 0.\n 0. 0. 0. 0. 0. 0. 0. 0. 0. 0. 0. 0. 0. 0. 0. 0. 0. 0. 0. 0. 0. 0. 0. 0.\n 0. 0. 0. 0. 0. 0. 5. 0. 9. 0. 0. 0. 0. 0. 0. 0. 0. 0. 0. 9. 0. 0. 0. 8.\n 0. 2. 0. 0. 0. 0. 0. 0. 0. 0. 0. 0. 0. 0. 0. 9. 4. 0. 0. 0. 0. 0. 0. 0.\n 0. 0. 0. 4. 0. 0. 0. 0. 0. 0. 0. 0. 0. 0. 0. 0. 0. 0. 0. 0. 4. 0. 0. 0.\n 2. 0. 4. 0. 4. 0. 0. 0. 0. 0. 0. 0. 0. 0. 0. 0. 0. 4. 2. 0. 0. 0. 4. 0.\n 0. 5. 0. 0. 0. 0. 2. 0. 0. 0. 0. 0. 0. 0. 0. 0. 0. 0. 4. 0. 9. 0. 0. 0.\n 0. 0. 0. 0. 0. 0. 0. 0. 0. 0. 0. 0. 9. 0. 4. 0. 0. 0. 0. 0. 0. 0. 0. 4.\n 0. 0. 0. 0. 0. 0. 0. 0. 0. 0. 0. 0. 0. 0. 0. 6. 0. 0. 0. 0. 0. 0. 0. 0.\n 4. 0. 0. 0. 0. 4. 0. 0. 0. 0. 0. 0. 0. 0. 0. 0. 0. 0. 0. 0. 0. 0. 4. 0.\n 0. 0. 0. 0. 0. 0. 0. 0. 0. 0. 0. 0. 0. 4. 0. 0. 0. 0. 0. 0. 0. 4. 0. 0.\n 0. 2. 0. 0. 0. 0. 0. 0. 0. 0. 0. 0. 0. 0. 0. 0. 0. 0. 0. 0. 0. 0. 4. 0.\n 0. 0. 2. 0. 0. 0. 0. 0. 0. 0. 0. 4. 0. 0. 5. 0. 0. 0. 0. 0. 0. 0. 0. 0.\n 0. 0. 0. 0. 0. 0. 0. 0. 0. 0. 0. 0. 0. 0. 0. 9. 0. 0. 0. 0. 0. 0. 0. 4.\n 0. 0. 0. 0. 0. 0. 0. 0. 0. 0. 0. 0. 0. 0. 0. 0. 0. 0. 0. 0. 2. 0. 0. 0.\n 0. 0. 0. 0. 0.]\ncluster 1\nNumber of elements in a cluster: 468\n[1. 1. 6. 1. 2. 8. 2. 1. 1. 6. 1. 8. 1. 1. 1. 1. 1. 1. 1. 1. 6. 2. 2. 1.\n 1. 1. 1. 1. 2. 2. 4. 8. 8. 8. 6. 4. 8. 8. 4. 1. 1. 1. 1. 1. 8. 8. 1. 1.\n 1. 1. 1. 1. 1. 1. 1. 1. 1. 9. 1. 1. 1. 1. 1. 1. 2. 1. 1. 1. 1. 1. 1. 1.\n 1. 8. 2. 1. 8. 1. 2. 1. 1. 6. 1. 6. 1. 1. 8. 2. 2. 1. 8. 1. 1. 1. 6. 1.\n 1. 1. 2. 1. 1. 1. 4. 1. 1. 1. 8. 1. 1. 8. 8. 1. 1. 1. 2. 1. 8. 1. 1. 1.\n 2. 1. 1. 1. 1. 1. 1. 2. 1. 1. 1. 2. 1. 1. 1. 1. 1. 2. 1. 1. 1. 1. 1. 1.\n 8. 1. 1. 1. 1. 1. 1. 1. 1. 6. 1. 1. 1. 6. 1. 1. 4. 1. 1. 1. 1. 1. 1. 8.\n 1. 1. 8. 1. 1. 1. 1. 1. 1. 8. 1. 2. 1. 1. 1. 1. 1. 6. 1. 1. 1. 1. 2. 1.\n 1. 6. 1. 2. 8. 8. 8. 6. 1. 1. 8. 1. 1. 1. 8. 1. 1. 1. 1. 1. 1. 1. 1. 1.\n 1. 1. 1. 1. 1. 1. 1. 6. 1. 1. 2. 1. 1. 1. 1. 1. 1. 1. 1. 6. 8. 1. 8. 1.\n 8. 1. 1. 1. 1. 1. 1. 1. 1. 1. 8. 1. 1. 4. 6. 1. 1. 1. 8. 1. 1. 1. 1. 2.\n 2. 1. 1. 1. 8. 1. 1. 8. 8. 8. 1. 1. 1. 1. 1. 1. 1. 4. 6. 1. 1. 1. 1. 2.\n 1. 8. 1. 2. 8. 8. 4. 1. 1. 6. 6. 1. 1. 1. 1. 1. 1. 2. 4. 1. 1. 1. 8. 4.\n 1. 1. 6. 8. 1. 1. 1. 1. 6. 1. 6. 1. 1. 2. 4. 1. 1. 1. 8. 1. 1. 1. 1. 1.\n 1. 1. 8. 1. 1. 2. 1. 6. 1. 1. 1. 1. 1. 4. 1. 1. 1. 8. 1. 8. 1. 2. 1. 1.\n 1. 1. 1. 1. 2. 6. 1. 1. 8. 1. 1. 1. 1. 1. 1. 6. 1. 2. 1. 1. 2. 8. 1. 1.\n 1. 1. 1. 1. 1. 1. 8. 1. 1. 1. 1. 1. 1. 1. 2. 1. 1. 1. 1. 6. 1. 2. 6. 2.\n 1. 1. 1. 1. 2. 6. 1. 1. 1. 1. 1. 2. 1. 6. 1. 2. 1. 1. 1. 1. 1. 1. 1. 1.\n 1. 6. 8. 4. 1. 1. 1. 1. 2. 6. 1. 1. 1. 1. 1. 1. 1. 8. 1. 1. 1. 1. 1. 1.\n 1. 8. 1. 1. 1. 1. 1. 1. 1. 6. 6. 1.]\ncluster 2\nNumber of elements in a cluster: 390\n[7. 2. 7. 2. 2. 2. 2. 2. 2. 2. 7. 2. 2. 3. 7. 2. 9. 3. 7. 7. 2. 2. 2. 2.\n 7. 7. 2. 1. 7. 2. 2. 8. 2. 2. 1. 2. 7. 2. 7. 2. 2. 2. 7. 2. 2. 9. 2. 2.\n 2. 2. 2. 2. 3. 2. 7. 7. 2. 2. 2. 2. 7. 2. 3. 2. 7. 7. 7. 7. 2. 2. 2. 7.\n 2. 2. 2. 2. 2. 2. 2. 2. 2. 7. 2. 3. 2. 2. 2. 7. 2. 2. 3. 2. 7. 2. 3. 2.\n 2. 2. 2. 2. 2. 7. 7. 7. 2. 2. 2. 3. 7. 7. 3. 3. 2. 3. 7. 2. 2. 2. 2. 9.\n 7. 2. 2. 2. 2. 2. 8. 2. 2. 2. 2. 8. 7. 2. 8. 2. 7. 2. 2. 8. 2. 2. 2. 2.\n 2. 3. 2. 2. 7. 2. 2. 2. 7. 7. 2. 7. 2. 2. 8. 2. 2. 2. 2. 2. 7. 2. 2. 2.\n 3. 2. 7. 2. 2. 7. 2. 7. 2. 2. 7. 2. 2. 2. 3. 7. 2. 8. 2. 2. 7. 3. 2. 3.\n 7. 2. 2. 2. 2. 7. 3. 9. 2. 3. 2. 7. 7. 2. 7. 2. 2. 7. 7. 2. 2. 2. 2. 2.\n 2. 8. 2. 7. 7. 2. 2. 2. 2. 2. 2. 7. 2. 7. 2. 2. 3. 2. 7. 2. 2. 2. 2. 2.\n 8. 2. 9. 2. 3. 2. 2. 2. 2. 2. 7. 2. 7. 2. 2. 3. 2. 2. 7. 2. 2. 7. 7. 2.\n 8. 2. 7. 7. 2. 2. 7. 2. 7. 7. 2. 7. 3. 3. 2. 2. 7. 7. 2. 2. 2. 2. 3. 2.\n 2. 2. 2. 3. 7. 7. 2. 7. 2. 2. 2. 7. 2. 7. 7. 2. 7. 8. 2. 2. 2. 2. 7. 7.\n 8. 2. 2. 2. 2. 2. 7. 2. 2. 3. 2. 2. 2. 3. 2. 2. 2. 3. 8. 2. 7. 2. 2. 9.\n 2. 2. 7. 2. 2. 3. 2. 3. 2. 3. 9. 1. 2. 3. 7. 2. 2. 7. 2. 2. 2. 2. 2. 2.\n 1. 2. 3. 2. 2. 7. 3. 2. 7. 2. 2. 3. 2. 7. 2. 2. 2. 2. 2. 2. 2. 2. 2. 2.\n 2. 1. 2. 2. 2. 3.]\ncluster 3\nNumber of elements in a cluster: 615\n[3. 5. 2. 2. 3. 2. 3. 3. 3. 9. 3. 3. 9. 3. 9. 3. 3. 9. 2. 3. 2. 9. 3. 3.\n 2. 3. 3. 3. 3. 3. 3. 9. 3. 2. 3. 3. 9. 2. 3. 3. 3. 9. 3. 3. 3. 3. 3. 3.\n 3. 3. 9. 9. 3. 3. 9. 9. 3. 3. 2. 3. 3. 9. 2. 3. 9. 3. 3. 3. 8. 3. 3. 5.\n 3. 3. 9. 2. 3. 3. 2. 1. 3. 3. 3. 2. 3. 3. 3. 9. 2. 9. 3. 9. 3. 3. 3. 3.\n 3. 3. 9. 3. 3. 3. 2. 3. 3. 3. 9. 9. 8. 3. 3. 3. 2. 3. 3. 9. 3. 3. 5. 3.\n 3. 3. 3. 2. 9. 3. 2. 3. 3. 3. 3. 3. 3. 2. 3. 1. 3. 3. 3. 3. 5. 9. 2. 5.\n 3. 3. 3. 3. 3. 9. 3. 2. 9. 3. 3. 3. 5. 3. 2. 2. 3. 9. 9. 9. 3. 3. 3. 3.\n 3. 5. 2. 3. 9. 3. 3. 9. 3. 3. 3. 9. 2. 3. 1. 3. 3. 3. 9. 3. 3. 2. 3. 2.\n 5. 1. 3. 3. 3. 2. 9. 3. 2. 3. 3. 5. 9. 9. 9. 2. 3. 3. 9. 3. 2. 3. 9. 9.\n 3. 3. 9. 3. 3. 3. 3. 3. 3. 3. 5. 9. 9. 3. 9. 8. 9. 3. 3. 2. 9. 2. 2. 3.\n 3. 2. 9. 3. 3. 3. 2. 3. 3. 9. 5. 9. 2. 3. 3. 9. 3. 2. 3. 9. 3. 3. 9. 3.\n 3. 3. 3. 9. 9. 9. 5. 5. 9. 3. 3. 3. 3. 3. 3. 3. 5. 5. 3. 2. 9. 3. 3. 5.\n 5. 3. 3. 9. 5. 3. 3. 3. 3. 3. 3. 5. 3. 3. 3. 9. 9. 3. 9. 9. 3. 3. 9. 3.\n 3. 3. 9. 9. 3. 3. 9. 9. 2. 8. 3. 2. 5. 3. 3. 3. 5. 3. 9. 9. 3. 3. 3. 9.\n 3. 3. 2. 1. 9. 3. 2. 3. 3. 3. 2. 9. 3. 2. 9. 3. 3. 9. 3. 3. 3. 3. 3. 3.\n 3. 3. 2. 3. 1. 9. 3. 9. 9. 3. 2. 9. 2. 3. 9. 3. 3. 3. 3. 9. 3. 3. 9. 3.\n 9. 9. 3. 3. 3. 3. 3. 5. 3. 3. 3. 3. 2. 3. 3. 3. 9. 3. 9. 3. 3. 2. 9. 3.\n 3. 3. 8. 2. 3. 3. 3. 2. 5. 2. 8. 5. 2. 9. 9. 3. 3. 5. 9. 9. 9. 3. 3. 9.\n 3. 9. 3. 3. 3. 9. 2. 9. 3. 9. 9. 3. 3. 3. 3. 3. 9. 5. 3. 5. 3. 5. 5. 3.\n 2. 3. 3. 9. 3. 2. 3. 3. 9. 3. 3. 3. 3. 3. 3. 9. 9. 9. 8. 3. 2. 2. 3. 2.\n 3. 3. 9. 2. 5. 3. 2. 3. 3. 9. 2. 3. 3. 9. 3. 2. 5. 3. 3. 9. 3. 9. 3. 9.\n 3. 9. 3. 2. 3. 2. 1. 5. 3. 2. 5. 3. 3. 3. 3. 3. 3. 3. 2. 3. 3. 3. 3. 3.\n 3. 3. 3. 2. 3. 3. 9. 3. 3. 3. 3. 9. 3. 5. 3. 3. 3. 5. 3. 3. 2. 3. 9. 3.\n 3. 3. 5. 9. 5. 3. 3. 9. 9. 9. 3. 3. 3. 2. 2. 9. 3. 9. 5. 9. 3. 9. 1. 3.\n 2. 3. 3. 5. 3. 3. 9. 3. 3. 3. 9. 3. 3. 9. 3. 3. 2. 3. 2. 3. 5. 3. 3. 3.\n 3. 3. 3. 3. 3. 9. 9. 3. 3. 9. 9. 3. 2. 3. 9.]\ncluster 4\nNumber of elements in a cluster: 410\n[4. 4. 4. 4. 4. 4. 4. 7. 4. 7. 4. 4. 4. 4. 4. 4. 9. 4. 4. 4. 4. 4. 4. 4.\n 4. 4. 4. 4. 4. 4. 4. 4. 4. 4. 4. 1. 4. 4. 1. 4. 4. 4. 4. 4. 4. 4. 9. 4.\n 4. 4. 4. 4. 4. 4. 4. 1. 1. 4. 4. 1. 4. 4. 9. 4. 4. 4. 4. 4. 1. 4. 1. 4.\n 4. 1. 4. 4. 4. 4. 4. 4. 4. 4. 4. 4. 1. 4. 4. 9. 4. 4. 4. 4. 4. 4. 4. 4.\n 4. 4. 7. 4. 4. 4. 4. 4. 4. 4. 4. 4. 4. 4. 1. 4. 4. 1. 1. 4. 1. 7. 4. 4.\n 9. 1. 4. 4. 4. 4. 4. 4. 4. 4. 4. 4. 4. 4. 1. 4. 4. 4. 4. 4. 4. 4. 7. 4.\n 4. 4. 4. 4. 4. 4. 4. 4. 4. 4. 6. 4. 1. 1. 4. 4. 4. 4. 4. 1. 4. 4. 7. 4.\n 4. 4. 4. 4. 4. 4. 4. 4. 4. 4. 4. 4. 4. 4. 4. 4. 4. 1. 7. 4. 1. 4. 4. 4.\n 4. 4. 4. 6. 4. 4. 4. 4. 4. 4. 1. 1. 4. 4. 4. 4. 4. 4. 4. 4. 4. 4. 1. 4.\n 4. 1. 4. 4. 4. 4. 4. 4. 4. 1. 4. 4. 4. 4. 4. 4. 4. 4. 4. 4. 4. 4. 1. 4.\n 4. 4. 4. 4. 4. 4. 4. 4. 4. 4. 4. 4. 4. 4. 4. 4. 4. 4. 4. 4. 4. 0. 4. 4.\n 9. 1. 4. 1. 4. 4. 4. 4. 4. 4. 1. 4. 4. 4. 4. 4. 4. 4. 4. 4. 4. 4. 4. 4.\n 4. 1. 4. 4. 4. 4. 4. 4. 4. 1. 4. 4. 4. 4. 4. 4. 4. 4. 4. 4. 4. 4. 4. 1.\n 4. 4. 4. 1. 4. 4. 4. 4. 4. 4. 4. 4. 4. 4. 4. 4. 4. 4. 5. 4. 4. 4. 1. 4.\n 4. 4. 4. 4. 4. 4. 4. 4. 4. 4. 4. 4. 4. 4. 4. 4. 4. 7. 1. 4. 5. 4. 0. 4.\n 4. 4. 4. 4. 4. 4. 4. 4. 4. 4. 4. 4. 4. 1. 4. 4. 1. 4. 4. 4. 1. 4. 4. 4.\n 4. 4. 4. 1. 4. 4. 4. 4. 4. 4. 4. 4. 4. 4. 4. 4. 4. 4. 1. 4. 4. 4. 4. 7.\n 4. 4.]\ncluster 5\nNumber of elements in a cluster: 507\n[5. 9. 5. 5. 5. 3. 5. 3. 5. 9. 5. 5. 5. 5. 5. 5. 5. 5. 5. 1. 5. 5. 5. 3.\n 5. 5. 5. 5. 5. 5. 9. 9. 2. 5. 5. 5. 5. 2. 5. 5. 5. 5. 5. 5. 9. 9. 9. 1.\n 5. 5. 9. 5. 5. 5. 8. 5. 5. 5. 5. 5. 9. 5. 3. 2. 5. 5. 2. 2. 5. 8. 8. 5.\n 5. 8. 5. 5. 5. 5. 5. 5. 8. 1. 5. 5. 3. 5. 5. 5. 5. 5. 8. 5. 5. 5. 5. 5.\n 5. 5. 2. 9. 5. 2. 3. 5. 9. 9. 2. 5. 5. 5. 2. 5. 5. 5. 5. 5. 5. 5. 2. 5.\n 9. 5. 5. 5. 5. 5. 5. 5. 5. 5. 9. 5. 5. 5. 5. 5. 5. 5. 5. 5. 2. 3. 9. 5.\n 5. 5. 5. 5. 5. 5. 5. 5. 5. 5. 2. 5. 5. 5. 5. 5. 9. 5. 9. 5. 9. 5. 5. 5.\n 5. 5. 2. 5. 5. 3. 5. 5. 5. 5. 5. 5. 5. 5. 5. 5. 3. 5. 5. 5. 5. 5. 3. 5.\n 5. 5. 5. 5. 5. 5. 5. 5. 5. 3. 5. 5. 3. 5. 5. 5. 8. 5. 3. 5. 9. 5. 5. 2.\n 5. 2. 5. 5. 5. 5. 5. 2. 5. 5. 5. 5. 5. 9. 3. 3. 3. 5. 5. 5. 5. 5. 5. 8.\n 2. 5. 5. 5. 3. 5. 5. 5. 5. 5. 5. 5. 5. 5. 5. 5. 5. 5. 2. 8. 5. 5. 5. 5.\n 2. 5. 5. 5. 5. 5. 5. 5. 5. 5. 5. 1. 9. 5. 5. 5. 5. 5. 2. 5. 5. 5. 5. 3.\n 3. 5. 5. 5. 5. 4. 5. 5. 5. 5. 5. 5. 5. 5. 5. 5. 5. 5. 4. 3. 5. 5. 5. 3.\n 5. 5. 5. 5. 5. 5. 5. 4. 9. 5. 3. 5. 5. 2. 5. 5. 2. 9. 5. 5. 3. 5. 3. 5.\n 2. 5. 5. 5. 5. 5. 2. 8. 5. 5. 2. 9. 5. 5. 9. 5. 5. 4. 5. 5. 5. 5. 5. 5.\n 5. 5. 5. 5. 5. 5. 1. 5. 1. 5. 5. 9. 5. 2. 5. 5. 5. 5. 2. 5. 3. 5. 5. 5.\n 2. 5. 5. 9. 2. 5. 2. 5. 5. 5. 5. 5. 5. 5. 1. 5. 5. 1. 5. 5. 5. 5. 9. 5.\n 1. 5. 9. 5. 5. 5. 3. 5. 5. 5. 2. 5. 5. 5. 5. 4. 5. 5. 5. 5. 2. 5. 5. 5.\n 5. 5. 5. 5. 5. 5. 8. 2. 2. 5. 5. 5. 5. 5. 2. 5. 5. 5. 3. 9. 5. 5. 5. 9.\n 9. 5. 5. 9. 4. 5. 2. 3. 5. 5. 5. 5. 4. 5. 5. 5. 5. 5. 5. 5. 4. 1. 5. 9.\n 3. 1. 5. 5. 5. 5. 5. 5. 5. 4. 5. 5. 5. 3. 5. 5. 4. 9. 5. 5. 5. 5. 5. 5.\n 1. 5. 5.]\ncluster 6\nNumber of elements in a cluster: 492\n[6. 6. 6. 6. 4. 6. 6. 6. 6. 6. 6. 4. 6. 6. 6. 6. 6. 6. 6. 4. 9. 6. 6. 6.\n 6. 6. 2. 6. 6. 6. 6. 6. 6. 6. 6. 6. 4. 6. 6. 6. 6. 6. 6. 5. 6. 4. 6. 6.\n 6. 6. 6. 6. 6. 5. 6. 6. 6. 6. 6. 6. 6. 6. 6. 6. 6. 6. 6. 6. 6. 6. 6. 6.\n 6. 6. 6. 6. 6. 6. 6. 6. 6. 6. 4. 6. 6. 6. 6. 6. 6. 6. 6. 6. 6. 6. 6. 6.\n 6. 6. 2. 6. 6. 4. 0. 6. 0. 6. 6. 6. 2. 6. 6. 2. 6. 4. 6. 5. 6. 6. 6. 6.\n 6. 4. 6. 6. 6. 6. 6. 6. 6. 6. 6. 6. 6. 6. 4. 6. 8. 6. 6. 6. 6. 6. 2. 6.\n 6. 6. 6. 6. 6. 6. 6. 6. 6. 6. 6. 6. 4. 6. 6. 6. 6. 6. 6. 6. 5. 6. 6. 6.\n 6. 6. 6. 6. 6. 6. 6. 4. 6. 2. 6. 6. 6. 5. 6. 6. 6. 0. 6. 6. 6. 4. 6. 6.\n 6. 6. 6. 6. 4. 6. 6. 4. 6. 2. 6. 6. 5. 6. 6. 8. 6. 6. 6. 6. 4. 6. 6. 6.\n 6. 6. 6. 2. 6. 6. 6. 6. 6. 6. 5. 6. 6. 6. 6. 5. 6. 6. 6. 6. 6. 6. 6. 6.\n 6. 6. 6. 6. 6. 0. 6. 5. 6. 5. 4. 6. 6. 6. 6. 6. 4. 6. 6. 6. 6. 6. 6. 6.\n 4. 6. 6. 6. 6. 6. 6. 6. 6. 6. 6. 6. 0. 2. 6. 6. 4. 6. 6. 6. 2. 6. 6. 5.\n 5. 6. 6. 6. 5. 5. 6. 6. 6. 2. 6. 6. 6. 6. 6. 4. 6. 2. 2. 6. 6. 0. 6. 6.\n 6. 5. 6. 6. 6. 0. 6. 6. 6. 6. 6. 6. 6. 6. 6. 6. 6. 6. 4. 1. 6. 6. 6. 6.\n 4. 6. 6. 6. 6. 6. 6. 6. 6. 6. 6. 6. 6. 6. 6. 4. 2. 6. 6. 6. 6. 6. 4. 6.\n 6. 6. 6. 6. 6. 6. 6. 2. 6. 2. 6. 6. 6. 6. 6. 6. 6. 6. 6. 6. 6. 6. 0. 6.\n 6. 6. 6. 0. 6. 6. 6. 6. 6. 2. 0. 5. 6. 6. 6. 0. 6. 6. 6. 6. 6. 1. 6. 6.\n 6. 6. 6. 6. 6. 6. 6. 6. 6. 6. 6. 2. 6. 6. 6. 6. 6. 2. 6. 6. 6. 6. 4. 6.\n 4. 4. 2. 6. 6. 6. 6. 1. 6. 6. 6. 6. 6. 6. 6. 6. 6. 2. 6. 0. 6. 6. 6. 6.\n 6. 6. 6. 6. 2. 6. 6. 6. 6. 6. 6. 6. 6. 6. 6. 6. 6. 6. 6. 6. 6. 6. 6. 6.\n 6. 6. 6. 6. 6. 6. 6. 6. 6. 6. 6. 6.]\ncluster 7\nNumber of elements in a cluster: 398\n[7. 8. 7. 7. 7. 7. 3. 7. 4. 7. 7. 7. 7. 7. 5. 7. 3. 7. 1. 7. 7. 7. 7. 4.\n 7. 7. 8. 7. 7. 7. 4. 7. 7. 7. 7. 1. 1. 7. 7. 7. 7. 7. 3. 7. 7. 8. 7. 7.\n 7. 7. 7. 7. 7. 7. 1. 7. 7. 7. 1. 7. 7. 7. 7. 7. 7. 7. 7. 7. 7. 5. 7. 7.\n 9. 7. 4. 7. 8. 7. 7. 7. 7. 7. 7. 7. 7. 7. 7. 4. 7. 7. 7. 7. 7. 9. 7. 7.\n 8. 7. 7. 7. 7. 7. 7. 7. 7. 9. 7. 7. 7. 7. 7. 7. 7. 7. 7. 7. 7. 7. 7. 9.\n 7. 7. 8. 7. 7. 7. 7. 7. 7. 7. 7. 7. 7. 7. 7. 7. 7. 7. 7. 8. 8. 7. 7. 4.\n 7. 7. 7. 7. 7. 8. 7. 8. 7. 7. 7. 8. 4. 8. 7. 7. 7. 7. 7. 7. 7. 7. 7. 7.\n 7. 7. 7. 7. 7. 7. 7. 7. 7. 7. 1. 7. 7. 8. 7. 8. 1. 7. 7. 7. 7. 7. 7. 7.\n 7. 7. 1. 7. 7. 7. 7. 7. 7. 7. 4. 8. 1. 7. 7. 8. 7. 7. 7. 7. 7. 7. 5. 3.\n 7. 7. 7. 7. 7. 9. 7. 9. 9. 7. 7. 7. 7. 7. 7. 7. 7. 7. 7. 7. 7. 7. 7. 7.\n 7. 7. 7. 7. 7. 7. 7. 8. 8. 1. 7. 7. 7. 7. 7. 7. 9. 7. 7. 7. 7. 7. 7. 7.\n 7. 7. 7. 7. 7. 7. 7. 7. 7. 8. 7. 7. 7. 7. 7. 7. 7. 7. 7. 7. 8. 7. 7. 1.\n 1. 7. 7. 7. 7. 7. 7. 7. 7. 7. 7. 7. 7. 9. 4. 7. 7. 7. 7. 7. 7. 7. 7. 5.\n 7. 7. 8. 7. 7. 7. 7. 7. 7. 7. 7. 8. 7. 7. 7. 7. 7. 7. 7. 7. 7. 7. 7. 7.\n 7. 7. 7. 7. 7. 7. 7. 7. 7. 7. 7. 7. 7. 7. 7. 7. 7. 7. 7. 7. 7. 7. 7. 7.\n 7. 7. 7. 7. 7. 7. 5. 7. 9. 7. 7. 7. 7. 7. 7. 7. 7. 7. 7. 7. 7. 3. 7. 7.\n 7. 7. 7. 8. 7. 7. 7. 7. 9. 7. 7. 7. 7. 7.]\ncluster 8\nNumber of elements in a cluster: 502\n[8. 9. 8. 9. 8. 8. 8. 8. 9. 2. 9. 3. 8. 8. 8. 8. 8. 2. 8. 9. 8. 9. 8. 2.\n 8. 8. 8. 8. 8. 8. 8. 9. 8. 9. 8. 8. 8. 8. 3. 8. 9. 8. 8. 9. 8. 8. 9. 8.\n 8. 8. 8. 8. 8. 8. 8. 9. 8. 8. 8. 8. 8. 2. 9. 9. 8. 9. 8. 8. 8. 8. 3. 8.\n 8. 4. 8. 8. 2. 8. 8. 8. 9. 8. 3. 9. 9. 8. 8. 8. 2. 8. 9. 8. 8. 8. 8. 8.\n 2. 9. 3. 8. 3. 5. 8. 9. 8. 8. 2. 8. 8. 3. 8. 3. 8. 8. 9. 4. 9. 9. 4. 8.\n 8. 8. 9. 9. 9. 3. 2. 8. 9. 9. 8. 8. 8. 9. 8. 8. 4. 2. 8. 9. 3. 9. 8. 9.\n 9. 8. 9. 8. 8. 0. 8. 9. 8. 8. 8. 8. 8. 3. 8. 8. 9. 9. 9. 9. 8. 4. 9. 8.\n 8. 8. 9. 8. 8. 8. 8. 8. 8. 8. 8. 5. 3. 8. 8. 8. 3. 8. 2. 8. 4. 4. 2. 9.\n 8. 3. 2. 9. 9. 9. 8. 2. 9. 8. 9. 8. 9. 8. 9. 8. 3. 8. 4. 2. 8. 8. 4. 2.\n 8. 9. 8. 8. 8. 8. 8. 2. 8. 8. 9. 8. 8. 8. 8. 8. 8. 8. 8. 8. 9. 8. 8. 5.\n 8. 8. 8. 2. 8. 8. 4. 8. 8. 9. 8. 8. 8. 4. 8. 8. 2. 8. 8. 3. 8. 8. 8. 8.\n 9. 8. 3. 8. 8. 8. 2. 8. 8. 8. 8. 4. 8. 9. 9. 8. 8. 8. 8. 8. 8. 8. 8. 8.\n 8. 8. 9. 8. 9. 8. 8. 8. 2. 8. 2. 8. 8. 8. 8. 8. 7. 9. 8. 9. 8. 8. 8. 8.\n 8. 8. 8. 8. 9. 8. 8. 8. 8. 8. 8. 8. 8. 8. 8. 8. 8. 9. 8. 3. 8. 2. 8. 5.\n 8. 8. 8. 8. 2. 8. 3. 9. 8. 9. 8. 8. 8. 8. 8. 9. 8. 8. 8. 8. 8. 9. 8. 9.\n 8. 8. 8. 8. 8. 8. 9. 8. 2. 8. 8. 8. 8. 9. 8. 8. 6. 9. 8. 8. 9. 8. 3. 9.\n 9. 8. 8. 3. 8. 8. 8. 8. 6. 8. 8. 8. 2. 8. 2. 8. 8. 3. 8. 8. 9. 8. 2. 2.\n 8. 2. 9. 8. 3. 8. 8. 2. 8. 8. 8. 8. 9. 8. 9. 2. 9. 9. 4. 8. 3. 2. 8. 8.\n 8. 8. 8. 9. 8. 3. 9. 4. 3. 9. 8. 8. 8. 8. 8. 8. 8. 8. 9. 8. 8. 8. 8. 9.\n 8. 8. 8. 8. 8. 8. 8. 8. 9. 8. 9. 2. 8. 8. 8. 5. 9. 2. 8. 8. 8. 2. 2. 8.\n 8. 8. 8. 8. 8. 8. 8. 8. 9. 8. 8. 8. 8. 9. 9. 8. 2. 3. 8. 8. 6. 8.]\ncluster 9\nNumber of elements in a cluster: 229\n[4. 9. 1. 9. 5. 4. 9. 9. 9. 9. 9. 1. 9. 9. 9. 5. 9. 9. 1. 9. 9. 9. 9. 4.\n 9. 9. 9. 9. 9. 9. 9. 4. 1. 9. 9. 9. 1. 9. 1. 9. 9. 1. 9. 9. 9. 9. 9. 9.\n 5. 9. 5. 9. 9. 1. 1. 9. 4. 9. 9. 4. 9. 9. 9. 9. 9. 1. 5. 9. 9. 9. 1. 9.\n 9. 5. 9. 9. 9. 9. 9. 7. 5. 9. 7. 9. 8. 1. 8. 9. 9. 9. 1. 9. 4. 5. 9. 7.\n 9. 9. 9. 1. 5. 9. 9. 9. 9. 1. 1. 1. 9. 9. 4. 9. 9. 9. 5. 5. 9. 9. 9. 9.\n 9. 1. 1. 9. 9. 5. 9. 9. 9. 9. 4. 9. 7. 9. 9. 9. 9. 9. 9. 9. 9. 9. 9. 9.\n 9. 9. 9. 9. 1. 5. 9. 9. 9. 9. 9. 9. 9. 5. 9. 1. 9. 7. 9. 9. 5. 9. 9. 9.\n 4. 9. 9. 9. 9. 9. 9. 9. 1. 9. 9. 9. 9. 4. 9. 7. 9. 9. 9. 9. 1. 9. 1. 9.\n 9. 9. 9. 8. 9. 9. 5. 9. 9. 1. 9. 9. 9. 9. 9. 9. 5. 3. 1. 9. 9. 8. 9. 9.\n 9. 9. 7. 1. 9. 9. 9. 9. 9. 1. 5. 9. 9.]\n"
     ]
    }
   ],
   "source": [
    "print_number_in_all_cluster(Output)"
   ]
  },
  {
   "cell_type": "code",
   "execution_count": 60,
   "id": "34e5eda4",
   "metadata": {},
   "outputs": [
    {
     "output_type": "stream",
     "name": "stdout",
     "text": [
      "Accurcy in test Dataset:\n83.54092526690391\n"
     ]
    }
   ],
   "source": [
    "measuring_accuracy(Centroids,Y_data,Y_label)"
   ]
  },
  {
   "cell_type": "code",
   "execution_count": null,
   "id": "9b684109",
   "metadata": {},
   "outputs": [],
   "source": []
  },
  {
   "cell_type": "code",
   "execution_count": null,
   "id": "054199c7-4fe1-470c-b49b-49c43c0895c9",
   "metadata": {},
   "outputs": [],
   "source": []
  }
 ],
 "metadata": {
  "kernelspec": {
   "display_name": "Python 3",
   "language": "python",
   "name": "python3"
  },
  "language_info": {
   "codemirror_mode": {
    "name": "ipython",
    "version": 3
   },
   "file_extension": ".py",
   "mimetype": "text/x-python",
   "name": "python",
   "nbconvert_exporter": "python",
   "pygments_lexer": "ipython3",
   "version": "3.8.5"
  }
 },
 "nbformat": 4,
 "nbformat_minor": 5
}